{
 "cells": [
  {
   "cell_type": "markdown",
   "metadata": {},
   "source": [
    "# to analyze the Table 2  1993 QS fe_13 data"
   ]
  },
  {
   "cell_type": "code",
   "execution_count": 1,
   "metadata": {},
   "outputs": [],
   "source": [
    "import json\n",
    "import pickle\n",
    "import fnmatch\n",
    "import matplotlib.pyplot as plt\n",
    "import numpy as np\n",
    "from scipy import stats\n",
    "import ChiantiPy.tools.util as chutil\n",
    "import ChiantiPy.model as mdl\n",
    "import ChiantiPy.model.Maker as mm\n",
    "import ChiantiPy.Gui as chGui"
   ]
  },
  {
   "cell_type": "code",
   "execution_count": 2,
   "metadata": {},
   "outputs": [],
   "source": [
    "%autoreload 3"
   ]
  },
  {
   "cell_type": "code",
   "execution_count": 3,
   "metadata": {},
   "outputs": [],
   "source": [
    "matplotlib qt"
   ]
  },
  {
   "cell_type": "code",
   "execution_count": 78,
   "metadata": {},
   "outputs": [
    {
     "data": {
      "text/plain": [
       "'/home/ken/chianti/chiantipy/test_notebook'"
      ]
     },
     "execution_count": 78,
     "metadata": {},
     "output_type": "execute_result"
    }
   ],
   "source": [
    "pwd"
   ]
  },
  {
   "cell_type": "code",
   "execution_count": 79,
   "metadata": {},
   "outputs": [],
   "source": [
    "myIon = 'fe_13'"
   ]
  },
  {
   "cell_type": "code",
   "execution_count": 80,
   "metadata": {},
   "outputs": [],
   "source": [
    "nameDict = chutil.convertName(myIon)"
   ]
  },
  {
   "cell_type": "code",
   "execution_count": 81,
   "metadata": {},
   "outputs": [
    {
     "data": {
      "text/plain": [
       "dict_keys(['Z', 'Ion', 'Dielectronic', 'Element', 'higher', 'lower', 'filename', 'iso', 'isoEl', 'spectroscopic', 'experimental'])"
      ]
     },
     "execution_count": 81,
     "metadata": {},
     "output_type": "execute_result"
    }
   ],
   "source": [
    "nameDict.keys()"
   ]
  },
  {
   "cell_type": "code",
   "execution_count": 82,
   "metadata": {},
   "outputs": [
    {
     "data": {
      "text/plain": [
       "'Fe XIII'"
      ]
     },
     "execution_count": 82,
     "metadata": {},
     "output_type": "execute_result"
    }
   ],
   "source": [
    "nameDict['spectroscopic']"
   ]
  },
  {
   "cell_type": "code",
   "execution_count": 83,
   "metadata": {},
   "outputs": [
    {
     "data": {
      "text/plain": [
       "'Fe 12+'"
      ]
     },
     "execution_count": 83,
     "metadata": {},
     "output_type": "execute_result"
    }
   ],
   "source": [
    "nameDict['experimental']"
   ]
  },
  {
   "cell_type": "code",
   "execution_count": 84,
   "metadata": {},
   "outputs": [
    {
     "name": "stdout",
     "output_type": "stream",
     "text": [
      "\u001b[0m\u001b[00m0.test.notebooks.in.git.dir\u001b[0m      \u001b[00mmatches.pkl\u001b[0m\r\n",
      "\u001b[00m1_fe_13_demo_make_match.html\u001b[0m     \u001b[00mpredictPrint.txt\u001b[0m\r\n",
      "\u001b[00;32m1_fe_13_demo_make_match.ipynb\u001b[0m*   \u001b[00mtab2_1993_qs_fe_13_1dsearch.pkl\u001b[0m\r\n",
      "\u001b[00m2_fe_13_demo_check_model.html\u001b[0m    \u001b[00;32mtab2_1993_qs_fe_13.json\u001b[0m*\r\n",
      "\u001b[00m2_fe_13_demo_check_model.ipynb\u001b[0m   \u001b[00mtab2_1993_qs_fe_13_match.pkl\u001b[0m\r\n",
      "\u001b[00;32m3_fe_13_demo_chi2_search.ipynb\u001b[0m*  \u001b[00mtab2_fe_13_diffPrintFinal.txt\u001b[0m\r\n",
      "\u001b[00mdiffPrint.txt\u001b[0m                    \u001b[00mtable2-1993-QS_fe_13_diff_print.txt\u001b[0m\r\n",
      "\u001b[00mfe_13_demo_make_model.html\u001b[0m       \u001b[00mtable2-1993-QS_fe_13_predict_print.txt\u001b[0m\r\n"
     ]
    }
   ],
   "source": [
    "ls"
   ]
  },
  {
   "cell_type": "markdown",
   "metadata": {},
   "source": [
    "## fe_13 data is in the .json file"
   ]
  },
  {
   "cell_type": "code",
   "execution_count": 85,
   "metadata": {},
   "outputs": [],
   "source": [
    "tableName = 'tab2_1993_qs_fe_13.json'"
   ]
  },
  {
   "cell_type": "code",
   "execution_count": 86,
   "metadata": {},
   "outputs": [],
   "source": [
    "with open(tableName, 'r') as inpt:\n",
    "    specData = json.load(inpt)"
   ]
  },
  {
   "cell_type": "code",
   "execution_count": 87,
   "metadata": {},
   "outputs": [
    {
     "data": {
      "text/plain": [
       "['Brosius, Jeffrey W.; Davila, Joseph M.; Thomas, Roger J.; Monsignori-Fossi, Brunella C.',\n",
       " 'Measuring Active and Quiet-Sun Coronal Plasma Properties with Extreme-Ultraviolet Spectra from SERTS ',\n",
       " '1996, Astrophysical Journal Supplement v.106, p.143',\n",
       " 'ADSref:  https://ui.adsabs.harvard.edu/abs/1996ApJS..106..143B/abstract']"
      ]
     },
     "execution_count": 87,
     "metadata": {},
     "output_type": "execute_result"
    }
   ],
   "source": [
    "specData['ref']"
   ]
  },
  {
   "cell_type": "code",
   "execution_count": 88,
   "metadata": {},
   "outputs": [
    {
     "data": {
      "text/plain": [
       "dict_keys(['filename', 'wvl0', 'intensity', 'intStd', 'dwvl', 'ions', 'ref'])"
      ]
     },
     "execution_count": 88,
     "metadata": {},
     "output_type": "execute_result"
    }
   ],
   "source": [
    "specData.keys()"
   ]
  },
  {
   "cell_type": "markdown",
   "metadata": {},
   "source": [
    "## in notebook #1, created the matches pickle file"
   ]
  },
  {
   "cell_type": "code",
   "execution_count": 89,
   "metadata": {},
   "outputs": [],
   "source": [
    "wghtFactor = 0.2"
   ]
  },
  {
   "cell_type": "code",
   "execution_count": 90,
   "metadata": {},
   "outputs": [],
   "source": [
    "mm.maker?"
   ]
  },
  {
   "cell_type": "code",
   "execution_count": 91,
   "metadata": {},
   "outputs": [
    {
     "name": "stdout",
     "output_type": "stream",
     "text": [
      " XUVTOP = /data2/a2git/chdbase/\n",
      " abundanceName = sun_photospheric_2015_scott\n",
      " minimum abundance =   1.00e+01\n",
      " # of observables / reduce # = 9        3.00\n"
     ]
    }
   ],
   "source": [
    "box = mm.maker(specData, wghtFactor=wghtFactor, verbose = True)"
   ]
  },
  {
   "cell_type": "markdown",
   "metadata": {},
   "source": [
    "## the match pickle file is tab2_1993_qs_fe_13_match.pkl"
   ]
  },
  {
   "cell_type": "code",
   "execution_count": 92,
   "metadata": {},
   "outputs": [
    {
     "name": "stdout",
     "output_type": "stream",
     "text": [
      " EmIndices not in matchDict\n",
      "Em not in matchDict\n",
      "Em not in matchDict\n",
      "NT not in matchDict\n"
     ]
    }
   ],
   "source": [
    "box.loadMatch('tab2_1993_qs_fe_13_match.pkl')"
   ]
  },
  {
   "cell_type": "code",
   "execution_count": 93,
   "metadata": {},
   "outputs": [
    {
     "name": "stdout",
     "output_type": "stream",
     "text": [
      " 0  311.6\n",
      " 1  312.2\n",
      " 2  312.9\n",
      " 3  318.1\n",
      " 4  320.8\n",
      " 5  321.5\n",
      " 6  348.2\n",
      " 7  359.7\n",
      " 8  359.9\n"
     ]
    }
   ],
   "source": [
    "plt.figure()\n",
    "box.emPlot(vs='d')\n",
    "plt.text(1.e+7, 3.e+26, myIon, horizontalalignment='center', fontsize=16)\n",
    "plt.xlabel('Electron Density (cm$^{-3}$)', fontsize=14)\n",
    "plt.ylabel('Emissin Measure (cm$^{-5}$)', fontsize=14)\n",
    "plt.tight_layout()"
   ]
  },
  {
   "cell_type": "code",
   "execution_count": 94,
   "metadata": {},
   "outputs": [
    {
     "name": "stdout",
     "output_type": "stream",
     "text": [
      " # of density values   241\n"
     ]
    }
   ],
   "source": [
    "print(' # of density values %5i'%(box.EDensity.size))"
   ]
  },
  {
   "cell_type": "markdown",
   "metadata": {},
   "source": [
    "## from the plot, a density of 7.e+8  and an em of 1.e+27 is estimated"
   ]
  },
  {
   "cell_type": "code",
   "execution_count": 95,
   "metadata": {},
   "outputs": [
    {
     "data": {
      "text/plain": [
       "' Dindex =   114'"
      ]
     },
     "execution_count": 95,
     "metadata": {},
     "output_type": "execute_result"
    }
   ],
   "source": [
    "Dindex = np.argmin(np.abs(box.EDensity - 7.e+8))\n",
    "' Dindex = %5i'%(Dindex)"
   ]
  },
  {
   "cell_type": "code",
   "execution_count": 96,
   "metadata": {},
   "outputs": [
    {
     "name": "stdout",
     "output_type": "stream",
     "text": [
      "density set to   7.08e+08\n"
     ]
    }
   ],
   "source": [
    "box.emSetIndices(Dindex)\n",
    "print('density set to %10.2e'%(box.EDensity[Dindex]))"
   ]
  },
  {
   "cell_type": "code",
   "execution_count": 97,
   "metadata": {},
   "outputs": [
    {
     "data": {
      "text/plain": [
       "' em    1.00e+27  emLog      27.00'"
      ]
     },
     "execution_count": 97,
     "metadata": {},
     "output_type": "execute_result"
    }
   ],
   "source": [
    "em = 1.e+27\n",
    "emLog = np.log10(em)\n",
    "' em  %10.2e  emLog %10.2f'%(em, emLog)"
   ]
  },
  {
   "cell_type": "code",
   "execution_count": 98,
   "metadata": {},
   "outputs": [],
   "source": [
    "box.emSet(emLog)"
   ]
  },
  {
   "cell_type": "markdown",
   "metadata": {},
   "source": [
    "## can reset the WghtFactor"
   ]
  },
  {
   "cell_type": "code",
   "execution_count": 99,
   "metadata": {},
   "outputs": [
    {
     "data": {
      "text/plain": [
       "0.2"
      ]
     },
     "execution_count": 99,
     "metadata": {},
     "output_type": "execute_result"
    }
   ],
   "source": [
    "box.WghtFactor"
   ]
  },
  {
   "cell_type": "code",
   "execution_count": 100,
   "metadata": {},
   "outputs": [],
   "source": [
    "box.WghtFactor = 0.2"
   ]
  },
  {
   "cell_type": "code",
   "execution_count": 101,
   "metadata": {},
   "outputs": [],
   "source": [
    "box.predict()"
   ]
  },
  {
   "cell_type": "code",
   "execution_count": 103,
   "metadata": {},
   "outputs": [
    {
     "name": "stdout",
     "output_type": "stream",
     "text": [
      " cwd:  /home/ken/chianti/chiantipy/test_notebook\n",
      "   114     7.08e+08     1.78e+06     1.00e+27\n",
      "matchPkl tab2_1993_qs_fe_13_match.pkl \n",
      "wghtFactor      0.200\n",
      " -------------------------------------------------\n",
      "  iwvl    IonS        wvl        Int       Pred   Int/Pred        chi\n",
      "               wvl lvl1 lvl2                lower -                upper lineIdx predLine contribution\n",
      " -------------------------------------------------\n",
      "     0   fe_13    311.574   6.13e+00   3.38e+00      1.814      2.244\n",
      "         fe_13\n",
      "           311.547    2   12        3s2 3p2 3P1.0 - 3s 3p3 3P2.0            29     0   1.000\n",
      " -------------------------------------------------\n",
      " -------------------------------------------------\n",
      "     1   fe_13    312.171   1.78e+01   1.71e+01      1.042      0.202\n",
      "         fe_13\n",
      "           312.174    2   11        3s2 3p2 3P1.0 - 3s 3p3 3P1.0            24     0   1.000\n",
      " -------------------------------------------------\n",
      " -------------------------------------------------\n",
      "     2   fe_13    312.907   7.34e+00   7.17e+00      1.024      0.115\n",
      "         fe_13\n",
      "           312.868    2   10        3s2 3p2 3P1.0 - 3s 3p3 3P0.0            22     0   1.000\n",
      " -------------------------------------------------\n",
      " -------------------------------------------------\n",
      "     3   fe_13    318.129   6.09e+00   9.86e+00      0.618      3.096\n",
      "         fe_13\n",
      "           318.130    4   13        3s2 3p2 1D2.0 - 3s 3p3 1D2.0            31     0   1.000\n",
      " -------------------------------------------------\n",
      " -------------------------------------------------\n",
      "     4   fe_13    320.802   2.45e+01   2.39e+01      1.024      0.116\n",
      "         fe_13\n",
      "           320.800    3   12        3s2 3p2 3P2.0 - 3s 3p3 3P2.0            30     0   1.000\n",
      " -------------------------------------------------\n",
      " -------------------------------------------------\n",
      "     5   fe_13    321.464   8.64e+00   8.55e+00      1.010      0.049\n",
      "         fe_13\n",
      "           321.466    3   11        3s2 3p2 3P2.0 - 3s 3p3 3P1.0            25     0   1.000\n",
      " -------------------------------------------------\n",
      " -------------------------------------------------\n",
      "     6   fe_13    348.196   5.50e+01   3.93e+01      1.401      1.432\n",
      "         fe_13\n",
      "           348.183    1    7        3s2 3p2 3P0.0 - 3s 3p3 3D1.0            15     0   1.000\n",
      " -------------------------------------------------\n",
      " -------------------------------------------------\n",
      "     7   fe_13    359.658   2.84e+01   3.19e+01      0.891      0.614\n",
      "         fe_13\n",
      "           359.644    2    8        3s2 3p2 3P1.0 - 3s 3p3 3D2.0            18     0   1.000\n",
      " -------------------------------------------------\n",
      " -------------------------------------------------\n",
      "     8   fe_13    359.851   1.18e+01   1.03e+01      1.145      0.632\n",
      "         fe_13\n",
      "           359.839    2    7        3s2 3p2 3P1.0 - 3s 3p3 3D1.0            13     0   1.000\n",
      " -------------------------------------------------\n",
      " -------------------------------------------------\n"
     ]
    }
   ],
   "source": [
    "box.predictPrint(filename='tab2_fe_13_predictPrintPrior.txt')"
   ]
  },
  {
   "cell_type": "markdown",
   "metadata": {},
   "source": [
    "## brute force search of 1D density space"
   ]
  },
  {
   "cell_type": "code",
   "execution_count": 104,
   "metadata": {},
   "outputs": [
    {
     "name": "stdout",
     "output_type": "stream",
     "text": [
      " n lines =     9 \n",
      " input # of temperatures 241\n",
      " input temperature range   1.78e+06   1.78e+06 \n",
      " self.MinIndex =         0      self.MaxIndex idx =  240\n",
      " min T =       1.78e+06      max T =   1.78e+06\n",
      " log min T =      6.250  log max T =      6.250\n",
      "    0     0   1.00e+06    2.690e+01   7.92e+26   6.09e+01   9.00e+00 \n",
      "    1     1   1.06e+06    2.690e+01   7.92e+26   6.09e+01   9.00e+00 \n",
      "    2     2   1.12e+06    2.690e+01   7.92e+26   6.08e+01   9.00e+00 \n",
      "    3     3   1.19e+06    2.690e+01   7.92e+26   6.08e+01   9.00e+00 \n",
      "    4     4   1.26e+06    2.690e+01   7.92e+26   6.08e+01   9.00e+00 \n",
      "    5     5   1.33e+06    2.690e+01   7.93e+26   6.08e+01   9.00e+00 \n",
      "    6     6   1.41e+06    2.690e+01   7.93e+26   6.08e+01   9.00e+00 \n",
      "    7     7   1.50e+06    2.690e+01   7.93e+26   6.07e+01   9.00e+00 \n",
      "    8     8   1.58e+06    2.690e+01   7.93e+26   6.07e+01   9.00e+00 \n",
      "    9     9   1.68e+06    2.690e+01   7.93e+26   6.07e+01   9.00e+00 \n",
      "   10    10   1.78e+06    2.690e+01   7.93e+26   6.07e+01   9.00e+00 \n",
      "   11    11   1.88e+06    2.690e+01   7.93e+26   6.06e+01   9.00e+00 \n",
      "   12    12   2.00e+06    2.690e+01   7.93e+26   6.06e+01   9.00e+00 \n",
      "   13    13   2.11e+06    2.690e+01   7.93e+26   6.06e+01   9.00e+00 \n",
      "   14    14   2.24e+06    2.690e+01   7.94e+26   6.05e+01   9.00e+00 \n",
      "   15    15   2.37e+06    2.690e+01   7.94e+26   6.05e+01   9.00e+00 \n",
      "   16    16   2.51e+06    2.690e+01   7.94e+26   6.05e+01   9.00e+00 \n",
      "   17    17   2.66e+06    2.690e+01   7.94e+26   6.04e+01   9.00e+00 \n",
      "   18    18   2.82e+06    2.690e+01   7.94e+26   6.04e+01   9.00e+00 \n",
      "   19    19   2.99e+06    2.690e+01   7.94e+26   6.03e+01   9.00e+00 \n",
      "   20    20   3.16e+06    2.690e+01   7.95e+26   6.03e+01   9.00e+00 \n",
      "   21    21   3.35e+06    2.690e+01   7.95e+26   6.02e+01   9.00e+00 \n",
      "   22    22   3.55e+06    2.690e+01   7.95e+26   6.02e+01   9.00e+00 \n",
      "   23    23   3.76e+06    2.690e+01   7.95e+26   6.01e+01   9.00e+00 \n",
      "   24    24   3.98e+06    2.690e+01   7.96e+26   6.01e+01   9.00e+00 \n",
      "   25    25   4.22e+06    2.690e+01   7.96e+26   6.00e+01   9.00e+00 \n",
      "   26    26   4.47e+06    2.690e+01   7.96e+26   5.99e+01   9.00e+00 \n",
      "   27    27   4.73e+06    2.690e+01   7.96e+26   5.99e+01   9.00e+00 \n",
      "   28    28   5.01e+06    2.690e+01   7.97e+26   5.98e+01   9.00e+00 \n",
      "   29    29   5.31e+06    2.690e+01   7.97e+26   5.97e+01   9.00e+00 \n",
      "   30    30   5.62e+06    2.690e+01   7.97e+26   5.96e+01   9.00e+00 \n",
      "   31    31   5.96e+06    2.690e+01   7.98e+26   5.95e+01   9.00e+00 \n",
      "   32    32   6.31e+06    2.690e+01   7.98e+26   5.94e+01   9.00e+00 \n",
      "   33    33   6.68e+06    2.690e+01   7.99e+26   5.93e+01   9.00e+00 \n",
      "   34    34   7.08e+06    2.690e+01   7.99e+26   5.92e+01   9.00e+00 \n",
      "   35    35   7.50e+06    2.690e+01   8.00e+26   5.91e+01   9.00e+00 \n",
      "   36    36   7.94e+06    2.690e+01   8.00e+26   5.90e+01   9.00e+00 \n",
      "   37    37   8.41e+06    2.690e+01   8.01e+26   5.89e+01   9.00e+00 \n",
      "   38    38   8.91e+06    2.690e+01   8.01e+26   5.87e+01   9.00e+00 \n",
      "   39    39   9.44e+06    2.690e+01   8.02e+26   5.86e+01   9.00e+00 \n",
      "   40    40   1.00e+07    2.690e+01   8.02e+26   5.85e+01   9.00e+00 \n",
      "   41    41   1.06e+07    2.690e+01   8.03e+26   5.83e+01   9.00e+00 \n",
      "   42    42   1.12e+07    2.691e+01   8.04e+26   5.81e+01   9.00e+00 \n",
      "   43    43   1.19e+07    2.691e+01   8.04e+26   5.80e+01   9.00e+00 \n",
      "   44    44   1.26e+07    2.691e+01   8.05e+26   5.78e+01   9.00e+00 \n",
      "   45    45   1.33e+07    2.691e+01   8.06e+26   5.76e+01   9.00e+00 \n",
      "   46    46   1.41e+07    2.691e+01   8.07e+26   5.74e+01   9.00e+00 \n",
      "   47    47   1.50e+07    2.691e+01   8.08e+26   5.72e+01   9.00e+00 \n",
      "   48    48   1.58e+07    2.691e+01   8.09e+26   5.69e+01   9.00e+00 \n",
      "   49    49   1.68e+07    2.691e+01   8.10e+26   5.67e+01   9.00e+00 \n",
      "   50    50   1.78e+07    2.691e+01   8.11e+26   5.64e+01   9.00e+00 \n",
      "   51    51   1.88e+07    2.691e+01   8.12e+26   5.62e+01   9.00e+00 \n",
      "   52    52   2.00e+07    2.691e+01   8.13e+26   5.59e+01   9.00e+00 \n",
      "   53    53   2.11e+07    2.691e+01   8.14e+26   5.56e+01   9.00e+00 \n",
      "   54    54   2.24e+07    2.691e+01   8.16e+26   5.53e+01   9.00e+00 \n",
      "   55    55   2.37e+07    2.691e+01   8.17e+26   5.49e+01   9.00e+00 \n",
      "   56    56   2.51e+07    2.691e+01   8.19e+26   5.46e+01   9.00e+00 \n",
      "   57    57   2.66e+07    2.691e+01   8.20e+26   5.42e+01   9.00e+00 \n",
      "   58    58   2.82e+07    2.691e+01   8.22e+26   5.38e+01   9.00e+00 \n",
      "   59    59   2.99e+07    2.692e+01   8.23e+26   5.34e+01   9.00e+00 \n",
      "   60    60   3.16e+07    2.692e+01   8.25e+26   5.30e+01   9.00e+00 \n",
      "   61    61   3.35e+07    2.692e+01   8.27e+26   5.26e+01   9.00e+00 \n",
      "   62    62   3.55e+07    2.692e+01   8.29e+26   5.21e+01   9.00e+00 \n",
      "   63    63   3.76e+07    2.692e+01   8.31e+26   5.16e+01   9.00e+00 \n",
      "   64    64   3.98e+07    2.692e+01   8.33e+26   5.11e+01   9.00e+00 \n",
      "   65    65   4.22e+07    2.692e+01   8.35e+26   5.05e+01   9.00e+00 \n",
      "   66    66   4.47e+07    2.692e+01   8.38e+26   5.00e+01   9.00e+00 \n",
      "   67    67   4.73e+07    2.692e+01   8.40e+26   4.94e+01   9.00e+00 \n",
      "   68    68   5.01e+07    2.693e+01   8.43e+26   4.87e+01   9.00e+00 \n",
      "   69    69   5.31e+07    2.693e+01   8.45e+26   4.81e+01   9.00e+00 \n",
      "   70    70   5.62e+07    2.693e+01   8.48e+26   4.74e+01   9.00e+00 \n",
      "   71    71   5.96e+07    2.693e+01   8.51e+26   4.67e+01   9.00e+00 \n",
      "   72    72   6.31e+07    2.693e+01   8.54e+26   4.59e+01   9.00e+00 \n",
      "   73    73   6.68e+07    2.693e+01   8.57e+26   4.52e+01   9.00e+00 \n",
      "   74    74   7.08e+07    2.693e+01   8.61e+26   4.44e+01   7.00e+00 \n",
      "   75    75   7.50e+07    2.694e+01   8.64e+26   4.35e+01   7.00e+00 \n",
      "   76    76   7.94e+07    2.694e+01   8.68e+26   4.27e+01   7.00e+00 \n",
      "   77    77   8.41e+07    2.694e+01   8.71e+26   4.18e+01   7.00e+00 \n",
      "   78    78   8.91e+07    2.694e+01   8.75e+26   4.09e+01   7.00e+00 \n",
      "   79    79   9.44e+07    2.694e+01   8.79e+26   3.99e+01   7.00e+00 \n",
      "   80    80   1.00e+08    2.695e+01   8.83e+26   3.89e+01   7.00e+00 \n",
      "   81    81   1.06e+08    2.695e+01   8.87e+26   3.79e+01   7.00e+00 \n",
      "   82    82   1.12e+08    2.695e+01   8.91e+26   3.69e+01   7.00e+00 \n",
      "   83    83   1.19e+08    2.695e+01   8.95e+26   3.58e+01   7.00e+00 \n",
      "   84    84   1.26e+08    2.695e+01   8.99e+26   3.48e+01   7.00e+00 \n",
      "   85    85   1.33e+08    2.696e+01   9.04e+26   3.37e+01   7.00e+00 \n",
      "   86    86   1.41e+08    2.696e+01   9.08e+26   3.25e+01   7.00e+00 \n",
      "   87    87   1.50e+08    2.696e+01   9.12e+26   3.14e+01   7.00e+00 \n",
      "   88    88   1.58e+08    2.696e+01   9.17e+26   3.03e+01   7.00e+00 \n",
      "   89    89   1.68e+08    2.696e+01   9.21e+26   2.91e+01   7.00e+00 \n",
      "   90    90   1.78e+08    2.697e+01   9.25e+26   2.80e+01   7.00e+00 \n",
      "   91    91   1.88e+08    2.697e+01   9.30e+26   2.69e+01   7.00e+00 \n",
      "   92    92   2.00e+08    2.697e+01   9.34e+26   2.58e+01   7.00e+00 \n",
      "   93    93   2.11e+08    2.697e+01   9.38e+26   2.47e+01   7.00e+00 \n",
      "   94    94   2.24e+08    2.697e+01   9.42e+26   2.36e+01   7.00e+00 \n",
      "   95    95   2.37e+08    2.698e+01   9.45e+26   2.25e+01   7.00e+00 \n",
      "   96    96   2.51e+08    2.698e+01   9.49e+26   2.15e+01   7.00e+00 \n",
      "   97    97   2.66e+08    2.698e+01   9.52e+26   2.06e+01   7.00e+00 \n",
      "   98    98   2.82e+08    2.698e+01   9.55e+26   1.96e+01   7.00e+00 \n",
      "   99    99   2.99e+08    2.698e+01   9.58e+26   1.88e+01   7.00e+00 \n",
      "  100   100   3.16e+08    2.698e+01   9.60e+26   1.80e+01   7.00e+00 \n",
      "  101   101   3.35e+08    2.698e+01   9.62e+26   1.73e+01   7.00e+00 \n",
      "  102   102   3.55e+08    2.698e+01   9.64e+26   1.67e+01   7.00e+00 \n",
      "  103   103   3.76e+08    2.698e+01   9.65e+26   1.61e+01   7.00e+00 \n",
      "  104   104   3.98e+08    2.699e+01   9.66e+26   1.57e+01   7.00e+00 \n",
      "  105   105   4.22e+08    2.699e+01   9.66e+26   1.53e+01   7.00e+00 \n",
      "  106   106   4.47e+08    2.699e+01   9.66e+26   1.51e+01   7.00e+00 \n",
      "  107   107   4.73e+08    2.698e+01   9.66e+26   1.49e+01   7.00e+00 \n",
      "  108   108   5.01e+08    2.698e+01   9.65e+26   1.49e+01   7.00e+00 \n",
      "  109   109   5.31e+08    2.698e+01   9.63e+26   1.49e+01   7.00e+00 \n",
      "  110   110   5.62e+08    2.698e+01   9.61e+26   1.51e+01   7.00e+00 \n",
      "  111   111   5.96e+08    2.698e+01   9.58e+26   1.54e+01   7.00e+00 \n",
      "  112   112   6.31e+08    2.698e+01   9.55e+26   1.58e+01   7.00e+00 \n",
      "  113   113   6.68e+08    2.698e+01   9.52e+26   1.63e+01   7.00e+00 \n",
      "  114   114   7.08e+08    2.698e+01   9.48e+26   1.69e+01   7.00e+00 \n",
      "  115   115   7.50e+08    2.697e+01   9.43e+26   1.76e+01   7.00e+00 \n",
      "  116   116   7.94e+08    2.697e+01   9.38e+26   1.84e+01   7.00e+00 \n",
      "  117   117   8.41e+08    2.697e+01   9.33e+26   1.93e+01   7.00e+00 \n",
      "  118   118   8.91e+08    2.697e+01   9.27e+26   2.02e+01   7.00e+00 \n",
      "  119   119   9.44e+08    2.696e+01   9.21e+26   2.13e+01   7.00e+00 \n",
      "  120   120   1.00e+09    2.696e+01   9.15e+26   2.24e+01   7.00e+00 \n",
      "  121   121   1.06e+09    2.696e+01   9.09e+26   2.36e+01   7.00e+00 \n",
      "  122   122   1.12e+09    2.696e+01   9.02e+26   2.48e+01   7.00e+00 \n",
      "  123   123   1.19e+09    2.695e+01   8.94e+26   2.62e+01   7.00e+00 \n",
      "  124   124   1.26e+09    2.695e+01   8.87e+26   2.75e+01   7.00e+00 \n",
      "  125   125   1.33e+09    2.694e+01   8.79e+26   2.90e+01   7.00e+00 \n",
      "  126   126   1.41e+09    2.694e+01   8.71e+26   3.04e+01   7.00e+00 \n",
      "  127   127   1.50e+09    2.694e+01   8.63e+26   3.19e+01   9.00e+00 \n",
      "  128   128   1.58e+09    2.693e+01   8.55e+26   3.35e+01   9.00e+00 \n",
      "  129   129   1.68e+09    2.693e+01   8.47e+26   3.51e+01   9.00e+00 \n",
      "  130   130   1.78e+09    2.692e+01   8.38e+26   3.67e+01   9.00e+00 \n",
      "  131   131   1.88e+09    2.692e+01   8.29e+26   3.83e+01   9.00e+00 \n",
      "  132   132   2.00e+09    2.691e+01   8.20e+26   4.00e+01   9.00e+00 \n",
      "  133   133   2.11e+09    2.691e+01   8.11e+26   4.17e+01   9.00e+00 \n",
      "  134   134   2.24e+09    2.690e+01   8.02e+26   4.35e+01   9.00e+00 \n",
      "  135   135   2.37e+09    2.690e+01   7.93e+26   4.52e+01   9.00e+00 \n",
      "  136   136   2.51e+09    2.689e+01   7.83e+26   4.70e+01   9.00e+00 \n",
      "  137   137   2.66e+09    2.689e+01   7.74e+26   4.88e+01   9.00e+00 \n",
      "  138   138   2.82e+09    2.688e+01   7.64e+26   5.06e+01   9.00e+00 \n",
      "  139   139   2.99e+09    2.688e+01   7.54e+26   5.25e+01   9.00e+00 \n",
      "  140   140   3.16e+09    2.687e+01   7.45e+26   5.43e+01   9.00e+00 \n",
      "  141   141   3.35e+09    2.687e+01   7.35e+26   5.62e+01   9.00e+00 \n",
      "  142   142   3.55e+09    2.686e+01   7.25e+26   5.81e+01   9.00e+00 \n",
      "  143   143   3.76e+09    2.685e+01   7.14e+26   6.00e+01   9.00e+00 \n",
      "  144   144   3.98e+09    2.685e+01   7.04e+26   6.19e+01   9.00e+00 \n",
      "  145   145   4.22e+09    2.684e+01   6.94e+26   6.39e+01   9.00e+00 \n",
      "  146   146   4.47e+09    2.683e+01   6.84e+26   6.58e+01   9.00e+00 \n",
      "  147   147   4.73e+09    2.683e+01   6.73e+26   6.78e+01   9.00e+00 \n",
      "  148   148   5.01e+09    2.682e+01   6.63e+26   6.97e+01   9.00e+00 \n",
      "  149   149   5.31e+09    2.681e+01   6.53e+26   7.17e+01   9.00e+00 \n",
      "  150   150   5.62e+09    2.681e+01   6.42e+26   7.37e+01   9.00e+00 \n",
      "  151   151   5.96e+09    2.680e+01   6.32e+26   7.56e+01   9.00e+00 \n",
      "  152   152   6.31e+09    2.679e+01   6.22e+26   7.76e+01   9.00e+00 \n",
      "  153   153   6.68e+09    2.679e+01   6.12e+26   7.96e+01   9.00e+00 \n",
      "  154   154   7.08e+09    2.678e+01   6.01e+26   8.15e+01   9.00e+00 \n",
      "  155   155   7.50e+09    2.677e+01   5.91e+26   8.34e+01   9.00e+00 \n",
      "  156   156   7.94e+09    2.676e+01   5.81e+26   8.54e+01   9.00e+00 \n",
      "  157   157   8.41e+09    2.676e+01   5.72e+26   8.73e+01   9.00e+00 \n",
      "  158   158   8.91e+09    2.675e+01   5.62e+26   8.91e+01   9.00e+00 \n",
      "  159   159   9.44e+09    2.674e+01   5.52e+26   9.10e+01   9.00e+00 \n",
      "  160   160   1.00e+10    2.673e+01   5.43e+26   9.28e+01   9.00e+00 \n",
      "  161   161   1.06e+10    2.673e+01   5.34e+26   9.46e+01   9.00e+00 \n",
      "  162   162   1.12e+10    2.672e+01   5.25e+26   9.64e+01   9.00e+00 \n",
      "  163   163   1.19e+10    2.671e+01   5.16e+26   9.81e+01   1.10e+01 \n",
      "  164   164   1.26e+10    2.671e+01   5.07e+26   9.98e+01   1.10e+01 \n",
      "  165   165   1.33e+10    2.670e+01   4.99e+26   1.01e+02   1.10e+01 \n",
      "  166   166   1.41e+10    2.669e+01   4.91e+26   1.03e+02   1.10e+01 \n",
      "  167   167   1.50e+10    2.668e+01   4.83e+26   1.05e+02   1.10e+01 \n",
      "  168   168   1.58e+10    2.668e+01   4.75e+26   1.06e+02   1.10e+01 \n",
      "  169   169   1.68e+10    2.667e+01   4.68e+26   1.08e+02   1.10e+01 \n",
      "  170   170   1.78e+10    2.666e+01   4.61e+26   1.09e+02   1.10e+01 \n",
      "  171   171   1.88e+10    2.666e+01   4.54e+26   1.11e+02   1.10e+01 \n",
      "  172   172   2.00e+10    2.665e+01   4.47e+26   1.12e+02   1.10e+01 \n",
      "  173   173   2.11e+10    2.664e+01   4.40e+26   1.13e+02   1.10e+01 \n",
      "  174   174   2.24e+10    2.664e+01   4.34e+26   1.15e+02   1.10e+01 \n",
      "  175   175   2.37e+10    2.663e+01   4.28e+26   1.16e+02   1.10e+01 \n",
      "  176   176   2.51e+10    2.663e+01   4.22e+26   1.17e+02   1.10e+01 \n",
      "  177   177   2.66e+10    2.662e+01   4.17e+26   1.18e+02   1.10e+01 \n",
      "  178   178   2.82e+10    2.661e+01   4.11e+26   1.19e+02   1.10e+01 \n",
      "  179   179   2.99e+10    2.661e+01   4.06e+26   1.20e+02   1.10e+01 \n",
      "  180   180   3.16e+10    2.660e+01   4.01e+26   1.21e+02   1.10e+01 \n",
      "  181   181   3.35e+10    2.660e+01   3.96e+26   1.22e+02   1.10e+01 \n",
      "  182   182   3.55e+10    2.659e+01   3.92e+26   1.23e+02   1.10e+01 \n",
      "  183   183   3.76e+10    2.659e+01   3.87e+26   1.24e+02   1.10e+01 \n",
      "  184   184   3.98e+10    2.658e+01   3.83e+26   1.25e+02   1.10e+01 \n",
      "  185   185   4.22e+10    2.658e+01   3.79e+26   1.26e+02   1.10e+01 \n",
      "  186   186   4.47e+10    2.657e+01   3.75e+26   1.27e+02   1.10e+01 \n",
      "  187   187   4.73e+10    2.657e+01   3.72e+26   1.27e+02   1.10e+01 \n",
      "  188   188   5.01e+10    2.657e+01   3.68e+26   1.28e+02   1.10e+01 \n",
      "  189   189   5.31e+10    2.656e+01   3.65e+26   1.29e+02   1.10e+01 \n",
      "  190   190   5.62e+10    2.656e+01   3.62e+26   1.30e+02   1.10e+01 \n",
      "  191   191   5.96e+10    2.655e+01   3.59e+26   1.30e+02   1.10e+01 \n",
      "  192   192   6.31e+10    2.655e+01   3.56e+26   1.31e+02   1.10e+01 \n",
      "  193   193   6.68e+10    2.655e+01   3.53e+26   1.31e+02   1.10e+01 \n",
      "  194   194   7.08e+10    2.654e+01   3.50e+26   1.32e+02   1.10e+01 \n",
      "  195   195   7.50e+10    2.654e+01   3.48e+26   1.32e+02   1.10e+01 \n",
      "  196   196   7.94e+10    2.654e+01   3.45e+26   1.33e+02   1.10e+01 \n",
      "  197   197   8.41e+10    2.654e+01   3.43e+26   1.33e+02   1.10e+01 \n",
      "  198   198   8.91e+10    2.653e+01   3.41e+26   1.34e+02   1.10e+01 \n",
      "  199   199   9.44e+10    2.653e+01   3.39e+26   1.34e+02   1.10e+01 \n",
      "  200   200   1.00e+11    2.653e+01   3.37e+26   1.35e+02   1.10e+01 \n",
      "  201   201   1.06e+11    2.652e+01   3.35e+26   1.35e+02   1.10e+01 \n",
      "  202   202   1.12e+11    2.652e+01   3.33e+26   1.36e+02   1.10e+01 \n"
     ]
    },
    {
     "name": "stdout",
     "output_type": "stream",
     "text": [
      "  203   203   1.19e+11    2.652e+01   3.31e+26   1.36e+02   1.10e+01 \n",
      "  204   204   1.26e+11    2.652e+01   3.30e+26   1.36e+02   1.10e+01 \n",
      "  205   205   1.33e+11    2.652e+01   3.28e+26   1.37e+02   1.10e+01 \n",
      "  206   206   1.41e+11    2.651e+01   3.27e+26   1.37e+02   1.10e+01 \n",
      "  207   207   1.50e+11    2.651e+01   3.25e+26   1.37e+02   1.10e+01 \n",
      "  208   208   1.58e+11    2.651e+01   3.24e+26   1.38e+02   1.10e+01 \n",
      "  209   209   1.68e+11    2.651e+01   3.23e+26   1.38e+02   1.10e+01 \n",
      "  210   210   1.78e+11    2.651e+01   3.21e+26   1.38e+02   1.10e+01 \n",
      "  211   211   1.88e+11    2.651e+01   3.20e+26   1.39e+02   1.10e+01 \n",
      "  212   212   2.00e+11    2.650e+01   3.19e+26   1.39e+02   1.10e+01 \n",
      "  213   213   2.11e+11    2.650e+01   3.18e+26   1.39e+02   1.10e+01 \n",
      "  214   214   2.24e+11    2.650e+01   3.17e+26   1.39e+02   1.10e+01 \n",
      "  215   215   2.37e+11    2.650e+01   3.16e+26   1.39e+02   1.10e+01 \n",
      "  216   216   2.51e+11    2.650e+01   3.15e+26   1.40e+02   1.10e+01 \n",
      "  217   217   2.66e+11    2.650e+01   3.14e+26   1.40e+02   1.10e+01 \n",
      "  218   218   2.82e+11    2.650e+01   3.14e+26   1.40e+02   1.10e+01 \n",
      "  219   219   2.99e+11    2.650e+01   3.13e+26   1.40e+02   1.10e+01 \n",
      "  220   220   3.16e+11    2.649e+01   3.12e+26   1.40e+02   1.10e+01 \n",
      "  221   221   3.35e+11    2.649e+01   3.11e+26   1.41e+02   1.10e+01 \n",
      "  222   222   3.55e+11    2.649e+01   3.11e+26   1.41e+02   1.10e+01 \n",
      "  223   223   3.76e+11    2.649e+01   3.10e+26   1.41e+02   1.10e+01 \n",
      "  224   224   3.98e+11    2.649e+01   3.09e+26   1.41e+02   1.10e+01 \n",
      "  225   225   4.22e+11    2.649e+01   3.09e+26   1.41e+02   1.10e+01 \n",
      "  226   226   4.47e+11    2.649e+01   3.08e+26   1.41e+02   1.10e+01 \n",
      "  227   227   4.73e+11    2.649e+01   3.08e+26   1.41e+02   1.10e+01 \n",
      "  228   228   5.01e+11    2.649e+01   3.07e+26   1.41e+02   1.10e+01 \n",
      "  229   229   5.31e+11    2.649e+01   3.07e+26   1.42e+02   1.10e+01 \n",
      "  230   230   5.62e+11    2.649e+01   3.06e+26   1.42e+02   1.10e+01 \n",
      "  231   231   5.96e+11    2.649e+01   3.06e+26   1.42e+02   1.10e+01 \n",
      "  232   232   6.31e+11    2.649e+01   3.06e+26   1.42e+02   1.10e+01 \n",
      "  233   233   6.68e+11    2.648e+01   3.05e+26   1.42e+02   1.10e+01 \n",
      "  234   234   7.08e+11    2.648e+01   3.05e+26   1.42e+02   1.10e+01 \n",
      "  235   235   7.50e+11    2.648e+01   3.05e+26   1.42e+02   1.10e+01 \n",
      "  236   236   7.94e+11    2.648e+01   3.04e+26   1.42e+02   1.10e+01 \n",
      "  237   237   8.41e+11    2.648e+01   3.04e+26   1.42e+02   1.10e+01 \n",
      "  238   238   8.91e+11    2.648e+01   3.04e+26   1.42e+02   1.10e+01 \n",
      "  239   239   9.44e+11    2.648e+01   3.03e+26   1.42e+02   1.10e+01 \n",
      "  240   240   1.00e+12    2.648e+01   3.03e+26   1.42e+02   1.10e+01 \n",
      "min chisq =  1.487e+01 \n",
      " elapsed seconds =        0.000\n"
     ]
    }
   ],
   "source": [
    "box.search1dSpace(emLog,verbose=1)"
   ]
  },
  {
   "cell_type": "markdown",
   "metadata": {},
   "source": [
    "## pickle the box with search data"
   ]
  },
  {
   "cell_type": "code",
   "execution_count": 31,
   "metadata": {},
   "outputs": [
    {
     "data": {
      "text/plain": [
       "dict_keys(['density', 'densSearched', 'emfit', 'em', 'idx', 'chisq', 'minchisq', 'searchDx', 'maskedValues', 'temperature', 'message', 'best'])"
      ]
     },
     "execution_count": 31,
     "metadata": {},
     "output_type": "execute_result"
    }
   ],
   "source": [
    "box.SearchData.keys()"
   ]
  },
  {
   "cell_type": "code",
   "execution_count": 32,
   "metadata": {},
   "outputs": [
    {
     "data": {
      "text/plain": [
       "dict_keys(['em', 'emfit', 'chisq', 'reducedChisq', 'idx', 'density', 'temperature'])"
      ]
     },
     "execution_count": 32,
     "metadata": {},
     "output_type": "execute_result"
    }
   ],
   "source": [
    "box.SearchData['best'].keys()"
   ]
  },
  {
   "cell_type": "code",
   "execution_count": 105,
   "metadata": {},
   "outputs": [],
   "source": [
    "searchDataFile = os.path.splitext(tableName)[0]+'_1dsearch' + '.pkl'"
   ]
  },
  {
   "cell_type": "code",
   "execution_count": 106,
   "metadata": {},
   "outputs": [
    {
     "data": {
      "text/plain": [
       "'tab2_1993_qs_fe_13_1dsearch.pkl'"
      ]
     },
     "execution_count": 106,
     "metadata": {},
     "output_type": "execute_result"
    }
   ],
   "source": [
    "searchDataFile"
   ]
  },
  {
   "cell_type": "code",
   "execution_count": 35,
   "metadata": {},
   "outputs": [],
   "source": [
    "box.dumpSearchData(searchDataFile)"
   ]
  },
  {
   "cell_type": "code",
   "execution_count": 36,
   "metadata": {},
   "outputs": [
    {
     "name": "stdout",
     "output_type": "stream",
     "text": [
      "\u001b[0m\u001b[00m0.test.notebooks.in.git.dir\u001b[0m      \u001b[00mpredictPrint.txt\u001b[0m\r\n",
      "\u001b[00m1_fe_13_demo_make_match.html\u001b[0m     \u001b[00mtab2_1993_qs_fe_13_1dsearch.pkl\u001b[0m\r\n",
      "\u001b[00;32m1_fe_13_demo_make_match.ipynb\u001b[0m*   \u001b[00;32mtab2_1993_qs_fe_13.json\u001b[0m*\r\n",
      "\u001b[00m2_fe_13_demo_check_model.ipynb\u001b[0m   \u001b[00mtab2_1993_qs_fe_13_match.pkl\u001b[0m\r\n",
      "\u001b[00;32m3_fe_13_demo_chi2_search.ipynb\u001b[0m*  \u001b[00mtable2-1993-QS_fe_13_diff_print.txt\u001b[0m\r\n",
      "\u001b[00mfe_13_demo_make_model.html\u001b[0m       \u001b[00mtable2-1993-QS_fe_13_predict_print.txt\u001b[0m\r\n",
      "\u001b[00mmatches.pkl\u001b[0m\r\n"
     ]
    }
   ],
   "source": [
    "ls"
   ]
  },
  {
   "cell_type": "markdown",
   "metadata": {},
   "source": [
    "## have created a pickle of the searchData dict:  tab2_1993_qs_fe_13_1dsearch.pkl"
   ]
  },
  {
   "cell_type": "markdown",
   "metadata": {},
   "source": [
    "## open the pickled search data"
   ]
  },
  {
   "cell_type": "code",
   "execution_count": 107,
   "metadata": {},
   "outputs": [],
   "source": [
    "mydir = os.getcwd()\n",
    "mylist = os.listdir('.')\n",
    "newlist = fnmatch.filter(mylist,'*.pkl')\n",
    "selected = chGui.gui.selectorDialog(newlist,'pick one')"
   ]
  },
  {
   "cell_type": "code",
   "execution_count": 108,
   "metadata": {},
   "outputs": [],
   "source": [
    "mypkl = selected.selectedText[0]"
   ]
  },
  {
   "cell_type": "code",
   "execution_count": 109,
   "metadata": {},
   "outputs": [
    {
     "name": "stdout",
     "output_type": "stream",
     "text": [
      "tab2_1993_qs_fe_13_1dsearch.pkl\n"
     ]
    }
   ],
   "source": [
    "print(mypkl)"
   ]
  },
  {
   "cell_type": "code",
   "execution_count": 110,
   "metadata": {},
   "outputs": [],
   "source": [
    "with open(mypkl, 'rb') as inpt:\n",
    "    searchData = pickle.load(inpt)"
   ]
  },
  {
   "cell_type": "markdown",
   "metadata": {},
   "source": [
    "## can recontinue or restart analysis"
   ]
  },
  {
   "cell_type": "code",
   "execution_count": 111,
   "metadata": {},
   "outputs": [
    {
     "name": "stdout",
     "output_type": "stream",
     "text": [
      " minimum chisq achieved for D index   108   5.01e+08 and EM     26.984  9.646e+26\n"
     ]
    }
   ],
   "source": [
    "Didx = searchData['best']['idx']\n",
    "emLog = searchData['best']['emfit']\n",
    "em = searchData['best']['em']\n",
    "print(' minimum chisq achieved for D index %5i %10.2e and EM %10.3f %10.3e'%(Didx, box.EDensity[Didx],emLog, em))"
   ]
  },
  {
   "cell_type": "code",
   "execution_count": 112,
   "metadata": {},
   "outputs": [
    {
     "data": {
      "text/plain": [
       "dict_keys(['density', 'densSearched', 'emfit', 'em', 'idx', 'chisq', 'minchisq', 'searchDx', 'maskedValues', 'temperature', 'message', 'best'])"
      ]
     },
     "execution_count": 112,
     "metadata": {},
     "output_type": "execute_result"
    }
   ],
   "source": [
    "searchData.keys()"
   ]
  },
  {
   "cell_type": "code",
   "execution_count": 113,
   "metadata": {},
   "outputs": [
    {
     "data": {
      "text/plain": [
       "dict_keys(['em', 'emfit', 'chisq', 'reducedChisq', 'idx', 'density', 'temperature'])"
      ]
     },
     "execution_count": 113,
     "metadata": {},
     "output_type": "execute_result"
    }
   ],
   "source": [
    "searchData['best'].keys()"
   ]
  },
  {
   "cell_type": "code",
   "execution_count": 114,
   "metadata": {},
   "outputs": [
    {
     "data": {
      "text/plain": [
       "'Chisq       14.87  reduced Chisq =       2.48 '"
      ]
     },
     "execution_count": 114,
     "metadata": {},
     "output_type": "execute_result"
    }
   ],
   "source": [
    "'Chisq  %10.2f  reduced Chisq = %10.2f '%(searchData['best']['chisq'], searchData['best']['reducedChisq'])"
   ]
  },
  {
   "cell_type": "code",
   "execution_count": 115,
   "metadata": {},
   "outputs": [
    {
     "data": {
      "text/plain": [
       "' min, max of chisq =      14.87     142.41'"
      ]
     },
     "execution_count": 115,
     "metadata": {},
     "output_type": "execute_result"
    }
   ],
   "source": [
    "minChisq = searchData['best']['chisq']\n",
    "maxChisq = max(searchData['chisq'])\n",
    "' min, max of chisq = %10.2f %10.2f'%(minChisq, maxChisq)"
   ]
  },
  {
   "cell_type": "code",
   "execution_count": 116,
   "metadata": {},
   "outputs": [],
   "source": [
    "nObs = len(box.match)\n",
    "nParams = 2. + 1.\n",
    "dof = nObs - nParams"
   ]
  },
  {
   "cell_type": "code",
   "execution_count": 117,
   "metadata": {},
   "outputs": [
    {
     "data": {
      "text/plain": [
       "' nObs:  9  nParmas:     3.0  degrees of freedom (dof):     6.0'"
      ]
     },
     "execution_count": 117,
     "metadata": {},
     "output_type": "execute_result"
    }
   ],
   "source": [
    "' nObs:  %i  nParmas:  %6.1f  degrees of freedom (dof):  %6.1f'%(nObs, nParams, dof)"
   ]
  },
  {
   "cell_type": "code",
   "execution_count": 118,
   "metadata": {},
   "outputs": [
    {
     "data": {
      "text/plain": [
       "' Chi2 for confidence levels       0.68        0.95   =       7.01      12.59 '"
      ]
     },
     "execution_count": 118,
     "metadata": {},
     "output_type": "execute_result"
    }
   ],
   "source": [
    "q = [.32, 0.05]\n",
    "chi2 = stats.chi2.isf(q = q , df = dof)\n",
    "' Chi2 for confidence levels %10.2f  %10.2f   = %10.2f %10.2f '%(1.-q[0],1.-q[1],chi2[0],chi2[1])"
   ]
  },
  {
   "cell_type": "code",
   "execution_count": 119,
   "metadata": {},
   "outputs": [],
   "source": [
    "plt.figure()\n",
    "plt.semilogx(searchData['densSearched'],searchData['chisq'], 'k', lw=2)\n",
    "xy = plt.axis()\n",
    "plt.ylim(0.,xy[3])\n",
    "plt.axhline(minChisq + chi2[0], color = 'r', label='65%')\n",
    "plt.axhline(minChisq + chi2[1], color = 'b', label = '95%')\n",
    "plt.legend(loc='upper center', fontsize=14)\n",
    "plt.xlabel('Electron Density (cm$^{-3}$)',fontsize=14)\n",
    "plt.ylabel('Chi-squared',fontsize=14)\n",
    "plt.tight_layout()"
   ]
  },
  {
   "cell_type": "code",
   "execution_count": 120,
   "metadata": {},
   "outputs": [],
   "source": [
    "chisq = np.asarray(searchData['chisq'])"
   ]
  },
  {
   "cell_type": "code",
   "execution_count": 121,
   "metadata": {},
   "outputs": [],
   "source": [
    "good0 = chisq < minChisq + chi2[0]"
   ]
  },
  {
   "cell_type": "code",
   "execution_count": 122,
   "metadata": {},
   "outputs": [],
   "source": [
    "good1 = chisq < minChisq + chi2[1]"
   ]
  },
  {
   "cell_type": "code",
   "execution_count": 123,
   "metadata": {},
   "outputs": [
    {
     "data": {
      "text/plain": [
       "' mean Density range of  68 per cent confidence:    2.51e+08 to   9.44e+08'"
      ]
     },
     "execution_count": 123,
     "metadata": {},
     "output_type": "execute_result"
    }
   ],
   "source": [
    "dens68 = box.EDensity[good0].min(),box.EDensity[good0].max()\n",
    "' mean Density range of  68 per cent confidence:  %10.2e to %10.2e'%(dens68)"
   ]
  },
  {
   "cell_type": "code",
   "execution_count": 124,
   "metadata": {},
   "outputs": [
    {
     "data": {
      "text/plain": [
       "' mean Density range of  95 per cent confidence:    1.88e+08 to   1.19e+09'"
      ]
     },
     "execution_count": 124,
     "metadata": {},
     "output_type": "execute_result"
    }
   ],
   "source": [
    "dens95 = box.EDensity[good1].min(),box.EDensity[good1].max()\n",
    "' mean Density range of  95 per cent confidence:  %10.2e to %10.2e'%(dens95)"
   ]
  },
  {
   "cell_type": "code",
   "execution_count": 125,
   "metadata": {},
   "outputs": [
    {
     "data": {
      "text/plain": [
       "' best fit Density   5.01e+08'"
      ]
     },
     "execution_count": 125,
     "metadata": {},
     "output_type": "execute_result"
    }
   ],
   "source": [
    "densBest = box.EDensity[searchData['best']['idx']]\n",
    "' best fit Density %10.2e'%(densBest)"
   ]
  },
  {
   "cell_type": "code",
   "execution_count": 126,
   "metadata": {},
   "outputs": [
    {
     "data": {
      "text/plain": [
       "' mean EM range of  68 per cent confidence:    9.21e+26 to   9.66e+26 '"
      ]
     },
     "execution_count": 126,
     "metadata": {},
     "output_type": "execute_result"
    }
   ],
   "source": [
    "em68 = [searchData['em'][good0].min(),searchData['em'][good0].max()]\n",
    "' mean EM range of  68 per cent confidence:  %10.2e to %10.2e '%(em68[0], em68[1])"
   ]
  },
  {
   "cell_type": "code",
   "execution_count": 127,
   "metadata": {},
   "outputs": [
    {
     "data": {
      "text/plain": [
       "' mean Density range of  95 per cent confidence:    8.94e+26 to   9.66e+26'"
      ]
     },
     "execution_count": 127,
     "metadata": {},
     "output_type": "execute_result"
    }
   ],
   "source": [
    "em95 = [searchData['em'][good1].min(),searchData['em'][good1].max()]\n",
    "' mean Density range of  95 per cent confidence:  %10.2e to %10.2e'%(em95[0], em95[1])"
   ]
  },
  {
   "cell_type": "code",
   "execution_count": 128,
   "metadata": {},
   "outputs": [],
   "source": [
    "autoreload 2"
   ]
  },
  {
   "cell_type": "code",
   "execution_count": 129,
   "metadata": {},
   "outputs": [
    {
     "name": "stdout",
     "output_type": "stream",
     "text": [
      " 0  311.6\n",
      " 1  312.2\n",
      " 2  312.9\n",
      " 3  318.1\n",
      " 4  320.8\n",
      " 5  321.5\n",
      " 6  348.2\n",
      " 7  359.7\n",
      " 8  359.9\n"
     ]
    }
   ],
   "source": [
    "plt.figure()\n",
    "box.emPlot(vs='d')\n",
    "xy = plt.axis()\n",
    "plt.axvline(densBest,color='k',lw=2,label='best fit')\n",
    "plt.axvline(dens68[0], color = 'r', linestyle = '--', lw=2, label='68% confidence')\n",
    "plt.axvline(dens68[1], color = 'r', linestyle = '--', lw=2)\n",
    "plt.axvline(dens95[0], color = 'b', linestyle = '--', lw=2, label='95% confidence')\n",
    "plt.axvline(dens95[1], color = 'b', linestyle = '--', lw=2)\n",
    "plt.xlabel('Electron Density (cm$^{-3}$)',fontsize=14)\n",
    "plt.ylabel('Chi-squared',fontsize=14)\n",
    "plt.text(2.e+10,4.e+26, nameDict['spectroscopic'] ,fontsize=16)\n",
    "plt.legend(loc='lower left')\n",
    "plt.tight_layout()\n",
    "plt.show()"
   ]
  },
  {
   "cell_type": "code",
   "execution_count": 130,
   "metadata": {},
   "outputs": [
    {
     "name": "stdout",
     "output_type": "stream",
     "text": [
      "dens set to   5.01e+08\n"
     ]
    }
   ],
   "source": [
    "box.emSetIndices(Didx)\n",
    "print('dens set to %10.2e'%(box.EDensity[Didx]))"
   ]
  },
  {
   "cell_type": "code",
   "execution_count": 131,
   "metadata": {},
   "outputs": [],
   "source": [
    "box.emSet(emLog)"
   ]
  },
  {
   "cell_type": "code",
   "execution_count": 132,
   "metadata": {},
   "outputs": [],
   "source": [
    "box.predict()"
   ]
  },
  {
   "cell_type": "code",
   "execution_count": 133,
   "metadata": {},
   "outputs": [
    {
     "name": "stdout",
     "output_type": "stream",
     "text": [
      " cwd:  /home/ken/chianti/chiantipy/test_notebook\n",
      "   108     5.01e+08     1.78e+06     9.65e+26\n",
      "matchPkl tab2_1993_qs_fe_13_match.pkl \n",
      "wghtFactor      0.200\n",
      " -------------------------------------------------\n",
      "  iwvl    IonS        wvl        Int       Pred   Int/Pred        chi\n",
      "               wvl lvl1 lvl2                lower -                upper lineIdx predLine contribution\n",
      " -------------------------------------------------\n",
      "     0   fe_13    311.574   6.13e+00   2.88e+00      2.126      2.648\n",
      "         fe_13\n",
      "           311.547    2   12        3s2 3p2 3P1.0 - 3s 3p3 3P2.0            29     0   1.000\n",
      " -------------------------------------------------\n",
      " -------------------------------------------------\n",
      "     1   fe_13    312.171   1.78e+01   1.77e+01      1.008      0.042\n",
      "         fe_13\n",
      "           312.174    2   11        3s2 3p2 3P1.0 - 3s 3p3 3P1.0            24     0   1.000\n",
      " -------------------------------------------------\n",
      " -------------------------------------------------\n",
      "     2   fe_13    312.907   7.34e+00   6.21e+00      1.182      0.771\n",
      "         fe_13\n",
      "           312.868    2   10        3s2 3p2 3P1.0 - 3s 3p3 3P0.0            22     0   1.000\n",
      " -------------------------------------------------\n",
      " -------------------------------------------------\n",
      "     3   fe_13    318.129   6.09e+00   8.90e+00      0.684      2.308\n",
      "         fe_13\n",
      "           318.130    4   13        3s2 3p2 1D2.0 - 3s 3p3 1D2.0            31     0   1.000\n",
      " -------------------------------------------------\n",
      " -------------------------------------------------\n",
      "     4   fe_13    320.802   2.45e+01   2.04e+01      1.200      0.833\n",
      "         fe_13\n",
      "           320.800    3   12        3s2 3p2 3P2.0 - 3s 3p3 3P2.0            30     0   1.000\n",
      " -------------------------------------------------\n",
      " -------------------------------------------------\n",
      "     5   fe_13    321.464   8.64e+00   8.84e+00      0.977      0.116\n",
      "         fe_13\n",
      "           321.466    3   11        3s2 3p2 3P2.0 - 3s 3p3 3P1.0            25     0   1.000\n",
      " -------------------------------------------------\n",
      " -------------------------------------------------\n",
      "     6   fe_13    348.196   5.50e+01   4.31e+01      1.275      1.077\n",
      "         fe_13\n",
      "           348.183    1    7        3s2 3p2 3P0.0 - 3s 3p3 3D1.0            15     0   1.000\n",
      " -------------------------------------------------\n",
      " -------------------------------------------------\n",
      "     7   fe_13    359.658   2.84e+01   2.94e+01      0.967      0.170\n",
      "         fe_13\n",
      "           359.644    2    8        3s2 3p2 3P1.0 - 3s 3p3 3D2.0            18     0   1.000\n",
      " -------------------------------------------------\n",
      " -------------------------------------------------\n",
      "     8   fe_13    359.851   1.18e+01   1.13e+01      1.041      0.198\n",
      "         fe_13\n",
      "           359.839    2    7        3s2 3p2 3P1.0 - 3s 3p3 3D1.0            13     0   1.000\n",
      " -------------------------------------------------\n",
      " -------------------------------------------------\n"
     ]
    }
   ],
   "source": [
    "box.predictPrint(minContribution=0.01, filename='tab2_fe_13_predictPrintFinal.txt')"
   ]
  },
  {
   "cell_type": "code",
   "execution_count": 134,
   "metadata": {},
   "outputs": [
    {
     "data": {
      "text/plain": [
       "True"
      ]
     },
     "execution_count": 134,
     "metadata": {},
     "output_type": "execute_result"
    }
   ],
   "source": [
    "hasattr(box, 'SearchData')"
   ]
  },
  {
   "cell_type": "code",
   "execution_count": 153,
   "metadata": {},
   "outputs": [],
   "source": [
    "autoreload 2"
   ]
  },
  {
   "cell_type": "code",
   "execution_count": 154,
   "metadata": {},
   "outputs": [
    {
     "name": "stdout",
     "output_type": "stream",
     "text": [
      " results from search\n",
      " index    density       temp      emfit         em\n",
      "   108   5.01e+08   1.78e+06     26.984   9.65e+26\n",
      " -------------------------------------------------\n",
      " cwd:  /home/ken/chianti/chiantipy/test_notebook\n",
      " today is 2022_March_13\n",
      " WghtFactor =      0.200\n",
      " index      density  temperature           Em\n",
      "   108     5.01e+08     1.78e+06     9.65e+26   26.984\n",
      " -------------------------------------------------\n",
      " chi = abs(int - pred)/(wght*int))  strDiff = (int - pred)/pred\n",
      "                        A                                                    abs        abs\n",
      "  iwvl    ionS        wvl  intensity  predicted   int/pred        chi     relDev    dif/int\n",
      "     0   fe_13    311.574   6.13e+00   2.88e+00      2.126      2.648      1.126      0.530\n",
      "     1   fe_13    312.171   1.78e+01   1.77e+01      1.008      0.042      0.008      0.008\n",
      "     2   fe_13    312.907   7.34e+00   6.21e+00      1.182      0.771      0.182      0.154\n",
      "     3   fe_13    318.129   6.09e+00   8.90e+00      0.684      2.308     -0.316     -0.462\n",
      "     4   fe_13    320.802   2.45e+01   2.04e+01      1.200      0.833      0.200      0.167\n",
      "     5   fe_13    321.464   8.64e+00   8.84e+00      0.977      0.116     -0.023     -0.023\n",
      "     6   fe_13    348.196   5.50e+01   4.31e+01      1.275      1.077      0.275      0.215\n",
      "     7   fe_13    359.658   2.84e+01   2.94e+01      0.967      0.170     -0.033     -0.034\n",
      "     8   fe_13    359.851   1.18e+01   1.13e+01      1.041      0.198      0.041      0.040\n",
      " WghtFactor =      0.200\n",
      " mean of relative Deviation =      0.162 3*relDev =      0.487 stdDev =      0.377\n",
      "\n",
      " mean of intOverPred = abs(int/pred -1.)      0.162\n",
      " std =      0.248 3*std =      0.745\n",
      " sum of diffOverInt^2 =       0.595 weighted     14.873 \n",
      " chisq2 =     14.873\n",
      " Nobs = 9 Nions = 1\n",
      " Nparams = 3\n",
      "           Chisq =     14.873\n",
      "Normalized Chisq =      1.653 chisq/(nobs)\n",
      "Reduced Chisq    =      2.479 chisq/(nobs - nparams)\n"
     ]
    }
   ],
   "source": [
    "box.diffPrint(filename='tab2_fe_13_diffPrintFinal.txt')"
   ]
  },
  {
   "cell_type": "code",
   "execution_count": 155,
   "metadata": {},
   "outputs": [
    {
     "data": {
      "text/plain": [
       "dict_keys(['intOverPred', 'diffOverInt', 'wvl', 'ionS', '3sig', 'poor'])"
      ]
     },
     "execution_count": 155,
     "metadata": {},
     "output_type": "execute_result"
    }
   ],
   "source": [
    "box.Diff.keys()"
   ]
  },
  {
   "cell_type": "markdown",
   "metadata": {},
   "source": [
    "## write the summary"
   ]
  },
  {
   "cell_type": "code",
   "execution_count": 156,
   "metadata": {},
   "outputs": [],
   "source": [
    "summaryFile = os.path.splitext(mypkl)[0] + '_summary.txt'"
   ]
  },
  {
   "cell_type": "code",
   "execution_count": 157,
   "metadata": {},
   "outputs": [
    {
     "data": {
      "text/plain": [
       "'tab2_1993_qs_fe_13_1dsearch_summary.txt'"
      ]
     },
     "execution_count": 157,
     "metadata": {},
     "output_type": "execute_result"
    }
   ],
   "source": [
    "summaryFile"
   ]
  },
  {
   "cell_type": "code",
   "execution_count": null,
   "metadata": {},
   "outputs": [],
   "source": [
    "diff = box.Diff\n",
    "with open(summaryFile,'w') as outpt:\n",
    "    outpt.write(' chisq minimum = %10.2e \\n'%(box.SearchData['best']['chisq']))\n",
    "    outpt.write(' reduced chisq minimum = %10.2e \\n'%(box.SearchData['best']['reducedChisq']))\n",
    "    outpt.write(' index         = %5i \\n'%(box.SearchData['best']['idx']))\n",
    "    outpt.write(' log EM        = %10.3e \\n'%(box.SearchData['best']['emfit']))\n",
    "    outpt.write(' EM            = %10.3e \\n'%(10.**box.SearchData['best']['emfit']))\n",
    "    outpt.write(' Density       = %10.3e  \\n'%(box.SearchData['best']['density']))\n",
    "    outpt.write(' mean of diff = %10.3f std = %10.3f \\n'%(np.mean(diff['diff']), np.std(diff['diff'])))"
   ]
  },
  {
   "cell_type": "markdown",
   "metadata": {},
   "source": [
    "### a dict of the summary data"
   ]
  },
  {
   "cell_type": "code",
   "execution_count": 159,
   "metadata": {},
   "outputs": [],
   "source": [
    "tab2_fe_13_br = {}\n",
    "tab2_fe_13_br['d'] = {'temp': box.SearchData['best']['temperature']}\n",
    "tab2_fe_13_br['em'] = {'temp': box.SearchData['best']['temperature']}\n",
    "tab2_fe_13_br['d']['ionS'] = 'fe_13'\n",
    "tab2_fe_13_br['em']['ionS'] = 'fe_13'\n",
    "tab2_fe_13_br['d']['best'] = box.SearchData['best']['density']\n",
    "tab2_fe_13_br['d']['mean'] = box.SearchData['best']['density']\n",
    "tab2_fe_13_br['d']['idx'] = box.SearchData['best']['idx']\n",
    "tab2_fe_13_br['d']['68'] = dens68\n",
    "tab2_fe_13_br['d']['95'] = dens95\n",
    "tab2_fe_13_br['em']['best'] = box.SearchData['best']['em']\n",
    "tab2_fe_13_br['em']['mean'] = box.SearchData['best']['em']\n",
    "tab2_fe_13_br['em']['idx'] = box.SearchData['best']['idx']\n",
    "tab2_fe_13_br['em']['68'] = em68\n",
    "tab2_fe_13_br['em']['95'] = em95"
   ]
  },
  {
   "cell_type": "markdown",
   "metadata": {},
   "source": [
    "### pickle summary dict"
   ]
  },
  {
   "cell_type": "code",
   "execution_count": 160,
   "metadata": {},
   "outputs": [],
   "source": [
    "with open('tab2_fe_13_br_summary.pkl','wb') as outpt:\n",
    "    pickle.dump(tab2_fe_13_br, outpt)"
   ]
  },
  {
   "cell_type": "code",
   "execution_count": 74,
   "metadata": {},
   "outputs": [],
   "source": [
    "with open('tab2_fe_13_br.pkl','rb') as inpt:\n",
    "    tab2_fe_13_br = pickle.load(inpt)"
   ]
  },
  {
   "cell_type": "markdown",
   "metadata": {},
   "source": [
    "## plot the ave, std, errors"
   ]
  },
  {
   "cell_type": "code",
   "execution_count": 161,
   "metadata": {},
   "outputs": [],
   "source": [
    "wvl = box.Diff['wvl']\n",
    "diff = box.Diff['diffOverInt']"
   ]
  },
  {
   "cell_type": "code",
   "execution_count": 162,
   "metadata": {},
   "outputs": [],
   "source": [
    "diffMean = diff.mean()\n",
    "diffStd = diff.std()"
   ]
  },
  {
   "cell_type": "code",
   "execution_count": 164,
   "metadata": {},
   "outputs": [
    {
     "data": {
      "text/plain": [
       "' diffAve      0.066  diff Std       0.248'"
      ]
     },
     "execution_count": 164,
     "metadata": {},
     "output_type": "execute_result"
    }
   ],
   "source": [
    "' diffAve %10.3f  diff Std  %10.3f'%(diffMean, diffStd)"
   ]
  },
  {
   "cell_type": "code",
   "execution_count": 165,
   "metadata": {},
   "outputs": [
    {
     "data": {
      "text/plain": [
       "[<matplotlib.lines.Line2D at 0x7f974c363280>]"
      ]
     },
     "execution_count": 165,
     "metadata": {},
     "output_type": "execute_result"
    }
   ],
   "source": [
    "plt.figure()\n",
    "plt.plot(wvl, diff,'o')"
   ]
  },
  {
   "cell_type": "code",
   "execution_count": 166,
   "metadata": {},
   "outputs": [
    {
     "data": {
      "text/plain": [
       "<matplotlib.lines.Line2D at 0x7f9747e20d00>"
      ]
     },
     "execution_count": 166,
     "metadata": {},
     "output_type": "execute_result"
    }
   ],
   "source": [
    "plt.axhline(diffMean, color='k', lw=2, label='Mean')\n",
    "plt.axhline(diffMean + diffStd, color='r', lw=2, linestyle='--', label='1 std')\n",
    "plt.axhline(diffMean - diffStd, color='r', lw=2, linestyle='--')  #, label='1 std')\n",
    "plt.axhline(diffMean + 2.*diffStd, color='b', lw=2, linestyle='dotted', label='2 std')\n",
    "plt.axhline(diffMean - 2.*diffStd, color='b', lw=2, linestyle='dotted')  #, label='2 std')\n",
    "plt.axhline(diffMean + 3.*diffStd, color='g', lw=2, linestyle='dotted', label='3 std')\n",
    "plt.axhline(diffMean - 3.*diffStd, color='g', lw=2, linestyle='dotted')  #, label='3 std')"
   ]
  },
  {
   "cell_type": "code",
   "execution_count": 167,
   "metadata": {},
   "outputs": [
    {
     "data": {
      "text/plain": [
       "Text(31.097222222222214, 0.5, '(Obs - Pred)/(w $\\\\times$ Obs)')"
      ]
     },
     "execution_count": 167,
     "metadata": {},
     "output_type": "execute_result"
    }
   ],
   "source": [
    "plt.xlabel('Wavelength ($\\AA$)', fontsize=14)\n",
    "plt.ylabel(r'(Obs - Pred)/(w $\\times$ Obs)', fontsize=14)"
   ]
  },
  {
   "cell_type": "code",
   "execution_count": 170,
   "metadata": {},
   "outputs": [
    {
     "data": {
      "text/plain": [
       "Text(0.5, 1.0, ' mean:     0.066  std:     0.248 wght:    0.200')"
      ]
     },
     "execution_count": 170,
     "metadata": {},
     "output_type": "execute_result"
    }
   ],
   "source": [
    "plt.title(' mean:  %8.3f  std:  %8.3f wght: %8.3f'%(diffMean, diffStd, wghtFactor), fontsize=14)"
   ]
  },
  {
   "cell_type": "code",
   "execution_count": 168,
   "metadata": {},
   "outputs": [
    {
     "data": {
      "text/plain": [
       "<matplotlib.legend.Legend at 0x7f9747e3ed90>"
      ]
     },
     "execution_count": 168,
     "metadata": {},
     "output_type": "execute_result"
    }
   ],
   "source": [
    "plt.legend(loc='upper right', bbox_to_anchor=(0.99, 1.0), fontsize=12)"
   ]
  },
  {
   "cell_type": "code",
   "execution_count": 171,
   "metadata": {},
   "outputs": [],
   "source": [
    "plt.tight_layout()"
   ]
  },
  {
   "cell_type": "code",
   "execution_count": null,
   "metadata": {},
   "outputs": [],
   "source": []
  }
 ],
 "metadata": {
  "kernelspec": {
   "display_name": "Python 3 (ipykernel)",
   "language": "python",
   "name": "python3"
  },
  "language_info": {
   "codemirror_mode": {
    "name": "ipython",
    "version": 3
   },
   "file_extension": ".py",
   "mimetype": "text/x-python",
   "name": "python",
   "nbconvert_exporter": "python",
   "pygments_lexer": "ipython3",
   "version": "3.8.12"
  }
 },
 "nbformat": 4,
 "nbformat_minor": 1
}
