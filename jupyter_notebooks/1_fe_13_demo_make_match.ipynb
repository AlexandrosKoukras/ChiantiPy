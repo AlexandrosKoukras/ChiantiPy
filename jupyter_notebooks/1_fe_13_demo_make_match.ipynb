{
 "cells": [
  {
   "cell_type": "markdown",
   "metadata": {},
   "source": [
    "# to make the match for the Table 2 1993 QS fe_13 data"
   ]
  },
  {
   "cell_type": "markdown",
   "metadata": {},
   "source": [
    "## this notebook recreates the basic data used in \n",
    "\n",
    "## Dere, 2020, MNRAS, 496, 2334"
   ]
  },
  {
   "cell_type": "code",
   "execution_count": 23,
   "metadata": {},
   "outputs": [],
   "source": [
    "import json\n",
    "import pickle\n",
    "import fnmatch\n",
    "import matplotlib.pyplot as plt\n",
    "import numpy as np\n",
    "import ChiantiPy.model as mdl\n",
    "import ChiantiPy.model.Maker as mm\n",
    "import ChiantiPy.Gui as chGui"
   ]
  },
  {
   "cell_type": "code",
   "execution_count": 2,
   "metadata": {},
   "outputs": [],
   "source": [
    "%autoreload 2"
   ]
  },
  {
   "cell_type": "code",
   "execution_count": 3,
   "metadata": {},
   "outputs": [],
   "source": [
    "matplotlib qt"
   ]
  },
  {
   "cell_type": "code",
   "execution_count": 4,
   "metadata": {},
   "outputs": [],
   "source": [
    "myIon = 'Fe XIII'"
   ]
  },
  {
   "cell_type": "code",
   "execution_count": 5,
   "metadata": {},
   "outputs": [
    {
     "name": "stdout",
     "output_type": "stream",
     "text": [
      "\u001b[0m\u001b[00;32m1_fe_13_demo_make_match.ipynb\u001b[0m*  \u001b[00;32mQuickStart.html\u001b[0m*\r\n",
      "\u001b[00;32mfe_13_demo_chi2.ipynb\u001b[0m*          \u001b[00;32mQuickStart.ipynb\u001b[0m*\r\n",
      "\u001b[00mfe_13_demo_make_model.html\u001b[0m      \u001b[00;32mREADME.txt\u001b[0m*\r\n",
      "\u001b[00;32mfe_13_demo_make_model.ipynb\u001b[0m*    \u001b[00;32mtab2_1993_qs_fe_13.json\u001b[0m*\r\n",
      "\u001b[00;32mfe_13_demo_mcmc.ipynb\u001b[0m*\r\n"
     ]
    }
   ],
   "source": [
    "ls"
   ]
  },
  {
   "cell_type": "markdown",
   "metadata": {},
   "source": [
    "## fe_13 data is in the .json file"
   ]
  },
  {
   "cell_type": "code",
   "execution_count": 6,
   "metadata": {},
   "outputs": [],
   "source": [
    "with open('tab2_1993_qs_fe_13.json', 'r') as inpt:\n",
    "    tab = json.load(inpt)"
   ]
  },
  {
   "cell_type": "code",
   "execution_count": 7,
   "metadata": {},
   "outputs": [
    {
     "data": {
      "text/plain": [
       "dict_keys(['filename', 'wvl0', 'intensity', 'intStd', 'dwvl', 'ions', 'ref'])"
      ]
     },
     "execution_count": 7,
     "metadata": {},
     "output_type": "execute_result"
    }
   ],
   "source": [
    "tab.keys()"
   ]
  },
  {
   "cell_type": "code",
   "execution_count": 8,
   "metadata": {},
   "outputs": [
    {
     "data": {
      "text/plain": [
       "['Brosius, Jeffrey W.; Davila, Joseph M.; Thomas, Roger J.; Monsignori-Fossi, Brunella C.',\n",
       " 'Measuring Active and Quiet-Sun Coronal Plasma Properties with Extreme-Ultraviolet Spectra from SERTS ',\n",
       " '1996, Astrophysical Journal Supplement v.106, p.143',\n",
       " 'ADSref:  https://ui.adsabs.harvard.edu/abs/1996ApJS..106..143B/abstract']"
      ]
     },
     "execution_count": 8,
     "metadata": {},
     "output_type": "execute_result"
    }
   ],
   "source": [
    "tab['ref']"
   ]
  },
  {
   "cell_type": "code",
   "execution_count": 9,
   "metadata": {},
   "outputs": [],
   "source": [
    "temp = 1.78e+6\n",
    "dens  = 10.**(6.+ 0.025*np.arange(241))"
   ]
  },
  {
   "cell_type": "code",
   "execution_count": 13,
   "metadata": {},
   "outputs": [
    {
     "name": "stdout",
     "output_type": "stream",
     "text": [
      " XUVTOP = /data2/a2git/chdbase/\n",
      " abundanceName = sun_photospheric_2015_scott\n",
      " minimum abundance =   1.00e+01\n",
      " # of observables / reduce # = 9        3.00\n"
     ]
    }
   ],
   "source": [
    "box = mm.maker(tab, temp, dens, wghtFactor = 0.2, ionList=['fe_13'], verbose = True)"
   ]
  },
  {
   "cell_type": "markdown",
   "metadata": {},
   "source": [
    "## the next step matches the observed lines to the CHIANTI lines to with tab['dwvl']"
   ]
  },
  {
   "cell_type": "code",
   "execution_count": 14,
   "metadata": {},
   "outputs": [
    {
     "name": "stdout",
     "output_type": "stream",
     "text": [
      " fe_13 in the CHIANTI database\n",
      " in makeMatchGate thision = fe_13\n"
     ]
    }
   ],
   "source": [
    "box.makeMatch(verbose=1)"
   ]
  },
  {
   "cell_type": "markdown",
   "metadata": {},
   "source": [
    "## next, calculate the contribution functions (gofnt) for each line, including any blends"
   ]
  },
  {
   "cell_type": "code",
   "execution_count": 15,
   "metadata": {},
   "outputs": [
    {
     "name": "stdout",
     "output_type": "stream",
     "text": [
      " temperature size:    241\n",
      " density     size:    241\n",
      " using fe_13\n",
      " elapsed seconds =       20.000\n"
     ]
    }
   ],
   "source": [
    "box.gofnt(temp, dens, verbose=True)"
   ]
  },
  {
   "cell_type": "markdown",
   "metadata": {},
   "source": [
    "## save the match attribute as a pickle file to be picked on again."
   ]
  },
  {
   "cell_type": "code",
   "execution_count": 17,
   "metadata": {},
   "outputs": [],
   "source": [
    "matchFilename = 'tab2_1993_qs_fe_13_match.pkl'"
   ]
  },
  {
   "cell_type": "code",
   "execution_count": 18,
   "metadata": {},
   "outputs": [
    {
     "name": "stdout",
     "output_type": "stream",
     "text": [
      "NT not available\n"
     ]
    }
   ],
   "source": [
    "box.dumpMatch(filename=matchFilename )"
   ]
  },
  {
   "cell_type": "code",
   "execution_count": 19,
   "metadata": {},
   "outputs": [
    {
     "name": "stdout",
     "output_type": "stream",
     "text": [
      "\u001b[0m\u001b[00;32m1_fe_13_demo_make_match.ipynb\u001b[0m*  \u001b[00;32mQuickStart.html\u001b[0m*\r\n",
      "\u001b[00;32mfe_13_demo_chi2.ipynb\u001b[0m*          \u001b[00;32mQuickStart.ipynb\u001b[0m*\r\n",
      "\u001b[00mfe_13_demo_make_model.html\u001b[0m      \u001b[00;32mREADME.txt\u001b[0m*\r\n",
      "\u001b[00;32mfe_13_demo_make_model.ipynb\u001b[0m*    \u001b[00;32mtab2_1993_qs_fe_13.json\u001b[0m*\r\n",
      "\u001b[00;32mfe_13_demo_mcmc.ipynb\u001b[0m*          \u001b[00mtab2_1993_qs_fe_13_match.pkl\u001b[0m\r\n"
     ]
    }
   ],
   "source": [
    "ls"
   ]
  },
  {
   "cell_type": "markdown",
   "metadata": {},
   "source": [
    "## the pickle file has already been created"
   ]
  },
  {
   "cell_type": "code",
   "execution_count": 24,
   "metadata": {},
   "outputs": [],
   "source": [
    "mydir = os.getcwd()\n",
    "mylist = os.listdir('.')\n",
    "newlist = fnmatch.filter(mylist,'*.pkl')\n",
    "selected = chGui.gui.selectorDialog(newlist,'pick one')"
   ]
  },
  {
   "cell_type": "code",
   "execution_count": 25,
   "metadata": {},
   "outputs": [],
   "source": [
    "mypkl = selected.selectedText[0]"
   ]
  },
  {
   "cell_type": "code",
   "execution_count": 26,
   "metadata": {},
   "outputs": [
    {
     "name": "stdout",
     "output_type": "stream",
     "text": [
      "tab2_1993_qs_fe_13_match.pkl\n"
     ]
    }
   ],
   "source": [
    "print(mypkl)"
   ]
  },
  {
   "cell_type": "markdown",
   "metadata": {},
   "source": [
    "## the next two steps if you want to restart without recalculating the match attribute"
   ]
  },
  {
   "cell_type": "code",
   "execution_count": 16,
   "metadata": {},
   "outputs": [
    {
     "name": "stdout",
     "output_type": "stream",
     "text": [
      " XUVTOP = /data2/svn/chianti/dbase/trunk\n",
      " abundanceName = sun_photospheric_2015_scott\n",
      " minimum abundance =   1.00e-06\n",
      " # of observables / reduce # = 9        3.00\n"
     ]
    }
   ],
   "source": [
    "box = mm.maker(tab)"
   ]
  },
  {
   "cell_type": "code",
   "execution_count": 17,
   "metadata": {},
   "outputs": [],
   "source": [
    "box.load(mypkl)"
   ]
  },
  {
   "cell_type": "markdown",
   "metadata": {},
   "source": [
    "## can just continue here"
   ]
  },
  {
   "cell_type": "markdown",
   "metadata": {},
   "source": [
    "## plot the contribution functions vs density"
   ]
  },
  {
   "cell_type": "code",
   "execution_count": 27,
   "metadata": {},
   "outputs": [
    {
     "data": {
      "text/plain": [
       "' T:      1.78e+06'"
      ]
     },
     "execution_count": 27,
     "metadata": {},
     "output_type": "execute_result"
    }
   ],
   "source": [
    "temp = box.Temperature\n",
    "' T:  %12.2e'%(temp[0])"
   ]
  },
  {
   "cell_type": "code",
   "execution_count": 28,
   "metadata": {},
   "outputs": [
    {
     "data": {
      "text/plain": [
       "' Ne:      1.00e+06'"
      ]
     },
     "execution_count": 28,
     "metadata": {},
     "output_type": "execute_result"
    }
   ],
   "source": [
    "dens = box.EDensity\n",
    "' Ne:  %12.2e'%(dens[0])"
   ]
  },
  {
   "cell_type": "code",
   "execution_count": 29,
   "metadata": {},
   "outputs": [
    {
     "name": "stdout",
     "output_type": "stream",
     "text": [
      "  9\n"
     ]
    }
   ],
   "source": [
    "nMatches = len(box.match)\n",
    "print('%3i'%(nMatches))"
   ]
  },
  {
   "cell_type": "code",
   "execution_count": 30,
   "metadata": {},
   "outputs": [],
   "source": [
    "adjust = np.ones(nMatches,np.float64)"
   ]
  },
  {
   "cell_type": "code",
   "execution_count": 31,
   "metadata": {},
   "outputs": [],
   "source": [
    "adjust[2] = 0.70\n",
    "adjust[3] = 1.05\n",
    "adjust[4] = 0.70\n",
    "adjust[8] = 0.75"
   ]
  },
  {
   "cell_type": "code",
   "execution_count": 32,
   "metadata": {},
   "outputs": [],
   "source": [
    "lr = ['l','l','l','r','l','r','r','l','r']"
   ]
  },
  {
   "cell_type": "code",
   "execution_count": 33,
   "metadata": {},
   "outputs": [
    {
     "name": "stdout",
     "output_type": "stream",
     "text": [
      " len of lr:      9\n"
     ]
    }
   ],
   "source": [
    "print(' len of lr:  %5i'%(len(lr)))"
   ]
  },
  {
   "cell_type": "code",
   "execution_count": 34,
   "metadata": {},
   "outputs": [
    {
     "name": "stdout",
     "output_type": "stream",
     "text": [
      " position is the right length\n",
      " 0  311.6\n",
      " 1  312.2\n",
      " 2  312.9\n",
      " 3  318.1\n",
      " 4  320.8\n",
      " 5  321.5\n",
      " 6  348.2\n",
      " 7  359.7\n",
      " 8  359.9\n"
     ]
    }
   ],
   "source": [
    "plt.figure()\n",
    "box.emPlot(vs='d', fs=12, loc='center right', adjust = adjust, position = lr)"
   ]
  },
  {
   "cell_type": "code",
   "execution_count": 35,
   "metadata": {},
   "outputs": [],
   "source": [
    "left,right = plt.xlim()\n",
    "bottom, top = plt.ylim()\n",
    "plt.xlim(left, 1.e+14)\n",
    "plt.ylim(bottom, 1.e+28)\n",
    "plt.text(1.e+8, 3.e+26, myIon, fontsize=18)\n",
    "plt.tight_layout()"
   ]
  },
  {
   "cell_type": "code",
   "execution_count": null,
   "metadata": {},
   "outputs": [],
   "source": []
  }
 ],
 "metadata": {
  "kernelspec": {
   "display_name": "Python 3 (ipykernel)",
   "language": "python",
   "name": "python3"
  },
  "language_info": {
   "codemirror_mode": {
    "name": "ipython",
    "version": 3
   },
   "file_extension": ".py",
   "mimetype": "text/x-python",
   "name": "python",
   "nbconvert_exporter": "python",
   "pygments_lexer": "ipython3",
   "version": "3.8.12"
  },
  "varInspector": {
   "cols": {
    "lenName": 16,
    "lenType": 16,
    "lenVar": 40
   },
   "kernels_config": {
    "python": {
     "delete_cmd_postfix": "",
     "delete_cmd_prefix": "del ",
     "library": "var_list.py",
     "varRefreshCmd": "print(var_dic_list())"
    },
    "r": {
     "delete_cmd_postfix": ") ",
     "delete_cmd_prefix": "rm(",
     "library": "var_list.r",
     "varRefreshCmd": "cat(var_dic_list()) "
    }
   },
   "types_to_exclude": [
    "module",
    "function",
    "builtin_function_or_method",
    "instance",
    "_Feature"
   ],
   "window_display": false
  }
 },
 "nbformat": 4,
 "nbformat_minor": 1
}
