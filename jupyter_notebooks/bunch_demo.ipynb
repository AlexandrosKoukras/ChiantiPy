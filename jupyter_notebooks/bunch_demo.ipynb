{
 "cells": [
  {
   "cell_type": "markdown",
   "id": "b5b05b96",
   "metadata": {},
   "source": [
    "# bunch demo"
   ]
  },
  {
   "cell_type": "markdown",
   "id": "dd541669",
   "metadata": {},
   "source": [
    "## run bunch, save the data and work with the restored data"
   ]
  },
  {
   "cell_type": "code",
   "execution_count": null,
   "id": "499ac96f",
   "metadata": {},
   "outputs": [],
   "source": [
    "import pickle\n",
    "import numpy as np\n",
    "import matplotlib.pyplot as plt\n",
    "import ChiantiPy.core as ch\n",
    "import ChiantiPy.tools.util as chutil"
   ]
  },
  {
   "cell_type": "code",
   "execution_count": null,
   "id": "e81dd235",
   "metadata": {},
   "outputs": [],
   "source": [
    "autoreload 3"
   ]
  },
  {
   "cell_type": "code",
   "execution_count": null,
   "id": "7c4ea458",
   "metadata": {},
   "outputs": [],
   "source": [
    "matplotlib qt"
   ]
  },
  {
   "cell_type": "markdown",
   "id": "00c5320f",
   "metadata": {},
   "source": [
    "## this is similar to one of the quick start examples"
   ]
  },
  {
   "cell_type": "code",
   "execution_count": null,
   "id": "71beb27c",
   "metadata": {},
   "outputs": [],
   "source": [
    "wvlRange = [300., 500]"
   ]
  },
  {
   "cell_type": "code",
   "execution_count": null,
   "id": "6c3959d2",
   "metadata": {},
   "outputs": [],
   "source": [
    "temp = 10.**(5.0+0.1*np.arange(11))\n",
    "dens = 1.e+9\n",
    "em = 1.e+27"
   ]
  },
  {
   "cell_type": "code",
   "execution_count": null,
   "id": "306fbef3",
   "metadata": {},
   "outputs": [],
   "source": [
    "bnch = ch.bunch(temp, dens, wvlRange=wvlRange, ionList=['ne_6','mg_6'], em=1.e+27)"
   ]
  },
  {
   "cell_type": "markdown",
   "id": "e363c59f",
   "metadata": {},
   "source": [
    "## determine what temperature is to be plotted"
   ]
  },
  {
   "cell_type": "code",
   "execution_count": null,
   "id": "dc656041",
   "metadata": {},
   "outputs": [],
   "source": [
    "for it, t in enumerate(temp):\n",
    "    print(' it:  %2i  temp  %10.2e'%(it, t))"
   ]
  },
  {
   "cell_type": "code",
   "execution_count": null,
   "id": "65ddcaf2",
   "metadata": {},
   "outputs": [],
   "source": [
    "tIndex = 6"
   ]
  },
  {
   "cell_type": "code",
   "execution_count": null,
   "id": "33fdea21",
   "metadata": {},
   "outputs": [],
   "source": [
    "' temp[tIndex]:  %10.2e '%(temp[tIndex])"
   ]
  },
  {
   "cell_type": "code",
   "execution_count": null,
   "id": "ecc48dd1",
   "metadata": {},
   "outputs": [],
   "source": [
    "bnch.intensityPlot(index=tIndex, wvlRange=wvlRange, top=20, linLog='lin')"
   ]
  },
  {
   "cell_type": "code",
   "execution_count": null,
   "id": "bb0585a4",
   "metadata": {},
   "outputs": [],
   "source": [
    "bnch.intensityPlot(index=tIndex, wvlRange=[390.,410.], top=20, linLog='lin')"
   ]
  },
  {
   "cell_type": "code",
   "execution_count": null,
   "id": "bbfd6cf7",
   "metadata": {},
   "outputs": [],
   "source": [
    "bnch.intensityPlot(index=tIndex, wvlRange=[398.,405.], top=20, linLog='lin')"
   ]
  },
  {
   "cell_type": "markdown",
   "id": "655147fe",
   "metadata": {},
   "source": [
    "## save the calculations to a pickle file"
   ]
  },
  {
   "cell_type": "code",
   "execution_count": null,
   "id": "28b99229",
   "metadata": {},
   "outputs": [],
   "source": [
    "saveName = 'bunch_demo.pkl'"
   ]
  },
  {
   "cell_type": "code",
   "execution_count": null,
   "id": "cc9b2558",
   "metadata": {},
   "outputs": [],
   "source": [
    "bnch.saveData(saveName)"
   ]
  },
  {
   "cell_type": "code",
   "execution_count": null,
   "id": "f5362863",
   "metadata": {},
   "outputs": [],
   "source": [
    "with open(saveName,'rb') as inpt:\n",
    "    bunchDict = pickle.load(inpt)"
   ]
  },
  {
   "cell_type": "markdown",
   "id": "21547771",
   "metadata": {},
   "source": [
    "### examine what is in bunchDict"
   ]
  },
  {
   "cell_type": "code",
   "execution_count": null,
   "id": "3fdcc260",
   "metadata": {},
   "outputs": [],
   "source": [
    "for akey in bunchDict.keys():\n",
    "    print(' key:  %s'%(akey))"
   ]
  },
  {
   "cell_type": "code",
   "execution_count": null,
   "id": "a741109a",
   "metadata": {},
   "outputs": [],
   "source": [
    "bunchDict['abundanceName']"
   ]
  },
  {
   "cell_type": "code",
   "execution_count": null,
   "id": "2507ff28",
   "metadata": {},
   "outputs": [],
   "source": [
    "bunchDict['abundAll'].shape"
   ]
  },
  {
   "cell_type": "code",
   "execution_count": null,
   "id": "f08c47bc",
   "metadata": {},
   "outputs": [],
   "source": [
    "bunchDict['ionsCalculated'][0]"
   ]
  },
  {
   "cell_type": "code",
   "execution_count": null,
   "id": "0cf573c5",
   "metadata": {},
   "outputs": [],
   "source": [
    "len(bunchDict['ionsCalculated'])"
   ]
  },
  {
   "cell_type": "code",
   "execution_count": null,
   "id": "c2d4b9f0",
   "metadata": {},
   "outputs": [],
   "source": [
    "bunchDict['defaults'].keys()"
   ]
  },
  {
   "cell_type": "code",
   "execution_count": null,
   "id": "8d1f6748",
   "metadata": {},
   "outputs": [],
   "source": [
    "bunchDict['em'].shape"
   ]
  },
  {
   "cell_type": "code",
   "execution_count": null,
   "id": "1a9032df",
   "metadata": {},
   "outputs": [],
   "source": [
    "bunchDict['intensity'].keys()"
   ]
  },
  {
   "cell_type": "code",
   "execution_count": null,
   "id": "80eb9305",
   "metadata": {},
   "outputs": [],
   "source": [
    "bunchDict['intensity']['intensity'].shape"
   ]
  },
  {
   "cell_type": "code",
   "execution_count": null,
   "id": "c0789794",
   "metadata": {},
   "outputs": [],
   "source": [
    "bunchDict['intensity']['integrated'].shape"
   ]
  },
  {
   "cell_type": "code",
   "execution_count": null,
   "id": "747698e1",
   "metadata": {},
   "outputs": [],
   "source": [
    "len(bunchDict['intensity']['ionS'])"
   ]
  },
  {
   "cell_type": "code",
   "execution_count": null,
   "id": "973ffd5a",
   "metadata": {},
   "outputs": [],
   "source": [
    "bunchDict['nTemp']"
   ]
  },
  {
   "cell_type": "code",
   "execution_count": null,
   "id": "1a88f9a6",
   "metadata": {},
   "outputs": [],
   "source": [
    "bunchDict['nDens']"
   ]
  },
  {
   "cell_type": "code",
   "execution_count": null,
   "id": "d0981f0b",
   "metadata": {},
   "outputs": [],
   "source": [
    "bunchDict['nTempDens']"
   ]
  },
  {
   "cell_type": "code",
   "execution_count": null,
   "id": "143931c7",
   "metadata": {},
   "outputs": [],
   "source": [
    "min(bunchDict['intensity']['wvl'])"
   ]
  },
  {
   "cell_type": "code",
   "execution_count": null,
   "id": "38b74fdb",
   "metadata": {},
   "outputs": [],
   "source": [
    "max(bunchDict['intensity']['wvl'])"
   ]
  },
  {
   "cell_type": "markdown",
   "id": "4e8b86d5",
   "metadata": {},
   "source": [
    "## make another plot of lines calculated in bunch\n",
    "\n",
    "## there is more flexibility when working with the saveData dict"
   ]
  },
  {
   "cell_type": "code",
   "execution_count": null,
   "id": "e150a2ad",
   "metadata": {},
   "outputs": [],
   "source": [
    "fs = 10  # fontsize\n",
    "figsize = [7., 5.]"
   ]
  },
  {
   "cell_type": "code",
   "execution_count": null,
   "id": "a443b19c",
   "metadata": {},
   "outputs": [],
   "source": [
    "fig, ax = plt.subplots(figsize=figsize)"
   ]
  },
  {
   "cell_type": "code",
   "execution_count": null,
   "id": "ec079541",
   "metadata": {},
   "outputs": [],
   "source": [
    "wvlRange = [300.,500]"
   ]
  },
  {
   "cell_type": "code",
   "execution_count": null,
   "id": "c059e991",
   "metadata": {},
   "outputs": [],
   "source": [
    "ax.set_xlim(wvlRange)"
   ]
  },
  {
   "cell_type": "markdown",
   "id": "c70c4cb5",
   "metadata": {},
   "source": [
    "## it is best to only plot those wavelength in the wvlRange"
   ]
  },
  {
   "cell_type": "code",
   "execution_count": null,
   "id": "64b0aeb4",
   "metadata": {},
   "outputs": [],
   "source": [
    "index = chutil.between(bunchDict['intensity']['wvl'], wvlRange)"
   ]
  },
  {
   "cell_type": "code",
   "execution_count": null,
   "id": "79b2e1d4",
   "metadata": {},
   "outputs": [],
   "source": [
    "len(index)"
   ]
  },
  {
   "cell_type": "code",
   "execution_count": null,
   "id": "259e490c",
   "metadata": {},
   "outputs": [],
   "source": [
    "bunchDict['intensity']['integrated'][index].size"
   ]
  },
  {
   "cell_type": "markdown",
   "id": "a31ee30a",
   "metadata": {},
   "source": [
    "### just plot the most intense lines, minIntensity could be set to zero"
   ]
  },
  {
   "cell_type": "code",
   "execution_count": null,
   "id": "47b6a97e",
   "metadata": {},
   "outputs": [],
   "source": [
    "minIntensity = bunchDict['intensity']['integrated'][index].max()/20."
   ]
  },
  {
   "cell_type": "code",
   "execution_count": null,
   "id": "f1329db8",
   "metadata": {},
   "outputs": [],
   "source": [
    "' %10.3e'%(minIntensity)"
   ]
  },
  {
   "cell_type": "code",
   "execution_count": null,
   "id": "b2803f81",
   "metadata": {},
   "outputs": [],
   "source": [
    "for idx in index:\n",
    "    wvl = bunchDict['intensity']['wvl'][idx]    \n",
    "    integrated = bunchDict['intensity']['integrated'][idx]\n",
    "    if integrated > minIntensity:\n",
    "        ax.plot([wvl, wvl] , [0., integrated])"
   ]
  },
  {
   "cell_type": "code",
   "execution_count": null,
   "id": "6a8c82b4",
   "metadata": {},
   "outputs": [],
   "source": [
    "ylim = ax.get_ylim()"
   ]
  },
  {
   "cell_type": "code",
   "execution_count": null,
   "id": "9094a13f",
   "metadata": {},
   "outputs": [],
   "source": [
    "ylim"
   ]
  },
  {
   "cell_type": "code",
   "execution_count": null,
   "id": "e9f4b7e3",
   "metadata": {},
   "outputs": [],
   "source": [
    "ax.set_ylim([0., 1.5*ylim[1]])"
   ]
  },
  {
   "cell_type": "code",
   "execution_count": null,
   "id": "fe679539",
   "metadata": {},
   "outputs": [],
   "source": [
    "for idx in index:\n",
    "    wvl = bunchDict['intensity']['wvl'][idx]    \n",
    "    lbl = bunchDict['intensity']['ionS'][idx] + ' %7.3f'%(wvl)\n",
    "    if bunchDict['intensity']['integrated'][idx] > minIntensity:\n",
    "        ax.text(wvl, 1.2*bunchDict['intensity']['integrated'][idx], lbl, ha='center', rotation='vertical', fontsize=fs)"
   ]
  },
  {
   "cell_type": "code",
   "execution_count": null,
   "id": "fd4499b4",
   "metadata": {},
   "outputs": [],
   "source": [
    "ax.set_xlabel('Wavelength ($\\AA$)', fontsize=16)"
   ]
  },
  {
   "cell_type": "code",
   "execution_count": null,
   "id": "64ede62d",
   "metadata": {
    "scrolled": true
   },
   "outputs": [],
   "source": [
    "fig.tight_layout()"
   ]
  },
  {
   "cell_type": "markdown",
   "id": "71a914ca",
   "metadata": {},
   "source": [
    "### looks kind of a mess, look at a narrower wavelength range"
   ]
  },
  {
   "cell_type": "code",
   "execution_count": null,
   "id": "f04d895c",
   "metadata": {},
   "outputs": [],
   "source": [
    "fig, ax = plt.subplots(figsize=figsize)"
   ]
  },
  {
   "cell_type": "code",
   "execution_count": null,
   "id": "41d506f0",
   "metadata": {},
   "outputs": [],
   "source": [
    "wvlRange = [399.,404.]"
   ]
  },
  {
   "cell_type": "code",
   "execution_count": null,
   "id": "4718405e",
   "metadata": {},
   "outputs": [],
   "source": [
    "ax.set_xlim(wvlRange)"
   ]
  },
  {
   "cell_type": "code",
   "execution_count": null,
   "id": "25b6191d",
   "metadata": {},
   "outputs": [],
   "source": [
    "index = chutil.between(bunchDict['intensity']['wvl'], wvlRange)"
   ]
  },
  {
   "cell_type": "code",
   "execution_count": null,
   "id": "4d8d01e5",
   "metadata": {},
   "outputs": [],
   "source": [
    "len(index)"
   ]
  },
  {
   "cell_type": "code",
   "execution_count": null,
   "id": "98068b35",
   "metadata": {},
   "outputs": [],
   "source": [
    "bunchDict['intensity']['integrated'][index].size"
   ]
  },
  {
   "cell_type": "markdown",
   "id": "d9ce2a82",
   "metadata": {},
   "source": [
    "### just plot the most intense lines, minIntensity could be set to zero"
   ]
  },
  {
   "cell_type": "code",
   "execution_count": null,
   "id": "88f6f633",
   "metadata": {},
   "outputs": [],
   "source": [
    "minIntensity = bunchDict['intensity']['integrated'][index].max()/20."
   ]
  },
  {
   "cell_type": "code",
   "execution_count": null,
   "id": "8f4737f6",
   "metadata": {},
   "outputs": [],
   "source": [
    "' %10.3e'%(minIntensity)"
   ]
  },
  {
   "cell_type": "code",
   "execution_count": null,
   "id": "88823b72",
   "metadata": {},
   "outputs": [],
   "source": [
    "for idx in index:\n",
    "    wvl = bunchDict['intensity']['wvl'][idx]    \n",
    "    integrated = bunchDict['intensity']['integrated'][idx]\n",
    "    if integrated > minIntensity:\n",
    "        ax.plot([wvl, wvl] , [0., integrated])"
   ]
  },
  {
   "cell_type": "code",
   "execution_count": null,
   "id": "d0b63a61",
   "metadata": {},
   "outputs": [],
   "source": [
    "ylim = ax.get_ylim()"
   ]
  },
  {
   "cell_type": "code",
   "execution_count": null,
   "id": "34d28dec",
   "metadata": {},
   "outputs": [],
   "source": [
    "ylim"
   ]
  },
  {
   "cell_type": "code",
   "execution_count": null,
   "id": "5d4ea216",
   "metadata": {},
   "outputs": [],
   "source": [
    "ax.set_ylim([0., 1.5*ylim[1]])"
   ]
  },
  {
   "cell_type": "code",
   "execution_count": null,
   "id": "f324836b",
   "metadata": {},
   "outputs": [],
   "source": [
    "for idx in index:\n",
    "    wvl = bunchDict['intensity']['wvl'][idx]    \n",
    "    lbl = bunchDict['intensity']['ionS'][idx] + ' %7.3f'%(wvl)\n",
    "    if bunchDict['intensity']['integrated'][idx] > minIntensity:\n",
    "        ax.text(wvl, 1.2*bunchDict['intensity']['integrated'][idx], lbl, ha='center', rotation='vertical', fontsize=fs)"
   ]
  },
  {
   "cell_type": "code",
   "execution_count": null,
   "id": "3dfbdd88",
   "metadata": {},
   "outputs": [],
   "source": [
    "ax.set_xlabel('Wavelength ($\\AA$)', fontsize=16)"
   ]
  },
  {
   "cell_type": "code",
   "execution_count": null,
   "id": "7231b4f1",
   "metadata": {
    "scrolled": true
   },
   "outputs": [],
   "source": [
    "fig.tight_layout()"
   ]
  },
  {
   "cell_type": "markdown",
   "id": "0e3852eb",
   "metadata": {},
   "source": [
    "# plot the intensities for a given temperature"
   ]
  },
  {
   "cell_type": "code",
   "execution_count": null,
   "id": "fde42a10",
   "metadata": {},
   "outputs": [],
   "source": [
    "for it, temp in enumerate(bunchDict['temperature']):\n",
    "    print('it:  %2i  temperature  %10.2e'%(it,temp))"
   ]
  },
  {
   "cell_type": "markdown",
   "id": "ab2dc02c",
   "metadata": {},
   "source": [
    "## pick a temperature of 3.16e+5 K"
   ]
  },
  {
   "cell_type": "code",
   "execution_count": null,
   "id": "377c42f8",
   "metadata": {},
   "outputs": [],
   "source": [
    "tIndex = 5"
   ]
  },
  {
   "cell_type": "code",
   "execution_count": null,
   "id": "dfc08989",
   "metadata": {},
   "outputs": [],
   "source": [
    "fig, ax = plt.subplots(figsize=figsize)"
   ]
  },
  {
   "cell_type": "code",
   "execution_count": null,
   "id": "03818f49",
   "metadata": {},
   "outputs": [],
   "source": [
    "wvlRange = [399.,404.]"
   ]
  },
  {
   "cell_type": "code",
   "execution_count": null,
   "id": "d619b1c9",
   "metadata": {},
   "outputs": [],
   "source": [
    "ax.set_xlim(wvlRange)"
   ]
  },
  {
   "cell_type": "code",
   "execution_count": null,
   "id": "c8ad87b6",
   "metadata": {},
   "outputs": [],
   "source": [
    "index = chutil.between(bunchDict['intensity']['wvl'], wvlRange)"
   ]
  },
  {
   "cell_type": "code",
   "execution_count": null,
   "id": "bfc995a6",
   "metadata": {},
   "outputs": [],
   "source": [
    "len(index)"
   ]
  },
  {
   "cell_type": "code",
   "execution_count": null,
   "id": "e602fa2a",
   "metadata": {},
   "outputs": [],
   "source": [
    "bunchDict['intensity']['integrated'][index].size"
   ]
  },
  {
   "cell_type": "markdown",
   "id": "68d3ffd9",
   "metadata": {},
   "source": [
    "### just plot the most intense lines, minIntensity could be set to zero"
   ]
  },
  {
   "cell_type": "code",
   "execution_count": null,
   "id": "1d4581ae",
   "metadata": {},
   "outputs": [],
   "source": [
    "minIntensity = bunchDict['intensity']['intensity'][tIndex, index].max()/20."
   ]
  },
  {
   "cell_type": "code",
   "execution_count": null,
   "id": "c9d92eef",
   "metadata": {},
   "outputs": [],
   "source": [
    "' %10.3e'%(minIntensity)"
   ]
  },
  {
   "cell_type": "code",
   "execution_count": null,
   "id": "4354bc2e",
   "metadata": {},
   "outputs": [],
   "source": [
    "for idx in index:\n",
    "    wvl = bunchDict['intensity']['wvl'][idx]    \n",
    "    integrated = bunchDict['intensity']['intensity'][tIndex, idx]\n",
    "    if integrated > minIntensity:\n",
    "        ax.plot([wvl, wvl] , [0., integrated])"
   ]
  },
  {
   "cell_type": "code",
   "execution_count": null,
   "id": "354589c9",
   "metadata": {},
   "outputs": [],
   "source": [
    "ylim = ax.get_ylim()"
   ]
  },
  {
   "cell_type": "code",
   "execution_count": null,
   "id": "c770f2ab",
   "metadata": {},
   "outputs": [],
   "source": [
    "ylim"
   ]
  },
  {
   "cell_type": "code",
   "execution_count": null,
   "id": "aa436d6b",
   "metadata": {},
   "outputs": [],
   "source": [
    "ax.set_ylim([0., 1.5*ylim[1]])"
   ]
  },
  {
   "cell_type": "code",
   "execution_count": null,
   "id": "3580e3af",
   "metadata": {},
   "outputs": [],
   "source": [
    "for idx in index:\n",
    "    wvl = bunchDict['intensity']['wvl'][idx]    \n",
    "    lbl = bunchDict['intensity']['ionS'][idx] + ' %7.3f'%(wvl)\n",
    "    if bunchDict['intensity']['intensity'][tIndex, idx] > minIntensity:\n",
    "        ax.text(wvl, 1.2*bunchDict['intensity']['intensity'][tIndex,idx], lbl, ha='center', rotation='vertical', fontsize=fs)"
   ]
  },
  {
   "cell_type": "code",
   "execution_count": null,
   "id": "86807e38",
   "metadata": {},
   "outputs": [],
   "source": [
    "dstr=' -  Density = %10.2e (cm$^{-3}$)' % bunchDict['eDensity'][tIndex]\n",
    "tstr='T = %10.2e (K)' % bunchDict['temperature'][tIndex]"
   ]
  },
  {
   "cell_type": "code",
   "execution_count": null,
   "id": "6277a38b",
   "metadata": {},
   "outputs": [],
   "source": [
    "ax.set_title(tstr + dstr, fontsize=14)"
   ]
  },
  {
   "cell_type": "code",
   "execution_count": null,
   "id": "c0e0c66e",
   "metadata": {},
   "outputs": [],
   "source": [
    "ax.set_xlabel('Wavelength ($\\AA$)', fontsize=16)"
   ]
  },
  {
   "cell_type": "code",
   "execution_count": null,
   "id": "439996fb",
   "metadata": {
    "scrolled": true
   },
   "outputs": [],
   "source": [
    "fig.tight_layout()"
   ]
  },
  {
   "cell_type": "code",
   "execution_count": null,
   "id": "4e77899c",
   "metadata": {},
   "outputs": [],
   "source": []
  }
 ],
 "metadata": {
  "kernelspec": {
   "display_name": "Python 3.8 (ipykernel)",
   "language": "python",
   "name": "python3.8"
  },
  "language_info": {
   "codemirror_mode": {
    "name": "ipython",
    "version": 3
   },
   "file_extension": ".py",
   "mimetype": "text/x-python",
   "name": "python",
   "nbconvert_exporter": "python",
   "pygments_lexer": "ipython3",
   "version": "3.8.12"
  },
  "varInspector": {
   "cols": {
    "lenName": 16,
    "lenType": 16,
    "lenVar": 40
   },
   "kernels_config": {
    "python": {
     "delete_cmd_postfix": "",
     "delete_cmd_prefix": "del ",
     "library": "var_list.py",
     "varRefreshCmd": "print(var_dic_list())"
    },
    "r": {
     "delete_cmd_postfix": ") ",
     "delete_cmd_prefix": "rm(",
     "library": "var_list.r",
     "varRefreshCmd": "cat(var_dic_list()) "
    }
   },
   "types_to_exclude": [
    "module",
    "function",
    "builtin_function_or_method",
    "instance",
    "_Feature"
   ],
   "window_display": false
  }
 },
 "nbformat": 4,
 "nbformat_minor": 5
}
