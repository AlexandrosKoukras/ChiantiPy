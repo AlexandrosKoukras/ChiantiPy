{
 "cells": [
  {
   "cell_type": "markdown",
   "metadata": {},
   "source": [
    "# reconstruct the model for Table 2  1993 QS fe_13 data and predict the line intensities"
   ]
  },
  {
   "cell_type": "code",
   "execution_count": 14,
   "metadata": {},
   "outputs": [],
   "source": [
    "import os\n",
    "import json\n",
    "import pickle\n",
    "import fnmatch\n",
    "import matplotlib.pyplot as plt\n",
    "import numpy as np\n",
    "import ChiantiPy.tools.util as chutil\n",
    "import ChiantiPy.model as mdl\n",
    "import ChiantiPy.model.Maker as mm"
   ]
  },
  {
   "cell_type": "code",
   "execution_count": 2,
   "metadata": {},
   "outputs": [],
   "source": [
    "%autoreload 3"
   ]
  },
  {
   "cell_type": "code",
   "execution_count": 3,
   "metadata": {},
   "outputs": [],
   "source": [
    "matplotlib qt"
   ]
  },
  {
   "cell_type": "code",
   "execution_count": null,
   "metadata": {},
   "outputs": [],
   "source": [
    "pwd"
   ]
  },
  {
   "cell_type": "code",
   "execution_count": null,
   "metadata": {},
   "outputs": [],
   "source": [
    "wd = os.getcwd()"
   ]
  },
  {
   "cell_type": "code",
   "execution_count": 28,
   "metadata": {},
   "outputs": [
    {
     "data": {
      "text/plain": [
       "'/home/ken/chianti/chiantipy/test_notebook'"
      ]
     },
     "execution_count": 28,
     "metadata": {},
     "output_type": "execute_result"
    }
   ],
   "source": [
    "wd"
   ]
  },
  {
   "cell_type": "code",
   "execution_count": 5,
   "metadata": {},
   "outputs": [],
   "source": [
    "myIon = 'fe_13'"
   ]
  },
  {
   "cell_type": "code",
   "execution_count": 6,
   "metadata": {},
   "outputs": [],
   "source": [
    "nameDict = chutil.convertName(myIon)"
   ]
  },
  {
   "cell_type": "code",
   "execution_count": 7,
   "metadata": {},
   "outputs": [
    {
     "data": {
      "text/plain": [
       "dict_keys(['Z', 'Ion', 'Dielectronic', 'Element', 'higher', 'lower', 'filename', 'iso', 'isoEl', 'spectroscopic', 'experimental'])"
      ]
     },
     "execution_count": 7,
     "metadata": {},
     "output_type": "execute_result"
    }
   ],
   "source": [
    "nameDict.keys()"
   ]
  },
  {
   "cell_type": "code",
   "execution_count": 8,
   "metadata": {},
   "outputs": [
    {
     "data": {
      "text/plain": [
       "'Fe XIII'"
      ]
     },
     "execution_count": 8,
     "metadata": {},
     "output_type": "execute_result"
    }
   ],
   "source": [
    "nameDict['spectroscopic']"
   ]
  },
  {
   "cell_type": "code",
   "execution_count": 9,
   "metadata": {},
   "outputs": [
    {
     "data": {
      "text/plain": [
       "'Fe 12+'"
      ]
     },
     "execution_count": 9,
     "metadata": {},
     "output_type": "execute_result"
    }
   ],
   "source": [
    "nameDict['experimental']"
   ]
  },
  {
   "cell_type": "code",
   "execution_count": 10,
   "metadata": {},
   "outputs": [
    {
     "name": "stdout",
     "output_type": "stream",
     "text": [
      "\u001b[0m\u001b[00m0.test.notebooks.in.git.dir\u001b[0m\r\n",
      "\u001b[00m1_fe_13_demo_make_match.html\u001b[0m\r\n",
      "\u001b[00m1_fe_13_demo_make_match.ipynb\u001b[0m\r\n",
      "\u001b[00m2_fe_13_demo_check_model.html\u001b[0m\r\n",
      "\u001b[00m2_fe_13_demo_check_model.ipynb\u001b[0m\r\n",
      "\u001b[00m3_fe_13_demo_chi2_search.ipynb\u001b[0m\r\n",
      "\u001b[00m4_fe_13_demo_mcmc.ipynb\u001b[0m\r\n",
      "\u001b[00m5_fe_13_demo_mcmc_trace_analyze.ipynb\u001b[0m\r\n",
      "\u001b[00mfe_13_demo_make_model.html\u001b[0m\r\n",
      "\u001b[00mpredictPrintPrior.txt\u001b[0m\r\n",
      "\u001b[00mresults_2022_March_28_2000_100000.pkl\u001b[0m\r\n",
      "\u001b[00mtab2_1993_qs_fe_13_1dsearch.pkl\u001b[0m\r\n",
      "\u001b[00mtab2_1993_qs_fe_13_1dsearch_summary.txt\u001b[0m\r\n",
      "\u001b[00mtab2_1993_qs_fe_13.json\u001b[0m\r\n",
      "\u001b[00mtab2_1993_qs_fe_13_match.pkl\u001b[0m\r\n",
      "\u001b[00mtab2_1993_qs_fe_13_match_postDiffPrint_2000_100000_2022-03-21_wvl.txt\u001b[0m\r\n",
      "\u001b[00mtab2_1993_qs_fe_13_match_postDiffPrint_2000_100000_2022-03-22_wvl.txt\u001b[0m\r\n",
      "\u001b[00mtab2_1993_qs_fe_13_match_postDiffPrint_2000_100000_2022-03-28_wvl.txt\u001b[0m\r\n",
      "\u001b[00mtab2_1993_qs_fe_13_match_postDiffPrint_2000_100000_2022-03-30_wvl.txt\u001b[0m\r\n",
      "\u001b[00mtab2_1993_qs_fe_13_match_postPredictPrint_2000_100000_2022-03-21_wvl.txt\u001b[0m\r\n",
      "\u001b[00mtab2_1993_qs_fe_13_match_postPredictPrint_2000_100000_2022-03-22_wvl.txt\u001b[0m\r\n",
      "\u001b[00mtab2_1993_qs_fe_13_match_postPredictPrint_2000_100000_2022-03-28_wvl.txt\u001b[0m\r\n",
      "\u001b[00mtab2_1993_qs_fe_13_match_postPredictPrint_2000_100000_2022-03-30_wvl.txt\u001b[0m\r\n",
      "\u001b[00mtab2_fe_13_br_summary.pkl\u001b[0m\r\n",
      "\u001b[00mtab2_fe_13_diffPrintFinal.txt\u001b[0m\r\n",
      "\u001b[00mtab2_fe_13_predictPrintFinal.txt\u001b[0m\r\n",
      "\u001b[00mtab2_fe_13_predictPrintPost.txt\u001b[0m\r\n",
      "\u001b[00mtab2_fe_13_predictPrintPrior.txt\u001b[0m\r\n",
      "\u001b[00mtable2-1993-QS_fe_13_diff_print.txt\u001b[0m\r\n",
      "\u001b[00mtable2-1993-QS_fe_13_predict_print.txt\u001b[0m\r\n",
      "\u001b[00mtable2-1993-QS_fe_13_prior_diff_print.txt\u001b[0m\r\n",
      "\u001b[00mtable2-1993-QS_fe_13_prior_predict_print.txt\u001b[0m\r\n"
     ]
    }
   ],
   "source": [
    "ls"
   ]
  },
  {
   "cell_type": "code",
   "execution_count": 37,
   "metadata": {},
   "outputs": [],
   "source": [
    "dirList = os.listdir(wd)"
   ]
  },
  {
   "cell_type": "code",
   "execution_count": 38,
   "metadata": {},
   "outputs": [],
   "source": [
    "jsonList = []\n",
    "for fname in dirList:\n",
    "    if fnmatch.fnmatch(fname, '*.json'):\n",
    "        jsonList.append(fname)"
   ]
  },
  {
   "cell_type": "code",
   "execution_count": 39,
   "metadata": {},
   "outputs": [
    {
     "name": "stdout",
     "output_type": "stream",
     "text": [
      "idx:  0   fname:  tab2_1993_qs_fe_13.json\n"
     ]
    }
   ],
   "source": [
    "for idx, fname in enumerate(jsonList):\n",
    "    print('idx:  %i   fname:  %s'%(idx, fname))"
   ]
  },
  {
   "cell_type": "markdown",
   "metadata": {},
   "source": [
    "## the fe_13 intensities are in the .json file"
   ]
  },
  {
   "cell_type": "code",
   "execution_count": 40,
   "metadata": {},
   "outputs": [],
   "source": [
    "with open(jsonList[0], 'r') as inpt:\n",
    "    specData = json.load(inpt)"
   ]
  },
  {
   "cell_type": "code",
   "execution_count": 41,
   "metadata": {},
   "outputs": [
    {
     "data": {
      "text/plain": [
       "['Brosius, Jeffrey W.; Davila, Joseph M.; Thomas, Roger J.; Monsignori-Fossi, Brunella C.',\n",
       " 'Measuring Active and Quiet-Sun Coronal Plasma Properties with Extreme-Ultraviolet Spectra from SERTS ',\n",
       " '1996, Astrophysical Journal Supplement v.106, p.143',\n",
       " 'ADSref:  https://ui.adsabs.harvard.edu/abs/1996ApJS..106..143B/abstract']"
      ]
     },
     "execution_count": 41,
     "metadata": {},
     "output_type": "execute_result"
    }
   ],
   "source": [
    "specData['ref']"
   ]
  },
  {
   "cell_type": "code",
   "execution_count": 42,
   "metadata": {},
   "outputs": [
    {
     "data": {
      "text/plain": [
       "dict_keys(['filename', 'wvl0', 'intensity', 'intStd', 'dwvl', 'ions', 'ref'])"
      ]
     },
     "execution_count": 42,
     "metadata": {},
     "output_type": "execute_result"
    }
   ],
   "source": [
    "specData.keys()"
   ]
  },
  {
   "cell_type": "code",
   "execution_count": 43,
   "metadata": {},
   "outputs": [],
   "source": [
    "wghtFactor = 0.2"
   ]
  },
  {
   "cell_type": "code",
   "execution_count": 44,
   "metadata": {},
   "outputs": [
    {
     "name": "stdout",
     "output_type": "stream",
     "text": [
      " XUVTOP = /data2/a2git/chdbase/\n",
      " abundanceName = sun_photospheric_2015_scott\n",
      " minimum abundance =   1.00e+01\n",
      " # of observables / reduce # = 9        3.00\n"
     ]
    }
   ],
   "source": [
    "box = mm.maker(specData, wghtFactor = wghtFactor, verbose = True)"
   ]
  },
  {
   "cell_type": "code",
   "execution_count": 45,
   "metadata": {},
   "outputs": [
    {
     "name": "stdout",
     "output_type": "stream",
     "text": [
      "\u001b[0m\u001b[00m0.test.notebooks.in.git.dir\u001b[0m\r\n",
      "\u001b[00m1_fe_13_demo_make_match.html\u001b[0m\r\n",
      "\u001b[00m1_fe_13_demo_make_match.ipynb\u001b[0m\r\n",
      "\u001b[00m2_fe_13_demo_check_model.html\u001b[0m\r\n",
      "\u001b[00m2_fe_13_demo_check_model.ipynb\u001b[0m\r\n",
      "\u001b[00m3_fe_13_demo_chi2_search.ipynb\u001b[0m\r\n",
      "\u001b[00m4_fe_13_demo_mcmc.ipynb\u001b[0m\r\n",
      "\u001b[00m5_fe_13_demo_mcmc_trace_analyze.ipynb\u001b[0m\r\n",
      "\u001b[00mfe_13_demo_make_model.html\u001b[0m\r\n",
      "\u001b[00mpredictPrintPrior.txt\u001b[0m\r\n",
      "\u001b[00mresults_2022_March_28_2000_100000.pkl\u001b[0m\r\n",
      "\u001b[00mtab2_1993_qs_fe_13_1dsearch.pkl\u001b[0m\r\n",
      "\u001b[00mtab2_1993_qs_fe_13_1dsearch_summary.txt\u001b[0m\r\n",
      "\u001b[00mtab2_1993_qs_fe_13.json\u001b[0m\r\n",
      "\u001b[00mtab2_1993_qs_fe_13_match.pkl\u001b[0m\r\n",
      "\u001b[00mtab2_1993_qs_fe_13_match_postDiffPrint_2000_100000_2022-03-21_wvl.txt\u001b[0m\r\n",
      "\u001b[00mtab2_1993_qs_fe_13_match_postDiffPrint_2000_100000_2022-03-22_wvl.txt\u001b[0m\r\n",
      "\u001b[00mtab2_1993_qs_fe_13_match_postDiffPrint_2000_100000_2022-03-28_wvl.txt\u001b[0m\r\n",
      "\u001b[00mtab2_1993_qs_fe_13_match_postDiffPrint_2000_100000_2022-03-30_wvl.txt\u001b[0m\r\n",
      "\u001b[00mtab2_1993_qs_fe_13_match_postPredictPrint_2000_100000_2022-03-21_wvl.txt\u001b[0m\r\n",
      "\u001b[00mtab2_1993_qs_fe_13_match_postPredictPrint_2000_100000_2022-03-22_wvl.txt\u001b[0m\r\n",
      "\u001b[00mtab2_1993_qs_fe_13_match_postPredictPrint_2000_100000_2022-03-28_wvl.txt\u001b[0m\r\n",
      "\u001b[00mtab2_1993_qs_fe_13_match_postPredictPrint_2000_100000_2022-03-30_wvl.txt\u001b[0m\r\n",
      "\u001b[00mtab2_fe_13_br_summary.pkl\u001b[0m\r\n",
      "\u001b[00mtab2_fe_13_diffPrintFinal.txt\u001b[0m\r\n",
      "\u001b[00mtab2_fe_13_predictPrintFinal.txt\u001b[0m\r\n",
      "\u001b[00mtab2_fe_13_predictPrintPost.txt\u001b[0m\r\n",
      "\u001b[00mtab2_fe_13_predictPrintPrior.txt\u001b[0m\r\n",
      "\u001b[00mtable2-1993-QS_fe_13_diff_print.txt\u001b[0m\r\n",
      "\u001b[00mtable2-1993-QS_fe_13_predict_print.txt\u001b[0m\r\n",
      "\u001b[00mtable2-1993-QS_fe_13_prior_diff_print.txt\u001b[0m\r\n",
      "\u001b[00mtable2-1993-QS_fe_13_prior_predict_print.txt\u001b[0m\r\n"
     ]
    }
   ],
   "source": [
    "ls"
   ]
  },
  {
   "cell_type": "code",
   "execution_count": 48,
   "metadata": {},
   "outputs": [],
   "source": [
    "pklList = []\n",
    "for fname in dirList:\n",
    "    if fnmatch.fnmatch(fname, '*.pkl'):\n",
    "        pklList.append(fname)"
   ]
  },
  {
   "cell_type": "code",
   "execution_count": 49,
   "metadata": {},
   "outputs": [
    {
     "name": "stdout",
     "output_type": "stream",
     "text": [
      "idx:  0   fname:  tab2_1993_qs_fe_13_match.pkl\n",
      "idx:  1   fname:  tab2_1993_qs_fe_13_1dsearch.pkl\n",
      "idx:  2   fname:  tab2_fe_13_br_summary.pkl\n",
      "idx:  3   fname:  results_2022_March_28_2000_100000.pkl\n"
     ]
    }
   ],
   "source": [
    "for idx, fname in enumerate(pklList):\n",
    "    print('idx:  %i   fname:  %s'%(idx, fname))"
   ]
  },
  {
   "cell_type": "markdown",
   "metadata": {},
   "source": [
    "## open the pickled match file"
   ]
  },
  {
   "cell_type": "code",
   "execution_count": 50,
   "metadata": {},
   "outputs": [],
   "source": [
    "matchName = pklList[0]"
   ]
  },
  {
   "cell_type": "code",
   "execution_count": 51,
   "metadata": {},
   "outputs": [
    {
     "data": {
      "text/plain": [
       "'tab2_1993_qs_fe_13_match.pkl'"
      ]
     },
     "execution_count": 51,
     "metadata": {},
     "output_type": "execute_result"
    }
   ],
   "source": [
    "matchName"
   ]
  },
  {
   "cell_type": "code",
   "execution_count": 52,
   "metadata": {},
   "outputs": [],
   "source": [
    "with open(matchName,'rb') as inpt:\n",
    "    match = pickle.load(inpt)"
   ]
  },
  {
   "cell_type": "code",
   "execution_count": 53,
   "metadata": {},
   "outputs": [
    {
     "data": {
      "text/plain": [
       "dict_keys(['match', 'Temperature', 'EDensity', 'Ndens', 'Ntemp', 'NTempDens', 'MinAbund', 'WghtFactor'])"
      ]
     },
     "execution_count": 53,
     "metadata": {},
     "output_type": "execute_result"
    }
   ],
   "source": [
    "match.keys()"
   ]
  },
  {
   "cell_type": "code",
   "execution_count": 54,
   "metadata": {},
   "outputs": [
    {
     "data": {
      "text/plain": [
       "dict_keys(['ion', 'wvl', 'lineIdx', 'wvldiff', 'lvl1', 'lvl2', 'pretty1', 'pretty2', 'predictedLine', 'iPredictedLine', 'obsIntensity', 'exptIon', 'obsWvl', 'intensity', 'intensitySum', 'tmax'])"
      ]
     },
     "execution_count": 54,
     "metadata": {},
     "output_type": "execute_result"
    }
   ],
   "source": [
    "match['match'][0].keys()"
   ]
  },
  {
   "cell_type": "markdown",
   "metadata": {},
   "source": [
    "## temperature and density are in the pickled match file"
   ]
  },
  {
   "cell_type": "code",
   "execution_count": 55,
   "metadata": {},
   "outputs": [
    {
     "data": {
      "text/plain": [
       "(241,)"
      ]
     },
     "execution_count": 55,
     "metadata": {},
     "output_type": "execute_result"
    }
   ],
   "source": [
    "match['EDensity'].shape"
   ]
  },
  {
   "cell_type": "code",
   "execution_count": 56,
   "metadata": {},
   "outputs": [
    {
     "data": {
      "text/plain": [
       "1000000.0"
      ]
     },
     "execution_count": 56,
     "metadata": {},
     "output_type": "execute_result"
    }
   ],
   "source": [
    "match['EDensity'][0]"
   ]
  },
  {
   "cell_type": "code",
   "execution_count": 57,
   "metadata": {},
   "outputs": [],
   "source": [
    "dens = match['EDensity']"
   ]
  },
  {
   "cell_type": "code",
   "execution_count": 58,
   "metadata": {},
   "outputs": [
    {
     "data": {
      "text/plain": [
       "' density range =   1.00e+06 to   1.00e+12'"
      ]
     },
     "execution_count": 58,
     "metadata": {},
     "output_type": "execute_result"
    }
   ],
   "source": [
    "' density range = %10.2e to %10.2e'%(dens.min(), dens.max())"
   ]
  },
  {
   "cell_type": "markdown",
   "metadata": {},
   "source": [
    "## load the matches saved in the pickle file"
   ]
  },
  {
   "cell_type": "code",
   "execution_count": 59,
   "metadata": {},
   "outputs": [
    {
     "name": "stdout",
     "output_type": "stream",
     "text": [
      " EmIndices not in matchDict\n",
      "Em not in matchDict\n",
      "Em not in matchDict\n",
      "NT not in matchDict\n"
     ]
    }
   ],
   "source": [
    "box.loadMatch(matchName)"
   ]
  },
  {
   "cell_type": "markdown",
   "metadata": {},
   "source": [
    "## demo #1  gave a prettier plot"
   ]
  },
  {
   "cell_type": "code",
   "execution_count": 60,
   "metadata": {},
   "outputs": [
    {
     "name": "stdout",
     "output_type": "stream",
     "text": [
      " 0  311.6\n",
      " 1  312.2\n",
      " 2  312.9\n",
      " 3  318.1\n",
      " 4  320.8\n",
      " 5  321.5\n",
      " 6  348.2\n",
      " 7  359.7\n",
      " 8  359.9\n"
     ]
    }
   ],
   "source": [
    "plt.figure()\n",
    "box.emPlot(vs='d')\n",
    "plt.text(1.e+7, 3.e+26, myIon, horizontalalignment='center', fontsize=16)\n",
    "plt.xlabel('Electron Density (cm$^{-3}$)', fontsize=14)\n",
    "plt.ylabel('Emissin Measure (cm$^{-5}$)', fontsize=14)\n",
    "plt.tight_layout()"
   ]
  },
  {
   "cell_type": "code",
   "execution_count": 61,
   "metadata": {},
   "outputs": [
    {
     "name": "stdout",
     "output_type": "stream",
     "text": [
      " # of density values   241\n"
     ]
    }
   ],
   "source": [
    "print(' # of density values %5i'%(box.EDensity.size))"
   ]
  },
  {
   "cell_type": "markdown",
   "metadata": {},
   "source": [
    "## from the plot, a density of 7.e+8  and an em of 1.e+27 is estimated"
   ]
  },
  {
   "cell_type": "code",
   "execution_count": 62,
   "metadata": {},
   "outputs": [
    {
     "data": {
      "text/plain": [
       "' Dindex =   114'"
      ]
     },
     "execution_count": 62,
     "metadata": {},
     "output_type": "execute_result"
    }
   ],
   "source": [
    "Dindex = np.argmin(np.abs(box.EDensity - 7.e+8))\n",
    "' Dindex = %5i'%(Dindex)"
   ]
  },
  {
   "cell_type": "code",
   "execution_count": 63,
   "metadata": {},
   "outputs": [
    {
     "data": {
      "text/plain": [
       "1"
      ]
     },
     "execution_count": 63,
     "metadata": {},
     "output_type": "execute_result"
    }
   ],
   "source": [
    "Dindex.size"
   ]
  },
  {
   "cell_type": "code",
   "execution_count": 64,
   "metadata": {},
   "outputs": [
    {
     "name": "stdout",
     "output_type": "stream",
     "text": [
      "index   114 temperature     1.78e+06\n",
      "density set to   7.08e+08\n"
     ]
    }
   ],
   "source": [
    "box.emSetIndices(Dindex, verbose=1)\n",
    "print('density set to %10.2e'%(box.EDensity[Dindex]))"
   ]
  },
  {
   "cell_type": "code",
   "execution_count": 65,
   "metadata": {},
   "outputs": [
    {
     "data": {
      "text/plain": [
       "' em    1.00e+27  emLog      27.00'"
      ]
     },
     "execution_count": 65,
     "metadata": {},
     "output_type": "execute_result"
    }
   ],
   "source": [
    "em = 1.e+27\n",
    "emLog = np.log10(em)\n",
    "' em  %10.2e  emLog %10.2f'%(em, emLog)"
   ]
  },
  {
   "cell_type": "code",
   "execution_count": 66,
   "metadata": {},
   "outputs": [],
   "source": [
    "box.emSet(emLog)"
   ]
  },
  {
   "cell_type": "markdown",
   "metadata": {},
   "source": [
    "## can reset the WghtFactor if appropriate"
   ]
  },
  {
   "cell_type": "code",
   "execution_count": 67,
   "metadata": {},
   "outputs": [
    {
     "data": {
      "text/plain": [
       "0.2"
      ]
     },
     "execution_count": 67,
     "metadata": {},
     "output_type": "execute_result"
    }
   ],
   "source": [
    "box.WghtFactor"
   ]
  },
  {
   "cell_type": "code",
   "execution_count": 68,
   "metadata": {},
   "outputs": [],
   "source": [
    "box.WghtFactor = 0.2  # or whatever is appropriate"
   ]
  },
  {
   "cell_type": "markdown",
   "metadata": {},
   "source": [
    "## predict the line intensities from the temperature indices and log_10 emission measures"
   ]
  },
  {
   "cell_type": "code",
   "execution_count": 69,
   "metadata": {},
   "outputs": [],
   "source": [
    "box.predict()"
   ]
  },
  {
   "cell_type": "markdown",
   "metadata": {},
   "source": [
    "## predictPrint outputs to  'filename' \n",
    "\n",
    "## 'sort' can be set to 'wvl' or 'ion'"
   ]
  },
  {
   "cell_type": "code",
   "execution_count": 70,
   "metadata": {},
   "outputs": [
    {
     "name": "stdout",
     "output_type": "stream",
     "text": [
      " cwd:  /home/ken/chianti/chiantipy/test_notebook\n",
      "   114     7.08e+08     1.78e+06     1.00e+27\n",
      "matchPkl tab2_1993_qs_fe_13_match.pkl \n",
      "wghtFactor      0.200\n",
      " -------------------------------------------------\n",
      "  iwvl    IonS        wvl        Int       Pred   Int/Pred        chi\n",
      "               wvl lvl1 lvl2                lower -                upper lineIdx predLine contribution\n",
      " -------------------------------------------------\n",
      "     0   fe_13    311.574   6.13e+00   3.38e+00      1.814      2.244\n",
      "         fe_13\n",
      "           311.547    2   12        3s2 3p2 3P1.0 - 3s 3p3 3P2.0            29     0   1.000\n",
      " -------------------------------------------------\n",
      " -------------------------------------------------\n",
      "     1   fe_13    312.171   1.78e+01   1.71e+01      1.042      0.202\n",
      "         fe_13\n",
      "           312.174    2   11        3s2 3p2 3P1.0 - 3s 3p3 3P1.0            24     0   1.000\n",
      " -------------------------------------------------\n",
      " -------------------------------------------------\n",
      "     2   fe_13    312.907   7.34e+00   7.17e+00      1.024      0.115\n",
      "         fe_13\n",
      "           312.868    2   10        3s2 3p2 3P1.0 - 3s 3p3 3P0.0            22     0   1.000\n",
      " -------------------------------------------------\n",
      " -------------------------------------------------\n",
      "     3   fe_13    318.129   6.09e+00   9.86e+00      0.618      3.096\n",
      "         fe_13\n",
      "           318.130    4   13        3s2 3p2 1D2.0 - 3s 3p3 1D2.0            31     0   1.000\n",
      " -------------------------------------------------\n",
      " -------------------------------------------------\n",
      "     4   fe_13    320.802   2.45e+01   2.39e+01      1.024      0.116\n",
      "         fe_13\n",
      "           320.800    3   12        3s2 3p2 3P2.0 - 3s 3p3 3P2.0            30     0   1.000\n",
      " -------------------------------------------------\n",
      " -------------------------------------------------\n",
      "     5   fe_13    321.464   8.64e+00   8.55e+00      1.010      0.049\n",
      "         fe_13\n",
      "           321.466    3   11        3s2 3p2 3P2.0 - 3s 3p3 3P1.0            25     0   1.000\n",
      " -------------------------------------------------\n",
      " -------------------------------------------------\n",
      "     6   fe_13    348.196   5.50e+01   3.93e+01      1.401      1.432\n",
      "         fe_13\n",
      "           348.183    1    7        3s2 3p2 3P0.0 - 3s 3p3 3D1.0            15     0   1.000\n",
      " -------------------------------------------------\n",
      " -------------------------------------------------\n",
      "     7   fe_13    359.658   2.84e+01   3.19e+01      0.891      0.614\n",
      "         fe_13\n",
      "           359.644    2    8        3s2 3p2 3P1.0 - 3s 3p3 3D2.0            18     0   1.000\n",
      " -------------------------------------------------\n",
      " -------------------------------------------------\n",
      "     8   fe_13    359.851   1.18e+01   1.03e+01      1.145      0.632\n",
      "         fe_13\n",
      "           359.839    2    7        3s2 3p2 3P1.0 - 3s 3p3 3D1.0            13     0   1.000\n",
      " -------------------------------------------------\n",
      " -------------------------------------------------\n"
     ]
    }
   ],
   "source": [
    "box.predictPrint(filename='table2-1993-QS_fe_13_prior_predict_print.txt', sort='wvl')"
   ]
  },
  {
   "cell_type": "markdown",
   "metadata": {},
   "source": [
    "## the box.Diff attribute can be created either by box.diff(), or box.DiffPrint, as below"
   ]
  },
  {
   "cell_type": "code",
   "execution_count": 71,
   "metadata": {},
   "outputs": [],
   "source": [
    "box.diff()"
   ]
  },
  {
   "cell_type": "code",
   "execution_count": 72,
   "metadata": {},
   "outputs": [
    {
     "data": {
      "text/plain": [
       "dict_keys(['diff', 'intOverPred', 'diffOverInt', 'wvl', 'ionS', '3sig', 'poor', 'noPredIdx', 'noPredWvl', 'noPredIon'])"
      ]
     },
     "execution_count": 72,
     "metadata": {},
     "output_type": "execute_result"
    }
   ],
   "source": [
    "box.Diff.keys()"
   ]
  },
  {
   "cell_type": "code",
   "execution_count": 73,
   "metadata": {},
   "outputs": [
    {
     "data": {
      "text/plain": [
       "' the were 0 lines without predictions'"
      ]
     },
     "execution_count": 73,
     "metadata": {},
     "output_type": "execute_result"
    }
   ],
   "source": [
    "' the were %i lines without predictions'%(len(box.Diff['noPredIdx']))"
   ]
  },
  {
   "cell_type": "markdown",
   "metadata": {},
   "source": [
    "## diffPrint outputs to  'filename' \n",
    "\n",
    "## 'sort' can be set to 'wvl' or 'ion'"
   ]
  },
  {
   "cell_type": "code",
   "execution_count": 74,
   "metadata": {},
   "outputs": [
    {
     "name": "stdout",
     "output_type": "stream",
     "text": [
      "   114     7.08e+08     1.78e+06     1.00e+27\n",
      " -------------------------------------------------\n",
      " cwd:  /home/ken/chianti/chiantipy/test_notebook\n",
      " today is 2022_April_04\n",
      " WghtFactor =      0.200\n",
      " index      density  temperature           Em\n",
      "   114     7.08e+08     1.78e+06     1.00e+27   27.000\n",
      " -------------------------------------------------\n",
      " chi = abs(int - pred)/(wght*int))  strDiff = (int - pred)/pred\n",
      "                        A                                                    abs        abs\n",
      "  iwvl    ionS        wvl  intensity  predicted   int/pred        chi     relDev    dif/int\n",
      "     0   fe_13    311.574   6.13e+00   3.38e+00      1.814      2.244      0.814      0.449\n",
      "     1   fe_13    312.171   1.78e+01   1.71e+01      1.042      0.202      0.042      0.040\n",
      "     2   fe_13    312.907   7.34e+00   7.17e+00      1.024      0.115      0.024      0.023\n",
      "     3   fe_13    318.129   6.09e+00   9.86e+00      0.618      3.096     -0.382     -0.619\n",
      "     4   fe_13    320.802   2.45e+01   2.39e+01      1.024      0.116      0.024      0.023\n",
      "     5   fe_13    321.464   8.64e+00   8.55e+00      1.010      0.049      0.010      0.010\n",
      "     6   fe_13    348.196   5.50e+01   3.93e+01      1.401      1.432      0.401      0.286\n",
      "     7   fe_13    359.658   2.84e+01   3.19e+01      0.891      0.614     -0.109     -0.123\n",
      "     8   fe_13    359.851   1.18e+01   1.03e+01      1.145      0.632      0.145      0.126\n",
      " WghtFactor =      0.200\n",
      " mean of relative Deviation =      0.107 3*relDev =      0.322 stdDev =      0.317\n",
      "\n",
      " mean of intOverPred = abs(int/pred -1.)      0.107\n",
      " std =      0.278 3*std =      0.834\n",
      " sum of diffOverInt^2 =       0.701 weighted     17.517 \n",
      " chisq2 =     17.517\n",
      " Nobs = 9 Nions = 1\n",
      " Nparams = 2\n",
      "           Chisq =     17.517\n",
      "Normalized Chisq =      1.946 chisq/(nobs)\n",
      "Reduced Chisq    =      2.502 chisq/(nobs - nparams)\n"
     ]
    }
   ],
   "source": [
    "box.diffPrint(filename='table2-1993-QS_fe_13_prior_diff_print.txt', sort='wvl')"
   ]
  },
  {
   "cell_type": "code",
   "execution_count": 75,
   "metadata": {},
   "outputs": [
    {
     "data": {
      "text/plain": [
       "dict_keys(['diff', 'intOverPred', 'diffOverInt', 'wvl', 'ionS', '3sig', 'poor', 'noPredIdx', 'noPredWvl', 'noPredIon'])"
      ]
     },
     "execution_count": 75,
     "metadata": {},
     "output_type": "execute_result"
    }
   ],
   "source": [
    "box.Diff.keys()"
   ]
  },
  {
   "cell_type": "code",
   "execution_count": 76,
   "metadata": {},
   "outputs": [],
   "source": [
    "wvl = box.Diff['wvl']\n",
    "diff = box.Diff['diffOverInt']"
   ]
  },
  {
   "cell_type": "code",
   "execution_count": 77,
   "metadata": {},
   "outputs": [],
   "source": [
    "diffMean = diff.mean()\n",
    "diffStd = diff.std()"
   ]
  },
  {
   "cell_type": "code",
   "execution_count": 78,
   "metadata": {},
   "outputs": [
    {
     "data": {
      "text/plain": [
       "' diffMean      0.024  diff Std       0.278'"
      ]
     },
     "execution_count": 78,
     "metadata": {},
     "output_type": "execute_result"
    }
   ],
   "source": [
    "' diffMean %10.3f  diff Std  %10.3f'%(diffMean, diffStd)"
   ]
  },
  {
   "cell_type": "code",
   "execution_count": 79,
   "metadata": {},
   "outputs": [
    {
     "data": {
      "text/plain": [
       "[<matplotlib.lines.Line2D at 0x7fcb0f3f85b0>]"
      ]
     },
     "execution_count": 79,
     "metadata": {},
     "output_type": "execute_result"
    }
   ],
   "source": [
    "plt.figure()\n",
    "plt.plot(wvl, diff,'o')"
   ]
  },
  {
   "cell_type": "code",
   "execution_count": 80,
   "metadata": {},
   "outputs": [
    {
     "data": {
      "text/plain": [
       "<matplotlib.lines.Line2D at 0x7fcb0f25f6d0>"
      ]
     },
     "execution_count": 80,
     "metadata": {},
     "output_type": "execute_result"
    }
   ],
   "source": [
    "plt.axhline(diffMean, color='k', lw=2, label='Mean')\n",
    "plt.axhline(diffMean + diffStd, color='r', lw=2, linestyle='--', label='1 std')\n",
    "plt.axhline(diffMean - diffStd, color='r', lw=2, linestyle='--')  #, label='1 std')\n",
    "plt.axhline(diffMean + 2.*diffStd, color='b', lw=2, linestyle='dotted', label='2 std')\n",
    "plt.axhline(diffMean - 2.*diffStd, color='b', lw=2, linestyle='dotted')  #, label='2 std')\n",
    "plt.axhline(diffMean + 3.*diffStd, color='g', lw=2, linestyle='dotted', label='3 std')\n",
    "plt.axhline(diffMean - 3.*diffStd, color='g', lw=2, linestyle='dotted')  #, label='3 std')"
   ]
  },
  {
   "cell_type": "code",
   "execution_count": 81,
   "metadata": {},
   "outputs": [
    {
     "data": {
      "text/plain": [
       "Text(22.472222222222214, 0.5, '(Obs - Pred)/(w $\\\\times$ Obs)')"
      ]
     },
     "execution_count": 81,
     "metadata": {},
     "output_type": "execute_result"
    }
   ],
   "source": [
    "plt.xlabel('Wavelength ($\\AA$)', fontsize=14)\n",
    "plt.ylabel(r'(Obs - Pred)/(w $\\times$ Obs)', fontsize=14)"
   ]
  },
  {
   "cell_type": "code",
   "execution_count": 82,
   "metadata": {},
   "outputs": [
    {
     "data": {
      "text/plain": [
       "<matplotlib.legend.Legend at 0x7fcb0f068b50>"
      ]
     },
     "execution_count": 82,
     "metadata": {},
     "output_type": "execute_result"
    }
   ],
   "source": [
    "plt.legend(loc='upper right', bbox_to_anchor=(0.99, 1.0), fontsize=12)"
   ]
  },
  {
   "cell_type": "code",
   "execution_count": 83,
   "metadata": {},
   "outputs": [],
   "source": [
    "plt.tight_layout()"
   ]
  },
  {
   "cell_type": "markdown",
   "metadata": {},
   "source": [
    "## next, open the demo #3 notebooks to do a brute-force chi-squared search"
   ]
  },
  {
   "cell_type": "code",
   "execution_count": null,
   "metadata": {},
   "outputs": [],
   "source": []
  }
 ],
 "metadata": {
  "kernelspec": {
   "display_name": "Python 3 (ipykernel)",
   "language": "python",
   "name": "python3"
  },
  "language_info": {
   "codemirror_mode": {
    "name": "ipython",
    "version": 3
   },
   "file_extension": ".py",
   "mimetype": "text/x-python",
   "name": "python",
   "nbconvert_exporter": "python",
   "pygments_lexer": "ipython3",
   "version": "3.8.13"
  },
  "varInspector": {
   "cols": {
    "lenName": 16,
    "lenType": 16,
    "lenVar": 40
   },
   "kernels_config": {
    "python": {
     "delete_cmd_postfix": "",
     "delete_cmd_prefix": "del ",
     "library": "var_list.py",
     "varRefreshCmd": "print(var_dic_list())"
    },
    "r": {
     "delete_cmd_postfix": ") ",
     "delete_cmd_prefix": "rm(",
     "library": "var_list.r",
     "varRefreshCmd": "cat(var_dic_list()) "
    }
   },
   "types_to_exclude": [
    "module",
    "function",
    "builtin_function_or_method",
    "instance",
    "_Feature"
   ],
   "window_display": false
  }
 },
 "nbformat": 4,
 "nbformat_minor": 1
}
