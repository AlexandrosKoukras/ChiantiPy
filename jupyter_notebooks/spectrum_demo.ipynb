{
 "cells": [
  {
   "cell_type": "markdown",
   "id": "b5b05b96",
   "metadata": {},
   "source": [
    "# spectrum demo"
   ]
  },
  {
   "cell_type": "markdown",
   "id": "dd541669",
   "metadata": {},
   "source": [
    "## get an emission measure file, run mspectrum, save the data and work with the restored data"
   ]
  },
  {
   "cell_type": "code",
   "execution_count": null,
   "id": "499ac96f",
   "metadata": {},
   "outputs": [],
   "source": [
    "import os\n",
    "import pickle\n",
    "import numpy as np\n",
    "import matplotlib.pyplot as plt\n",
    "import ChiantiPy.core as ch\n",
    "import ChiantiPy.tools.util as chutil\n",
    "import ChiantiPy.tools.filters as chfilters"
   ]
  },
  {
   "cell_type": "code",
   "execution_count": null,
   "id": "e81dd235",
   "metadata": {},
   "outputs": [],
   "source": [
    "autoreload 3"
   ]
  },
  {
   "cell_type": "code",
   "execution_count": null,
   "id": "7c4ea458",
   "metadata": {},
   "outputs": [],
   "source": [
    "matplotlib qt"
   ]
  },
  {
   "cell_type": "markdown",
   "id": "80298a4c",
   "metadata": {},
   "source": [
    "## get an emission measure file\n",
    "\n",
    "## these are in XUVTOP/em"
   ]
  },
  {
   "cell_type": "code",
   "execution_count": null,
   "id": "772a7594",
   "metadata": {},
   "outputs": [],
   "source": [
    "emDir = os.path.join(os.environ['XUVTOP'], 'em')"
   ]
  },
  {
   "cell_type": "code",
   "execution_count": null,
   "id": "fa468fed",
   "metadata": {},
   "outputs": [],
   "source": [
    "emList = os.listdir(emDir)"
   ]
  },
  {
   "cell_type": "code",
   "execution_count": null,
   "id": "6409b733",
   "metadata": {},
   "outputs": [],
   "source": [
    "for idx, em in enumerate(emList):\n",
    "    print(' %i  %s'%(idx, em))"
   ]
  },
  {
   "cell_type": "markdown",
   "id": "25f816d5",
   "metadata": {},
   "source": [
    "## at present, there are only 2 files, a quiet sun EM and an active EM\n",
    "\n",
    "## I will pick the active region EM"
   ]
  },
  {
   "cell_type": "code",
   "execution_count": null,
   "id": "4e607a5c",
   "metadata": {},
   "outputs": [],
   "source": [
    "emAR = chio.emRead(emList[1])"
   ]
  },
  {
   "cell_type": "code",
   "execution_count": null,
   "id": "9ae2dd2b",
   "metadata": {},
   "outputs": [],
   "source": [
    "emAR.keys()"
   ]
  },
  {
   "cell_type": "code",
   "execution_count": null,
   "id": "554c4cc6",
   "metadata": {},
   "outputs": [],
   "source": [
    "for idx, temp in enumerate(emAR['temperature']):\n",
    "    print(' %i  %10.2e  %10.2e  %10.2e'%(idx, temp, emAR['density'][idx], emAR['em'][idx]))"
   ]
  },
  {
   "cell_type": "markdown",
   "id": "00c5320f",
   "metadata": {},
   "source": [
    "## this is similar to one of the quick start examples but uses the EM distribution"
   ]
  },
  {
   "cell_type": "code",
   "execution_count": null,
   "id": "7c1182a2",
   "metadata": {},
   "outputs": [],
   "source": [
    "temp = emAR['temperature']\n",
    "dens = emAR['density']\n",
    "em = emAR['em']"
   ]
  },
  {
   "cell_type": "code",
   "execution_count": null,
   "id": "2dbd0627",
   "metadata": {},
   "outputs": [],
   "source": [
    "wvlRange = [300.,400]"
   ]
  },
  {
   "cell_type": "code",
   "execution_count": null,
   "id": "761d78b4",
   "metadata": {},
   "outputs": [],
   "source": [
    "dwvl = 0.01\n",
    "nwvl = int((wvlRange[1] - wvlRange[0])/dwvl + 1)"
   ]
  },
  {
   "cell_type": "code",
   "execution_count": null,
   "id": "b86f88c5",
   "metadata": {},
   "outputs": [],
   "source": [
    "wvl = np.linspace(wvlRange[0], wvlRange[1], nwvl)"
   ]
  },
  {
   "cell_type": "markdown",
   "id": "9c37e43a",
   "metadata": {},
   "source": [
    "### will use mspectrum to use multiple cores/processors"
   ]
  },
  {
   "cell_type": "code",
   "execution_count": null,
   "id": "ff00af54",
   "metadata": {},
   "outputs": [],
   "source": [
    "cores = 4"
   ]
  },
  {
   "cell_type": "code",
   "execution_count": null,
   "id": "6c3959d2",
   "metadata": {},
   "outputs": [],
   "source": [
    "sp = ch.mspectrum(temp, dens, wvl, filter = (chfilters.gaussian,3.*dwvl), em = em, doContinuum=0, minAbund=1.e-5,\n",
    "                  proc=cores)"
   ]
  },
  {
   "cell_type": "code",
   "execution_count": null,
   "id": "1fcd57a0",
   "metadata": {},
   "outputs": [],
   "source": [
    "sp.spectrumPlot(integrated=True)"
   ]
  },
  {
   "cell_type": "markdown",
   "id": "f580caaf",
   "metadata": {},
   "source": [
    "## save the calculations to a pickle file"
   ]
  },
  {
   "cell_type": "code",
   "execution_count": null,
   "id": "c2430e5e",
   "metadata": {},
   "outputs": [],
   "source": [
    "saveName = 'spectrum_demo.pkl'"
   ]
  },
  {
   "cell_type": "code",
   "execution_count": null,
   "id": "53119c2d",
   "metadata": {},
   "outputs": [],
   "source": [
    "sp.saveData(saveName)"
   ]
  },
  {
   "cell_type": "code",
   "execution_count": null,
   "id": "19b75109",
   "metadata": {},
   "outputs": [],
   "source": [
    "sp.Intensity.keys()"
   ]
  },
  {
   "cell_type": "code",
   "execution_count": null,
   "id": "b47689a2",
   "metadata": {},
   "outputs": [],
   "source": [
    "sp.Em.size"
   ]
  },
  {
   "cell_type": "markdown",
   "id": "658e9d36",
   "metadata": {},
   "source": [
    "### index must be 0 through spectrumDict['em'].size - 1"
   ]
  },
  {
   "cell_type": "code",
   "execution_count": null,
   "id": "ecc48dd1",
   "metadata": {},
   "outputs": [],
   "source": [
    "sp.intensityPlot(index=2, wvlRange=wvlRange, top=20, linLog='lin')"
   ]
  },
  {
   "cell_type": "code",
   "execution_count": null,
   "id": "bb0585a4",
   "metadata": {},
   "outputs": [],
   "source": [
    "sp.intensityPlot(index=2, wvlRange=[330., 370.], top=20, linLog='lin')"
   ]
  },
  {
   "cell_type": "code",
   "execution_count": null,
   "id": "bbfd6cf7",
   "metadata": {},
   "outputs": [],
   "source": [
    "sp.intensityPlot(index=2, wvlRange=[340.,370.], top=20, linLog='lin')"
   ]
  },
  {
   "cell_type": "markdown",
   "id": "655147fe",
   "metadata": {},
   "source": [
    "## restore the calculations from the pickle file"
   ]
  },
  {
   "cell_type": "code",
   "execution_count": null,
   "id": "f5362863",
   "metadata": {},
   "outputs": [],
   "source": [
    "with open(saveName,'rb') as inpt:\n",
    "    spectrumDict = pickle.load(inpt)"
   ]
  },
  {
   "cell_type": "code",
   "execution_count": null,
   "id": "fb248418",
   "metadata": {},
   "outputs": [],
   "source": [
    "spectrumDict.keys()"
   ]
  },
  {
   "cell_type": "markdown",
   "id": "21547771",
   "metadata": {},
   "source": [
    "### examine what is in spectrumDict"
   ]
  },
  {
   "cell_type": "code",
   "execution_count": null,
   "id": "3fdcc260",
   "metadata": {},
   "outputs": [],
   "source": [
    "for akey in spectrumDict.keys():\n",
    "    print(' key:  %s'%(akey))"
   ]
  },
  {
   "cell_type": "code",
   "execution_count": null,
   "id": "a741109a",
   "metadata": {},
   "outputs": [],
   "source": [
    "spectrumDict['abundanceName']"
   ]
  },
  {
   "cell_type": "code",
   "execution_count": null,
   "id": "2507ff28",
   "metadata": {},
   "outputs": [],
   "source": [
    "spectrumDict['abundAll'].shape"
   ]
  },
  {
   "cell_type": "code",
   "execution_count": null,
   "id": "c2d4b9f0",
   "metadata": {},
   "outputs": [],
   "source": [
    "spectrumDict['defaults'].keys()"
   ]
  },
  {
   "cell_type": "code",
   "execution_count": null,
   "id": "8d1f6748",
   "metadata": {},
   "outputs": [],
   "source": [
    "spectrumDict['em'].shape"
   ]
  },
  {
   "cell_type": "code",
   "execution_count": null,
   "id": "1a9032df",
   "metadata": {},
   "outputs": [],
   "source": [
    "spectrumDict['intensity'].keys()"
   ]
  },
  {
   "cell_type": "code",
   "execution_count": null,
   "id": "80eb9305",
   "metadata": {},
   "outputs": [],
   "source": [
    "spectrumDict['intensity']['intensity'].shape"
   ]
  },
  {
   "cell_type": "code",
   "execution_count": null,
   "id": "c0789794",
   "metadata": {},
   "outputs": [],
   "source": [
    "spectrumDict['intensity']['integrated'].shape"
   ]
  },
  {
   "cell_type": "code",
   "execution_count": null,
   "id": "747698e1",
   "metadata": {},
   "outputs": [],
   "source": [
    "len(spectrumDict['intensity']['ionS'])"
   ]
  },
  {
   "cell_type": "code",
   "execution_count": null,
   "id": "36a85f08",
   "metadata": {},
   "outputs": [],
   "source": [
    "spectrumDict['intensity']['ionS'][0]"
   ]
  },
  {
   "cell_type": "code",
   "execution_count": null,
   "id": "973ffd5a",
   "metadata": {},
   "outputs": [],
   "source": [
    "spectrumDict['nTemp']"
   ]
  },
  {
   "cell_type": "code",
   "execution_count": null,
   "id": "1a88f9a6",
   "metadata": {},
   "outputs": [],
   "source": [
    "spectrumDict['nDens']"
   ]
  },
  {
   "cell_type": "code",
   "execution_count": null,
   "id": "d0981f0b",
   "metadata": {},
   "outputs": [],
   "source": [
    "spectrumDict['nTempDens']"
   ]
  },
  {
   "cell_type": "code",
   "execution_count": null,
   "id": "143931c7",
   "metadata": {},
   "outputs": [],
   "source": [
    "min(spectrumDict['intensity']['wvl'])"
   ]
  },
  {
   "cell_type": "code",
   "execution_count": null,
   "id": "38b74fdb",
   "metadata": {},
   "outputs": [],
   "source": [
    "max(spectrumDict['intensity']['wvl'])"
   ]
  },
  {
   "cell_type": "markdown",
   "id": "4e8b86d5",
   "metadata": {},
   "source": [
    "## make another plot of lines calculated in spectrum/mspectrum\n",
    "\n",
    "## there is more flexibility when working with the saveData dict"
   ]
  },
  {
   "cell_type": "code",
   "execution_count": null,
   "id": "e150a2ad",
   "metadata": {},
   "outputs": [],
   "source": [
    "fs = 10  # fontsize\n",
    "figsize = [7., 5.]"
   ]
  },
  {
   "cell_type": "code",
   "execution_count": null,
   "id": "a443b19c",
   "metadata": {},
   "outputs": [],
   "source": [
    "fig, ax = plt.subplots(figsize=figsize)"
   ]
  },
  {
   "cell_type": "code",
   "execution_count": null,
   "id": "c059e991",
   "metadata": {},
   "outputs": [],
   "source": [
    "ax.set_xlim(wvlRange)"
   ]
  },
  {
   "cell_type": "markdown",
   "id": "c70c4cb5",
   "metadata": {},
   "source": [
    "## it is best to only plot those wavelength in the wvlRange"
   ]
  },
  {
   "cell_type": "code",
   "execution_count": null,
   "id": "64b0aeb4",
   "metadata": {},
   "outputs": [],
   "source": [
    "index = chutil.between(spectrumDict['intensity']['wvl'], wvlRange)"
   ]
  },
  {
   "cell_type": "code",
   "execution_count": null,
   "id": "79b2e1d4",
   "metadata": {},
   "outputs": [],
   "source": [
    "len(index)"
   ]
  },
  {
   "cell_type": "code",
   "execution_count": null,
   "id": "259e490c",
   "metadata": {},
   "outputs": [],
   "source": [
    "spectrumDict['intensity']['integrated'][index].size"
   ]
  },
  {
   "cell_type": "markdown",
   "id": "a31ee30a",
   "metadata": {},
   "source": [
    "### just plot the most intense lines, minIntensity could be set to zero"
   ]
  },
  {
   "cell_type": "code",
   "execution_count": null,
   "id": "47b6a97e",
   "metadata": {},
   "outputs": [],
   "source": [
    "minIntensity = spectrumDict['intensity']['integrated'][index].max()/20."
   ]
  },
  {
   "cell_type": "code",
   "execution_count": null,
   "id": "f1329db8",
   "metadata": {},
   "outputs": [],
   "source": [
    "' %10.3e'%(minIntensity)"
   ]
  },
  {
   "cell_type": "code",
   "execution_count": null,
   "id": "b2803f81",
   "metadata": {},
   "outputs": [],
   "source": [
    "for idx in index:\n",
    "    wvl = spectrumDict['intensity']['wvl'][idx]    \n",
    "    integrated = spectrumDict['intensity']['integrated'][idx]\n",
    "    if integrated > minIntensity:\n",
    "        ax.plot([wvl, wvl] , [0., integrated])"
   ]
  },
  {
   "cell_type": "code",
   "execution_count": null,
   "id": "6a8c82b4",
   "metadata": {},
   "outputs": [],
   "source": [
    "ylim = ax.get_ylim()"
   ]
  },
  {
   "cell_type": "code",
   "execution_count": null,
   "id": "9094a13f",
   "metadata": {},
   "outputs": [],
   "source": [
    "ylim"
   ]
  },
  {
   "cell_type": "code",
   "execution_count": null,
   "id": "e9f4b7e3",
   "metadata": {},
   "outputs": [],
   "source": [
    "ax.set_ylim([0., 1.5*ylim[1]])"
   ]
  },
  {
   "cell_type": "code",
   "execution_count": null,
   "id": "fe679539",
   "metadata": {},
   "outputs": [],
   "source": [
    "for idx in index:\n",
    "    wvl = spectrumDict['intensity']['wvl'][idx]    \n",
    "    lbl = spectrumDict['intensity']['ionS'][idx] + ' %7.3f'%(wvl)\n",
    "    if spectrumDict['intensity']['integrated'][idx] > minIntensity:\n",
    "        ax.text(wvl, 1.2*spectrumDict['intensity']['integrated'][idx], lbl, ha='center', rotation='vertical', fontsize=fs)"
   ]
  },
  {
   "cell_type": "code",
   "execution_count": null,
   "id": "fd4499b4",
   "metadata": {},
   "outputs": [],
   "source": [
    "ax.set_xlabel(spectrumDict['xlabel'], fontsize=16)"
   ]
  },
  {
   "cell_type": "code",
   "execution_count": null,
   "id": "27c199e6",
   "metadata": {},
   "outputs": [],
   "source": [
    "ax.set_ylabel(spectrumDict['ylabel'], fontsize=16)"
   ]
  },
  {
   "cell_type": "code",
   "execution_count": null,
   "id": "64ede62d",
   "metadata": {
    "scrolled": true
   },
   "outputs": [],
   "source": [
    "fig.tight_layout()"
   ]
  },
  {
   "cell_type": "markdown",
   "id": "71a914ca",
   "metadata": {},
   "source": [
    "### looks kind of a mess, look at a narrower wavelength range"
   ]
  },
  {
   "cell_type": "code",
   "execution_count": null,
   "id": "f04d895c",
   "metadata": {},
   "outputs": [],
   "source": [
    "fig, ax = plt.subplots(figsize=figsize)"
   ]
  },
  {
   "cell_type": "code",
   "execution_count": null,
   "id": "41d506f0",
   "metadata": {},
   "outputs": [],
   "source": [
    "wvlRange = [340.,370.]"
   ]
  },
  {
   "cell_type": "code",
   "execution_count": null,
   "id": "4718405e",
   "metadata": {},
   "outputs": [],
   "source": [
    "ax.set_xlim(wvlRange)"
   ]
  },
  {
   "cell_type": "code",
   "execution_count": null,
   "id": "25b6191d",
   "metadata": {},
   "outputs": [],
   "source": [
    "index = chutil.between(spectrumDict['intensity']['wvl'], wvlRange)"
   ]
  },
  {
   "cell_type": "code",
   "execution_count": null,
   "id": "4d8d01e5",
   "metadata": {},
   "outputs": [],
   "source": [
    "len(index)"
   ]
  },
  {
   "cell_type": "code",
   "execution_count": null,
   "id": "98068b35",
   "metadata": {},
   "outputs": [],
   "source": [
    "spectrumDict['intensity']['integrated'][index].size"
   ]
  },
  {
   "cell_type": "markdown",
   "id": "d9ce2a82",
   "metadata": {},
   "source": [
    "### just plot the most intense lines, minIntensity could be set to zero"
   ]
  },
  {
   "cell_type": "code",
   "execution_count": null,
   "id": "88f6f633",
   "metadata": {},
   "outputs": [],
   "source": [
    "minIntensity = spectrumDict['intensity']['integrated'][index].max()/20."
   ]
  },
  {
   "cell_type": "code",
   "execution_count": null,
   "id": "8f4737f6",
   "metadata": {},
   "outputs": [],
   "source": [
    "' %10.3e'%(minIntensity)"
   ]
  },
  {
   "cell_type": "code",
   "execution_count": null,
   "id": "88823b72",
   "metadata": {},
   "outputs": [],
   "source": [
    "for idx in index:\n",
    "    wvl = spectrumDict['intensity']['wvl'][idx]    \n",
    "    integrated = spectrumDict['intensity']['integrated'][idx]\n",
    "    if integrated > minIntensity:\n",
    "        ax.plot([wvl, wvl] , [0., integrated])"
   ]
  },
  {
   "cell_type": "code",
   "execution_count": null,
   "id": "d0b63a61",
   "metadata": {},
   "outputs": [],
   "source": [
    "ylim = ax.get_ylim()"
   ]
  },
  {
   "cell_type": "code",
   "execution_count": null,
   "id": "34d28dec",
   "metadata": {},
   "outputs": [],
   "source": [
    "ylim"
   ]
  },
  {
   "cell_type": "code",
   "execution_count": null,
   "id": "5d4ea216",
   "metadata": {},
   "outputs": [],
   "source": [
    "ax.set_ylim([0., 1.5*ylim[1]])"
   ]
  },
  {
   "cell_type": "code",
   "execution_count": null,
   "id": "f324836b",
   "metadata": {},
   "outputs": [],
   "source": [
    "for idx in index:\n",
    "    wvl = spectrumDict['intensity']['wvl'][idx]    \n",
    "    lbl = spectrumDict['intensity']['ionS'][idx] + ' %7.3f'%(wvl)\n",
    "    if spectrumDict['intensity']['integrated'][idx] > minIntensity:\n",
    "        ax.text(wvl, 1.2*spectrumDict['intensity']['integrated'][idx], lbl, ha='center', rotation='vertical', fontsize=fs)"
   ]
  },
  {
   "cell_type": "code",
   "execution_count": null,
   "id": "012b6191",
   "metadata": {},
   "outputs": [],
   "source": [
    "ax.set_xlabel(spectrumDict['xlabel'], fontsize=16)"
   ]
  },
  {
   "cell_type": "code",
   "execution_count": null,
   "id": "91b1e4bc",
   "metadata": {},
   "outputs": [],
   "source": [
    "ax.set_ylabel(spectrumDict['ylabel'], fontsize=16)"
   ]
  },
  {
   "cell_type": "code",
   "execution_count": null,
   "id": "7231b4f1",
   "metadata": {
    "scrolled": true
   },
   "outputs": [],
   "source": [
    "fig.tight_layout()"
   ]
  },
  {
   "cell_type": "markdown",
   "id": "0e3852eb",
   "metadata": {},
   "source": [
    "# plot the intensities for a given temperature"
   ]
  },
  {
   "cell_type": "code",
   "execution_count": null,
   "id": "fde42a10",
   "metadata": {},
   "outputs": [],
   "source": [
    "for it, temp in enumerate(spectrumDict['temperature']):\n",
    "    print('it:  %2i  temperature  %10.2e'%(it,temp))"
   ]
  },
  {
   "cell_type": "markdown",
   "id": "ab2dc02c",
   "metadata": {},
   "source": [
    "## pick a temperature of 1.12e+6 K"
   ]
  },
  {
   "cell_type": "code",
   "execution_count": null,
   "id": "377c42f8",
   "metadata": {},
   "outputs": [],
   "source": [
    "tIndex = 1"
   ]
  },
  {
   "cell_type": "code",
   "execution_count": null,
   "id": "dfc08989",
   "metadata": {},
   "outputs": [],
   "source": [
    "fig, ax = plt.subplots(figsize=figsize)"
   ]
  },
  {
   "cell_type": "code",
   "execution_count": null,
   "id": "d619b1c9",
   "metadata": {},
   "outputs": [],
   "source": [
    "ax.set_xlim(wvlRange)"
   ]
  },
  {
   "cell_type": "code",
   "execution_count": null,
   "id": "c8ad87b6",
   "metadata": {},
   "outputs": [],
   "source": [
    "index = chutil.between(spectrumDict['intensity']['wvl'], wvlRange)"
   ]
  },
  {
   "cell_type": "code",
   "execution_count": null,
   "id": "bfc995a6",
   "metadata": {},
   "outputs": [],
   "source": [
    "len(index)"
   ]
  },
  {
   "cell_type": "code",
   "execution_count": null,
   "id": "e602fa2a",
   "metadata": {},
   "outputs": [],
   "source": [
    "spectrumDict['intensity']['integrated'][index].size"
   ]
  },
  {
   "cell_type": "markdown",
   "id": "68d3ffd9",
   "metadata": {},
   "source": [
    "### just plot the most intense lines, minIntensity could be set to zero"
   ]
  },
  {
   "cell_type": "code",
   "execution_count": null,
   "id": "1d4581ae",
   "metadata": {},
   "outputs": [],
   "source": [
    "minIntensity = spectrumDict['intensity']['intensity'][tIndex, index].max()/20."
   ]
  },
  {
   "cell_type": "code",
   "execution_count": null,
   "id": "c9d92eef",
   "metadata": {},
   "outputs": [],
   "source": [
    "' %10.3e'%(minIntensity)"
   ]
  },
  {
   "cell_type": "code",
   "execution_count": null,
   "id": "4354bc2e",
   "metadata": {},
   "outputs": [],
   "source": [
    "for idx in index:\n",
    "    wvl = spectrumDict['intensity']['wvl'][idx]    \n",
    "    integrated = spectrumDict['intensity']['intensity'][tIndex, idx]\n",
    "    if integrated > minIntensity:\n",
    "        ax.plot([wvl, wvl] , [0., integrated])"
   ]
  },
  {
   "cell_type": "code",
   "execution_count": null,
   "id": "354589c9",
   "metadata": {},
   "outputs": [],
   "source": [
    "ylim = ax.get_ylim()"
   ]
  },
  {
   "cell_type": "code",
   "execution_count": null,
   "id": "c770f2ab",
   "metadata": {},
   "outputs": [],
   "source": [
    "ylim"
   ]
  },
  {
   "cell_type": "code",
   "execution_count": null,
   "id": "aa436d6b",
   "metadata": {},
   "outputs": [],
   "source": [
    "ax.set_ylim([0., 1.5*ylim[1]])"
   ]
  },
  {
   "cell_type": "code",
   "execution_count": null,
   "id": "3580e3af",
   "metadata": {},
   "outputs": [],
   "source": [
    "for idx in index:\n",
    "    wvl = spectrumDict['intensity']['wvl'][idx]    \n",
    "    lbl = spectrumDict['intensity']['ionS'][idx] + ' %7.3f'%(wvl)\n",
    "    if spectrumDict['intensity']['intensity'][tIndex, idx] > minIntensity:\n",
    "        ax.text(wvl, 1.2*spectrumDict['intensity']['intensity'][tIndex,idx], lbl, ha='center', rotation='vertical', fontsize=fs)"
   ]
  },
  {
   "cell_type": "code",
   "execution_count": null,
   "id": "28066ee9",
   "metadata": {},
   "outputs": [],
   "source": [
    "ax.set_xlabel(spectrumDict['xlabel'], fontsize=16)"
   ]
  },
  {
   "cell_type": "code",
   "execution_count": null,
   "id": "9fec2ead",
   "metadata": {},
   "outputs": [],
   "source": [
    "ax.set_ylabel(spectrumDict['ylabel'], fontsize=16)"
   ]
  },
  {
   "cell_type": "code",
   "execution_count": null,
   "id": "86807e38",
   "metadata": {},
   "outputs": [],
   "source": [
    "dstr = ' -  Density = %10.2e (cm$^{-3}$)' % spectrumDict['eDensity'][tIndex]\n",
    "tstr = 'T = %10.2e (K)' % spectrumDict['temperature'][tIndex]\n",
    "emstr = ' em = %10.2e' % spectrumDict['em'][tIndex]"
   ]
  },
  {
   "cell_type": "code",
   "execution_count": null,
   "id": "6277a38b",
   "metadata": {},
   "outputs": [],
   "source": [
    "ax.set_title(tstr + dstr + '\\n' + emstr, fontsize=14)"
   ]
  },
  {
   "cell_type": "code",
   "execution_count": null,
   "id": "439996fb",
   "metadata": {
    "scrolled": true
   },
   "outputs": [],
   "source": [
    "fig.tight_layout()"
   ]
  },
  {
   "cell_type": "code",
   "execution_count": null,
   "id": "4e77899c",
   "metadata": {},
   "outputs": [],
   "source": []
  }
 ],
 "metadata": {
  "kernelspec": {
   "display_name": "Python 3.8 (ipykernel)",
   "language": "python",
   "name": "python3.8"
  },
  "language_info": {
   "codemirror_mode": {
    "name": "ipython",
    "version": 3
   },
   "file_extension": ".py",
   "mimetype": "text/x-python",
   "name": "python",
   "nbconvert_exporter": "python",
   "pygments_lexer": "ipython3",
   "version": "3.8.12"
  },
  "varInspector": {
   "cols": {
    "lenName": 16,
    "lenType": 16,
    "lenVar": 40
   },
   "kernels_config": {
    "python": {
     "delete_cmd_postfix": "",
     "delete_cmd_prefix": "del ",
     "library": "var_list.py",
     "varRefreshCmd": "print(var_dic_list())"
    },
    "r": {
     "delete_cmd_postfix": ") ",
     "delete_cmd_prefix": "rm(",
     "library": "var_list.r",
     "varRefreshCmd": "cat(var_dic_list()) "
    }
   },
   "types_to_exclude": [
    "module",
    "function",
    "builtin_function_or_method",
    "instance",
    "_Feature"
   ],
   "window_display": false
  }
 },
 "nbformat": 4,
 "nbformat_minor": 5
}
