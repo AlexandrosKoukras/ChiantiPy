{
 "cells": [
  {
   "cell_type": "markdown",
   "id": "b5b05b96",
   "metadata": {},
   "source": [
    "# spectrum demo 2"
   ]
  },
  {
   "cell_type": "markdown",
   "id": "dd541669",
   "metadata": {},
   "source": [
    "## get an emission measure file, run mspectrum, save the data and work with the restored data"
   ]
  },
  {
   "cell_type": "code",
   "execution_count": null,
   "id": "499ac96f",
   "metadata": {},
   "outputs": [],
   "source": [
    "import os\n",
    "import pickle\n",
    "import numpy as np\n",
    "import matplotlib.pyplot as plt\n",
    "import ChiantiPy.core as ch\n",
    "import ChiantiPy.tools.util as chutil\n",
    "import ChiantiPy.tools.filters as chfilters"
   ]
  },
  {
   "cell_type": "code",
   "execution_count": null,
   "id": "e81dd235",
   "metadata": {},
   "outputs": [],
   "source": [
    "autoreload 3"
   ]
  },
  {
   "cell_type": "code",
   "execution_count": null,
   "id": "7c4ea458",
   "metadata": {},
   "outputs": [],
   "source": [
    "matplotlib qt"
   ]
  },
  {
   "cell_type": "markdown",
   "id": "80298a4c",
   "metadata": {},
   "source": [
    "## get an emission measure file\n",
    "\n",
    "## these are in XUVTOP/em"
   ]
  },
  {
   "cell_type": "code",
   "execution_count": null,
   "id": "772a7594",
   "metadata": {},
   "outputs": [],
   "source": [
    "emDir = os.path.join(os.environ['XUVTOP'], 'em')"
   ]
  },
  {
   "cell_type": "code",
   "execution_count": null,
   "id": "fa468fed",
   "metadata": {},
   "outputs": [],
   "source": [
    "emList = os.listdir(emDir)"
   ]
  },
  {
   "cell_type": "code",
   "execution_count": null,
   "id": "6409b733",
   "metadata": {},
   "outputs": [],
   "source": [
    "for idx, em in enumerate(emList):\n",
    "    print(' %i  %s'%(idx, em))"
   ]
  },
  {
   "cell_type": "markdown",
   "id": "25f816d5",
   "metadata": {},
   "source": [
    "## at present, there are only 2 files, a quiet sun EM and an active EM\n",
    "\n",
    "## I will pick the active region EM"
   ]
  },
  {
   "cell_type": "code",
   "execution_count": null,
   "id": "4e607a5c",
   "metadata": {},
   "outputs": [],
   "source": [
    "emAR = chio.emRead(emList[1])"
   ]
  },
  {
   "cell_type": "code",
   "execution_count": null,
   "id": "9ae2dd2b",
   "metadata": {},
   "outputs": [],
   "source": [
    "emAR.keys()"
   ]
  },
  {
   "cell_type": "code",
   "execution_count": null,
   "id": "554c4cc6",
   "metadata": {},
   "outputs": [],
   "source": [
    "for idx, temp in enumerate(emAR['temperature']):\n",
    "    print(' %i  %10.2e  %10.2e  %10.2e'%(idx, temp, emAR['density'][idx], emAR['em'][idx]))"
   ]
  },
  {
   "cell_type": "markdown",
   "id": "00c5320f",
   "metadata": {},
   "source": [
    "## this is similar to one of the quick start examples but uses the EM distribution"
   ]
  },
  {
   "cell_type": "code",
   "execution_count": null,
   "id": "7c1182a2",
   "metadata": {},
   "outputs": [],
   "source": [
    "temp = emAR['temperature']\n",
    "dens = emAR['density']\n",
    "em = emAR['em']"
   ]
  },
  {
   "cell_type": "code",
   "execution_count": null,
   "id": "2dbd0627",
   "metadata": {},
   "outputs": [],
   "source": [
    "wvlRange = [300.,400]"
   ]
  },
  {
   "cell_type": "code",
   "execution_count": null,
   "id": "761d78b4",
   "metadata": {},
   "outputs": [],
   "source": [
    "dwvl = 0.01\n",
    "nwvl = int((wvlRange[1] - wvlRange[0])/dwvl + 1)"
   ]
  },
  {
   "cell_type": "code",
   "execution_count": null,
   "id": "b86f88c5",
   "metadata": {},
   "outputs": [],
   "source": [
    "wvl = np.linspace(wvlRange[0], wvlRange[1], nwvl)"
   ]
  },
  {
   "cell_type": "code",
   "execution_count": null,
   "id": "1c305126",
   "metadata": {},
   "outputs": [],
   "source": [
    "' wvl min:  %10.2f  wvl max %10.2f'%(wvl.min(), wvl.max())"
   ]
  },
  {
   "cell_type": "markdown",
   "id": "9c37e43a",
   "metadata": {},
   "source": [
    "### will use mspectrum to use multiple cores/processors"
   ]
  },
  {
   "cell_type": "code",
   "execution_count": null,
   "id": "ff00af54",
   "metadata": {},
   "outputs": [],
   "source": [
    "cores = 4"
   ]
  },
  {
   "cell_type": "code",
   "execution_count": null,
   "id": "6c3959d2",
   "metadata": {},
   "outputs": [],
   "source": [
    "sp = ch.mspectrum(temp, dens, wvl, filter = (chfilters.gaussian,30.*dwvl), em = em, doContinuum=0, minAbund=1.e-5,\n",
    "                  proc=cores)"
   ]
  },
  {
   "cell_type": "code",
   "execution_count": null,
   "id": "1fcd57a0",
   "metadata": {},
   "outputs": [],
   "source": [
    "sp.spectrumPlot(integrated=True)"
   ]
  },
  {
   "cell_type": "markdown",
   "id": "f580caaf",
   "metadata": {},
   "source": [
    "## save the calculations to a pickle file"
   ]
  },
  {
   "cell_type": "code",
   "execution_count": null,
   "id": "c2430e5e",
   "metadata": {},
   "outputs": [],
   "source": [
    "saveName = 'spectrum_demo_2.pkl'"
   ]
  },
  {
   "cell_type": "code",
   "execution_count": null,
   "id": "53119c2d",
   "metadata": {},
   "outputs": [],
   "source": [
    "sp.saveData(saveName)"
   ]
  },
  {
   "cell_type": "code",
   "execution_count": null,
   "id": "19b75109",
   "metadata": {},
   "outputs": [],
   "source": [
    "sp.Spectrum.keys()"
   ]
  },
  {
   "cell_type": "markdown",
   "id": "655147fe",
   "metadata": {},
   "source": [
    "## restore the calculations from the pickle file"
   ]
  },
  {
   "cell_type": "code",
   "execution_count": null,
   "id": "f5362863",
   "metadata": {},
   "outputs": [],
   "source": [
    "with open(saveName,'rb') as inpt:\n",
    "    spectrumDict = pickle.load(inpt)"
   ]
  },
  {
   "cell_type": "markdown",
   "id": "21547771",
   "metadata": {},
   "source": [
    "### examine what is in spectrumDict"
   ]
  },
  {
   "cell_type": "code",
   "execution_count": null,
   "id": "3fdcc260",
   "metadata": {},
   "outputs": [],
   "source": [
    "for akey in spectrumDict.keys():\n",
    "    print(' key:  %s'%(akey))"
   ]
  },
  {
   "cell_type": "code",
   "execution_count": null,
   "id": "a741109a",
   "metadata": {},
   "outputs": [],
   "source": [
    "spectrumDict['abundanceName']"
   ]
  },
  {
   "cell_type": "code",
   "execution_count": null,
   "id": "2507ff28",
   "metadata": {},
   "outputs": [],
   "source": [
    "spectrumDict['abundAll'].shape"
   ]
  },
  {
   "cell_type": "code",
   "execution_count": null,
   "id": "c2d4b9f0",
   "metadata": {},
   "outputs": [],
   "source": [
    "spectrumDict['defaults'].keys()"
   ]
  },
  {
   "cell_type": "code",
   "execution_count": null,
   "id": "8d1f6748",
   "metadata": {},
   "outputs": [],
   "source": [
    "spectrumDict['em'].shape"
   ]
  },
  {
   "cell_type": "code",
   "execution_count": null,
   "id": "1a9032df",
   "metadata": {},
   "outputs": [],
   "source": [
    "spectrumDict['spectrum'].keys()"
   ]
  },
  {
   "cell_type": "code",
   "execution_count": null,
   "id": "80eb9305",
   "metadata": {},
   "outputs": [],
   "source": [
    "spectrumDict['spectrum']['intensity'].shape"
   ]
  },
  {
   "cell_type": "code",
   "execution_count": null,
   "id": "c0789794",
   "metadata": {},
   "outputs": [],
   "source": [
    "spectrumDict['spectrum']['integrated'].shape"
   ]
  },
  {
   "cell_type": "code",
   "execution_count": null,
   "id": "973ffd5a",
   "metadata": {},
   "outputs": [],
   "source": [
    "spectrumDict['nTemp']"
   ]
  },
  {
   "cell_type": "code",
   "execution_count": null,
   "id": "1a88f9a6",
   "metadata": {},
   "outputs": [],
   "source": [
    "spectrumDict['nDens']"
   ]
  },
  {
   "cell_type": "code",
   "execution_count": null,
   "id": "d0981f0b",
   "metadata": {},
   "outputs": [],
   "source": [
    "spectrumDict['nTempDens']"
   ]
  },
  {
   "cell_type": "code",
   "execution_count": null,
   "id": "143931c7",
   "metadata": {},
   "outputs": [],
   "source": [
    "spectrumDict['spectrum']['wavelength'].min()"
   ]
  },
  {
   "cell_type": "code",
   "execution_count": null,
   "id": "38b74fdb",
   "metadata": {},
   "outputs": [],
   "source": [
    "spectrumDict['spectrum']['wavelength'].max()"
   ]
  },
  {
   "cell_type": "markdown",
   "id": "4e8b86d5",
   "metadata": {},
   "source": [
    "## make another plot of lines calculated in spectrum/mspectrum\n",
    "\n",
    "## there is more flexibility when working with the saveData dict"
   ]
  },
  {
   "cell_type": "code",
   "execution_count": null,
   "id": "e150a2ad",
   "metadata": {},
   "outputs": [],
   "source": [
    "fs = 10  # fontsize\n",
    "figsize = [7., 5.]"
   ]
  },
  {
   "cell_type": "code",
   "execution_count": null,
   "id": "a443b19c",
   "metadata": {},
   "outputs": [],
   "source": [
    "fig, ax = plt.subplots(figsize=figsize)"
   ]
  },
  {
   "cell_type": "code",
   "execution_count": null,
   "id": "c059e991",
   "metadata": {},
   "outputs": [],
   "source": [
    "ax.set_xlim(wvlRange)"
   ]
  },
  {
   "cell_type": "code",
   "execution_count": null,
   "id": "99028672",
   "metadata": {},
   "outputs": [],
   "source": [
    "ax.plot(spectrumDict['spectrum']['wavelength'], spectrumDict['spectrum']['integrated'])"
   ]
  },
  {
   "cell_type": "code",
   "execution_count": null,
   "id": "fd4499b4",
   "metadata": {},
   "outputs": [],
   "source": [
    "ax.set_xlabel(spectrumDict['xlabel'], fontsize=16)"
   ]
  },
  {
   "cell_type": "code",
   "execution_count": null,
   "id": "27c199e6",
   "metadata": {},
   "outputs": [],
   "source": [
    "ax.set_ylabel(spectrumDict['ylabel'], fontsize=16)"
   ]
  },
  {
   "cell_type": "code",
   "execution_count": null,
   "id": "64ede62d",
   "metadata": {
    "scrolled": true
   },
   "outputs": [],
   "source": [
    "fig.tight_layout()"
   ]
  },
  {
   "cell_type": "markdown",
   "id": "71a914ca",
   "metadata": {},
   "source": [
    "### try a narrower wavelength range"
   ]
  },
  {
   "cell_type": "code",
   "execution_count": null,
   "id": "f04d895c",
   "metadata": {},
   "outputs": [],
   "source": [
    "fig, ax = plt.subplots(figsize=figsize)"
   ]
  },
  {
   "cell_type": "code",
   "execution_count": null,
   "id": "41d506f0",
   "metadata": {},
   "outputs": [],
   "source": [
    "wvlRange = [330.,340.]"
   ]
  },
  {
   "cell_type": "code",
   "execution_count": null,
   "id": "4718405e",
   "metadata": {},
   "outputs": [],
   "source": [
    "ax.set_xlim(wvlRange)"
   ]
  },
  {
   "cell_type": "code",
   "execution_count": null,
   "id": "761e1941",
   "metadata": {},
   "outputs": [],
   "source": [
    "ax.plot(spectrumDict['spectrum']['wavelength'], spectrumDict['spectrum']['integrated'])"
   ]
  },
  {
   "cell_type": "code",
   "execution_count": null,
   "id": "012b6191",
   "metadata": {},
   "outputs": [],
   "source": [
    "ax.set_xlabel(spectrumDict['xlabel'], fontsize=16)"
   ]
  },
  {
   "cell_type": "code",
   "execution_count": null,
   "id": "91b1e4bc",
   "metadata": {},
   "outputs": [],
   "source": [
    "ax.set_ylabel(spectrumDict['ylabel'], fontsize=16)"
   ]
  },
  {
   "cell_type": "code",
   "execution_count": null,
   "id": "7231b4f1",
   "metadata": {
    "scrolled": true
   },
   "outputs": [],
   "source": [
    "fig.tight_layout()"
   ]
  },
  {
   "cell_type": "markdown",
   "id": "a65e80d9",
   "metadata": {},
   "source": [
    "## plot the spectrum and label the lines with 2 plots"
   ]
  },
  {
   "cell_type": "code",
   "execution_count": null,
   "id": "f5ac53c3",
   "metadata": {},
   "outputs": [],
   "source": [
    "figsize = [7., 10.]"
   ]
  },
  {
   "cell_type": "code",
   "execution_count": null,
   "id": "7746b9a5",
   "metadata": {},
   "outputs": [],
   "source": [
    "fig, (ax1, ax2) = plt.subplots(2,1 , figsize=figsize)"
   ]
  },
  {
   "cell_type": "code",
   "execution_count": null,
   "id": "90a76085",
   "metadata": {},
   "outputs": [],
   "source": [
    "wvlRange = [330.,340.]"
   ]
  },
  {
   "cell_type": "code",
   "execution_count": null,
   "id": "68dfe1ed",
   "metadata": {},
   "outputs": [],
   "source": [
    "ax1.set_xlim(wvlRange)"
   ]
  },
  {
   "cell_type": "code",
   "execution_count": null,
   "id": "cfd9b96f",
   "metadata": {},
   "outputs": [],
   "source": [
    "ax2.set_xlim(wvlRange)"
   ]
  },
  {
   "cell_type": "code",
   "execution_count": null,
   "id": "bb2fc1ec",
   "metadata": {},
   "outputs": [],
   "source": [
    "ax1.plot(spectrumDict['spectrum']['wavelength'], spectrumDict['spectrum']['integrated'], 'k', lw=2)"
   ]
  },
  {
   "cell_type": "code",
   "execution_count": null,
   "id": "2fd618e7",
   "metadata": {},
   "outputs": [],
   "source": [
    "ylim = ax1.get_ylim()"
   ]
  },
  {
   "cell_type": "code",
   "execution_count": null,
   "id": "5d63a838",
   "metadata": {},
   "outputs": [],
   "source": [
    "ylim"
   ]
  },
  {
   "cell_type": "code",
   "execution_count": null,
   "id": "5cbc548d",
   "metadata": {},
   "outputs": [],
   "source": [
    "ax1.set_ylim([0., ylim[1]])"
   ]
  },
  {
   "cell_type": "code",
   "execution_count": null,
   "id": "a523ad3f",
   "metadata": {},
   "outputs": [],
   "source": [
    "ax1.set_xlabel(spectrumDict['xlabel'], fontsize=16)"
   ]
  },
  {
   "cell_type": "code",
   "execution_count": null,
   "id": "0691ae5a",
   "metadata": {},
   "outputs": [],
   "source": [
    "ax1.set_ylabel(spectrumDict['ylabel'], fontsize=16)"
   ]
  },
  {
   "cell_type": "code",
   "execution_count": null,
   "id": "16dd9759",
   "metadata": {},
   "outputs": [],
   "source": [
    "ax1.plot(spectrumDict['spectrum']['wavelength'], spectrumDict['spectrum']['integrated'])"
   ]
  },
  {
   "cell_type": "code",
   "execution_count": null,
   "id": "e979fe83",
   "metadata": {},
   "outputs": [],
   "source": [
    "ax1.set_xlabel(spectrumDict['xlabel'], fontsize=16)"
   ]
  },
  {
   "cell_type": "code",
   "execution_count": null,
   "id": "41899028",
   "metadata": {},
   "outputs": [],
   "source": [
    "ax1.set_ylabel(spectrumDict['ylabel'], fontsize=16)"
   ]
  },
  {
   "cell_type": "markdown",
   "id": "2768db6b",
   "metadata": {},
   "source": [
    "### just plot the labels for the most intense lines, minIntensity could be set to zero"
   ]
  },
  {
   "cell_type": "code",
   "execution_count": null,
   "id": "6e7be7d0",
   "metadata": {},
   "outputs": [],
   "source": [
    "index = chutil.between(spectrumDict['intensity']['wvl'], wvlRange)"
   ]
  },
  {
   "cell_type": "code",
   "execution_count": null,
   "id": "372e1378",
   "metadata": {},
   "outputs": [],
   "source": [
    "len(index)"
   ]
  },
  {
   "cell_type": "markdown",
   "id": "687455dc",
   "metadata": {},
   "source": [
    "### set to whatever value works for you"
   ]
  },
  {
   "cell_type": "code",
   "execution_count": null,
   "id": "feef1e06",
   "metadata": {},
   "outputs": [],
   "source": [
    "minIntensity = spectrumDict['intensity']['integrated'][index].max()/50."
   ]
  },
  {
   "cell_type": "code",
   "execution_count": null,
   "id": "414fa868",
   "metadata": {},
   "outputs": [],
   "source": [
    "' %10.3e'%(minIntensity)"
   ]
  },
  {
   "cell_type": "code",
   "execution_count": null,
   "id": "ea55b212",
   "metadata": {},
   "outputs": [],
   "source": [
    "for idx in index:\n",
    "    wvl = spectrumDict['intensity']['wvl'][idx]    \n",
    "    integrated = spectrumDict['intensity']['integrated'][idx]\n",
    "    if integrated > minIntensity:\n",
    "        ax2.plot([wvl, wvl] , [0., integrated], 'k')"
   ]
  },
  {
   "cell_type": "code",
   "execution_count": null,
   "id": "6f790714",
   "metadata": {},
   "outputs": [],
   "source": [
    "ylim = ax2.get_ylim()"
   ]
  },
  {
   "cell_type": "code",
   "execution_count": null,
   "id": "f4a565f3",
   "metadata": {},
   "outputs": [],
   "source": [
    "ylim"
   ]
  },
  {
   "cell_type": "code",
   "execution_count": null,
   "id": "13e06d2e",
   "metadata": {},
   "outputs": [],
   "source": [
    "ax2.set_ylim([0., 1.5*ylim[1]])"
   ]
  },
  {
   "cell_type": "code",
   "execution_count": null,
   "id": "af32eb67",
   "metadata": {},
   "outputs": [],
   "source": [
    "for idx in index:\n",
    "    wvl = spectrumDict['intensity']['wvl'][idx]    \n",
    "    lbl = spectrumDict['intensity']['ionS'][idx] + ' %7.3f'%(wvl)\n",
    "    if spectrumDict['intensity']['integrated'][idx] > minIntensity:\n",
    "        ax2.text(wvl, 1.2*spectrumDict['intensity']['integrated'][idx], lbl, ha='center', rotation='vertical', fontsize=fs)"
   ]
  },
  {
   "cell_type": "code",
   "execution_count": null,
   "id": "3537bbe4",
   "metadata": {},
   "outputs": [],
   "source": [
    "ax2.set_xlabel(spectrumDict['xlabel'], fontsize=16)"
   ]
  },
  {
   "cell_type": "code",
   "execution_count": null,
   "id": "95dfcf38",
   "metadata": {},
   "outputs": [],
   "source": [
    "ax2.set_ylabel('Relative', fontsize=16)"
   ]
  },
  {
   "cell_type": "code",
   "execution_count": null,
   "id": "48f938ca",
   "metadata": {
    "scrolled": true
   },
   "outputs": [],
   "source": [
    "fig.tight_layout()"
   ]
  },
  {
   "cell_type": "markdown",
   "id": "f4f3ca9a",
   "metadata": {},
   "source": [
    "## plot the spectrum and label the lines in a single plot"
   ]
  },
  {
   "cell_type": "code",
   "execution_count": null,
   "id": "a715ddfe",
   "metadata": {},
   "outputs": [],
   "source": [
    "figsize = [7., 7.]"
   ]
  },
  {
   "cell_type": "code",
   "execution_count": null,
   "id": "7707064a",
   "metadata": {},
   "outputs": [],
   "source": [
    "fig, ax1 = plt.subplots(figsize=figsize)"
   ]
  },
  {
   "cell_type": "code",
   "execution_count": null,
   "id": "61a6f16a",
   "metadata": {},
   "outputs": [],
   "source": [
    "wvlRange = [330.,340.]"
   ]
  },
  {
   "cell_type": "code",
   "execution_count": null,
   "id": "6bd8f2ed",
   "metadata": {},
   "outputs": [],
   "source": [
    "ax1.set_xlim(wvlRange)"
   ]
  },
  {
   "cell_type": "code",
   "execution_count": null,
   "id": "e440b300",
   "metadata": {},
   "outputs": [],
   "source": [
    "ax2.set_xlim(wvlRange)"
   ]
  },
  {
   "cell_type": "code",
   "execution_count": null,
   "id": "99900492",
   "metadata": {},
   "outputs": [],
   "source": [
    "ax1.plot(spectrumDict['spectrum']['wavelength'], spectrumDict['spectrum']['integrated'])"
   ]
  },
  {
   "cell_type": "code",
   "execution_count": null,
   "id": "4e44b9b3",
   "metadata": {},
   "outputs": [],
   "source": [
    "ax1.set_xlabel(spectrumDict['xlabel'], fontsize=16)"
   ]
  },
  {
   "cell_type": "code",
   "execution_count": null,
   "id": "844e252d",
   "metadata": {},
   "outputs": [],
   "source": [
    "ax1.set_ylabel(spectrumDict['ylabel'], fontsize=16)"
   ]
  },
  {
   "cell_type": "code",
   "execution_count": null,
   "id": "01039b10",
   "metadata": {},
   "outputs": [],
   "source": [
    "ax1.plot(spectrumDict['spectrum']['wavelength'], spectrumDict['spectrum']['integrated'])"
   ]
  },
  {
   "cell_type": "code",
   "execution_count": null,
   "id": "60a50922",
   "metadata": {},
   "outputs": [],
   "source": [
    "ax1.set_xlabel(spectrumDict['xlabel'], fontsize=16)"
   ]
  },
  {
   "cell_type": "code",
   "execution_count": null,
   "id": "0974be86",
   "metadata": {},
   "outputs": [],
   "source": [
    "ax1.set_ylabel(spectrumDict['ylabel'], fontsize=16)"
   ]
  },
  {
   "cell_type": "markdown",
   "id": "55370df8",
   "metadata": {},
   "source": [
    "### just plot the labels for the most intense lines, minIntensity could be set to zero"
   ]
  },
  {
   "cell_type": "code",
   "execution_count": null,
   "id": "17a955aa",
   "metadata": {},
   "outputs": [],
   "source": [
    "intIndex = chutil.between(spectrumDict['intensity']['wvl'], wvlRange)"
   ]
  },
  {
   "cell_type": "code",
   "execution_count": null,
   "id": "e116d45c",
   "metadata": {},
   "outputs": [],
   "source": [
    "len(intIndex)"
   ]
  },
  {
   "cell_type": "code",
   "execution_count": null,
   "id": "b645d22a",
   "metadata": {},
   "outputs": [],
   "source": [
    "spIndex = chutil.between(spectrumDict['spectrum']['wavelength'], wvlRange)"
   ]
  },
  {
   "cell_type": "code",
   "execution_count": null,
   "id": "d1b766ad",
   "metadata": {},
   "outputs": [],
   "source": [
    "len(spIndex)"
   ]
  },
  {
   "cell_type": "code",
   "execution_count": null,
   "id": "7d60f3ae",
   "metadata": {},
   "outputs": [],
   "source": [
    "minIntensity1 = spectrumDict['spectrum']['integrated'][spIndex].max()/50."
   ]
  },
  {
   "cell_type": "code",
   "execution_count": null,
   "id": "d1f8abc0",
   "metadata": {},
   "outputs": [],
   "source": [
    "' %10.3e'%(minIntensity1)"
   ]
  },
  {
   "cell_type": "code",
   "execution_count": null,
   "id": "f72ec8a7",
   "metadata": {},
   "outputs": [],
   "source": [
    "minIntensity2 = spectrumDict['intensity']['integrated'][intIndex].max()/20."
   ]
  },
  {
   "cell_type": "code",
   "execution_count": null,
   "id": "dbb3c787",
   "metadata": {
    "scrolled": true
   },
   "outputs": [],
   "source": [
    "' %10.3e'%(minIntensity2)"
   ]
  },
  {
   "cell_type": "code",
   "execution_count": null,
   "id": "265f811d",
   "metadata": {},
   "outputs": [],
   "source": [
    "maxIntensity1 = spectrumDict['spectrum']['integrated'][spIndex].max()"
   ]
  },
  {
   "cell_type": "code",
   "execution_count": null,
   "id": "a573eee5",
   "metadata": {},
   "outputs": [],
   "source": [
    "' %10.3e'%(maxIntensity1)"
   ]
  },
  {
   "cell_type": "code",
   "execution_count": null,
   "id": "9204530f",
   "metadata": {},
   "outputs": [],
   "source": [
    "maxIntensity2 = spectrumDict['intensity']['integrated'][intIndex].max()"
   ]
  },
  {
   "cell_type": "code",
   "execution_count": null,
   "id": "30b69e3b",
   "metadata": {
    "scrolled": true
   },
   "outputs": [],
   "source": [
    "' %10.3e'%(maxIntensity2)"
   ]
  },
  {
   "cell_type": "code",
   "execution_count": null,
   "id": "5e835274",
   "metadata": {},
   "outputs": [],
   "source": [
    "scaleFactor = 1.1*maxIntensity1/maxIntensity2"
   ]
  },
  {
   "cell_type": "code",
   "execution_count": null,
   "id": "02e3439c",
   "metadata": {},
   "outputs": [],
   "source": [
    "scaleFactor"
   ]
  },
  {
   "cell_type": "code",
   "execution_count": null,
   "id": "fe0adc90",
   "metadata": {},
   "outputs": [],
   "source": [
    "for idx in index:\n",
    "    wvl = spectrumDict['intensity']['wvl'][idx]    \n",
    "    integrated = spectrumDict['intensity']['integrated'][idx]\n",
    "    if integrated > minIntensity2:\n",
    "        ax1.plot([wvl, wvl] , [0., scaleFactor*integrated], 'k')"
   ]
  },
  {
   "cell_type": "code",
   "execution_count": null,
   "id": "f9ace5d9",
   "metadata": {},
   "outputs": [],
   "source": [
    "for idx in index:\n",
    "    wvl = spectrumDict['intensity']['wvl'][idx]    \n",
    "    lbl = spectrumDict['intensity']['ionS'][idx] + ' %7.3f'%(wvl)\n",
    "    if spectrumDict['intensity']['integrated'][idx] > minIntensity1:\n",
    "        ax1.text(wvl, scaleFactor*spectrumDict['intensity']['integrated'][idx], lbl, ha='center', rotation='vertical', fontsize=fs)"
   ]
  },
  {
   "cell_type": "code",
   "execution_count": null,
   "id": "caa04a4c",
   "metadata": {},
   "outputs": [],
   "source": [
    "ylim = ax1.get_ylim()"
   ]
  },
  {
   "cell_type": "code",
   "execution_count": null,
   "id": "c06f7a4d",
   "metadata": {},
   "outputs": [],
   "source": [
    "ylim"
   ]
  },
  {
   "cell_type": "code",
   "execution_count": null,
   "id": "fc37e072",
   "metadata": {},
   "outputs": [],
   "source": [
    "ax1.set_ylim([0., scaleFactor*ylim[1]])"
   ]
  },
  {
   "cell_type": "code",
   "execution_count": null,
   "id": "72fb9db9",
   "metadata": {
    "scrolled": true
   },
   "outputs": [],
   "source": [
    "fig.tight_layout()"
   ]
  },
  {
   "cell_type": "code",
   "execution_count": null,
   "id": "4e77899c",
   "metadata": {},
   "outputs": [],
   "source": []
  }
 ],
 "metadata": {
  "kernelspec": {
   "display_name": "Python 3.8 (ipykernel)",
   "language": "python",
   "name": "python3.8"
  },
  "language_info": {
   "codemirror_mode": {
    "name": "ipython",
    "version": 3
   },
   "file_extension": ".py",
   "mimetype": "text/x-python",
   "name": "python",
   "nbconvert_exporter": "python",
   "pygments_lexer": "ipython3",
   "version": "3.8.12"
  },
  "varInspector": {
   "cols": {
    "lenName": 16,
    "lenType": 16,
    "lenVar": 40
   },
   "kernels_config": {
    "python": {
     "delete_cmd_postfix": "",
     "delete_cmd_prefix": "del ",
     "library": "var_list.py",
     "varRefreshCmd": "print(var_dic_list())"
    },
    "r": {
     "delete_cmd_postfix": ") ",
     "delete_cmd_prefix": "rm(",
     "library": "var_list.r",
     "varRefreshCmd": "cat(var_dic_list()) "
    }
   },
   "types_to_exclude": [
    "module",
    "function",
    "builtin_function_or_method",
    "instance",
    "_Feature"
   ],
   "window_display": false
  }
 },
 "nbformat": 4,
 "nbformat_minor": 5
}
